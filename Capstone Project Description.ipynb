{
    "cells": [
        {
            "cell_type": "markdown",
            "metadata": {
                "collapsed": true
            },
            "source": "# 1. Discussion and Background of the Business Problem:"
        },
        {
            "cell_type": "markdown",
            "metadata": {},
            "source": "### London Shopping Mall"
        },
        {
            "cell_type": "markdown",
            "metadata": {},
            "source": "## Introduction Section"
        },
        {
            "cell_type": "markdown",
            "metadata": {},
            "source": "This final project explores the best locations for building a Shopping Mall in the city of London. London is the capital and largest city of England and the United Kingdom with more than 8.9 million population as of 2019.London has a long history of international immigration. It attracts a lot of visitors every year.London has an amazing array of places to shop till you drop and For many shoppers, visiting shopping malls is a great way to relax and enjoy themselves during weekends and holidays. With this demand, property developers are moving towards building more Shopping Malls."
        },
        {
            "cell_type": "markdown",
            "metadata": {},
            "source": "# 2 A description of the data and how it will be used to solve the problem."
        },
        {
            "cell_type": "markdown",
            "metadata": {},
            "source": "## Data"
        },
        {
            "cell_type": "markdown",
            "metadata": {},
            "source": "For this project we need the following data:"
        },
        {
            "cell_type": "markdown",
            "metadata": {},
            "source": "1. London data that consist of the 32 Boroughs, Neighborhoods along with there latitude and longitudes."
        },
        {
            "cell_type": "markdown",
            "metadata": {},
            "source": ".Description: This dataset contains the required informations and we will use it to explore various neighborhoods in the London City."
        },
        {
            "cell_type": "markdown",
            "metadata": {},
            "source": "Data Link:https://en.wikipedia.org/wiki/List_of_places_in_London"
        },
        {
            "cell_type": "markdown",
            "metadata": {},
            "source": "Data Source: Foursquare API"
        },
        {
            "cell_type": "markdown",
            "metadata": {},
            "source": "Description: By using this API we will get all the venues in the Queens neighborhood. We can filter these venues to get only Indian restaurants."
        },
        {
            "cell_type": "markdown",
            "metadata": {},
            "source": "# Target Audience"
        },
        {
            "cell_type": "markdown",
            "metadata": {},
            "source": "1) Property developers who wants to invest or builds shopping Malls."
        },
        {
            "cell_type": "markdown",
            "metadata": {},
            "source": "2) An investor who wants to invest wisely"
        },
        {
            "cell_type": "markdown",
            "metadata": {},
            "source": "3) Finding the best location for opening a Shopping"
        },
        {
            "cell_type": "code",
            "execution_count": null,
            "metadata": {},
            "outputs": [],
            "source": ""
        }
    ],
    "metadata": {
        "kernelspec": {
            "display_name": "Python 3.7",
            "language": "python",
            "name": "python3"
        },
        "language_info": {
            "codemirror_mode": {
                "name": "ipython",
                "version": 3
            },
            "file_extension": ".py",
            "mimetype": "text/x-python",
            "name": "python",
            "nbconvert_exporter": "python",
            "pygments_lexer": "ipython3",
            "version": "3.7.9"
        }
    },
    "nbformat": 4,
    "nbformat_minor": 1
}