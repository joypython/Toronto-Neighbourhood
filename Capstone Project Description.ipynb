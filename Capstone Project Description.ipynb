{
    "cells": [
        {
            "metadata": {
                "collapsed": true
            },
            "cell_type": "markdown",
            "source": "# 1. Discussion and Background of the Business Problem:"
        },
        {
            "metadata": {},
            "cell_type": "markdown",
            "source": "### London Shopping Mall"
        },
        {
            "metadata": {},
            "cell_type": "markdown",
            "source": "## Introduction Section"
        },
        {
            "metadata": {},
            "cell_type": "markdown",
            "source": "This final project explores the best locations for building a Shopping Mall in the city of London. London is the capital and largest city of England and the United Kingdom with more than 8.9 million population as of 2019.London has a long history of international immigration. It attracts a lot of visitors every year.London has an amazing array of places to shop till you drop and For many shoppers, visiting shopping malls is a great way to relax and enjoy themselves during weekends and holidays. With this demand, property developers are moving towards building more Shopping Malls."
        },
        {
            "metadata": {},
            "cell_type": "markdown",
            "source": "# 2 A description of the data and how it will be used to solve the problem."
        },
        {
            "metadata": {},
            "cell_type": "markdown",
            "source": "## Data"
        },
        {
            "metadata": {},
            "cell_type": "markdown",
            "source": "For this project we need the following data:"
        },
        {
            "metadata": {},
            "cell_type": "markdown",
            "source": "1. London data that consist of the 32 Boroughs, Neighborhoods along with there latitude and longitudes."
        },
        {
            "metadata": {},
            "cell_type": "markdown",
            "source": ".Description: This dataset contains the required informations and we will use it to explore various neighborhoods in the London City."
        },
        {
            "metadata": {},
            "cell_type": "markdown",
            "source": "Data Link:https://en.wikipedia.org/wiki/List_of_places_in_London"
        },
        {
            "metadata": {},
            "cell_type": "markdown",
            "source": "Data Source: Foursquare API"
        },
        {
            "metadata": {},
            "cell_type": "markdown",
            "source": "Description: By using this API we will get all the venues in the Queens neighborhood. We can filter these venues to get only Indian restaurants."
        },
        {
            "metadata": {},
            "cell_type": "markdown",
            "source": "# Target Audience"
        },
        {
            "metadata": {},
            "cell_type": "markdown",
            "source": "1) Property developers who wants to invest or builds shopping Malls."
        },
        {
            "metadata": {},
            "cell_type": "markdown",
            "source": "2) An investor who wants to invest wisely"
        },
        {
            "metadata": {},
            "cell_type": "markdown",
            "source": "3) Finding the best location for opening a Shopping"
        },
        {
            "metadata": {},
            "cell_type": "code",
            "source": "",
            "execution_count": null,
            "outputs": []
        }
    ],
    "metadata": {
        "kernelspec": {
            "name": "python3",
            "display_name": "Python 3.7",
            "language": "python"
        },
        "language_info": {
            "name": "python",
            "version": "3.7.9",
            "mimetype": "text/x-python",
            "codemirror_mode": {
                "name": "ipython",
                "version": 3
            },
            "pygments_lexer": "ipython3",
            "nbconvert_exporter": "python",
            "file_extension": ".py"
        }
    },
    "nbformat": 4,
    "nbformat_minor": 1
}