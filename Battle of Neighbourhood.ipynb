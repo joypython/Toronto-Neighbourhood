{
    "cells": [
        {
            "cell_type": "markdown",
            "metadata": {},
            "source": "# Capstone Project \u2014 The Battle of Neighborhoods- The London Insight"
        },
        {
            "cell_type": "markdown",
            "metadata": {},
            "source": "### Setting up a shopping mall in London Neigbourhood, United Kingdom."
        },
        {
            "cell_type": "markdown",
            "metadata": {},
            "source": "## 1 Introduction"
        },
        {
            "cell_type": "markdown",
            "metadata": {},
            "source": "London is the capital and largest city of England and the United Kingdom.There really isn\u2019t any shopping experience quite like London. London offers several distinct shopping areas, streets, outlets and malls The population of London has grown considerably over the last decades and for many visiting, shopping mall is a perfect way to relax and enjoy themselves. This present a good businness opporturnity for a property development company that wants to invest on opening new shopping mall."
        },
        {
            "cell_type": "markdown",
            "metadata": {},
            "source": "## Business Problem"
        },
        {
            "cell_type": "markdown",
            "metadata": {},
            "source": "The purpose of this capstone project is to help prospective property developers explore the best locations arround london Boroughs. it will help them make efficient decision on selecting best neighborhood to open new shopping mall."
        },
        {
            "cell_type": "markdown",
            "metadata": {},
            "source": "## Methodology"
        },
        {
            "cell_type": "markdown",
            "metadata": {},
            "source": "For this project we are going to use the K-means Clustering algorithm to cluster the neighborhoods and focused on geospatial analysis of the London to understand which would be the best neighborhoods to open a new mall. Foursquare API to provide different venue categories. The business question is: In London, if a property developer is looking to open a new shopping mall, where would you recommend that they open it?"
        },
        {
            "cell_type": "markdown",
            "metadata": {},
            "source": "## Data Section"
        },
        {
            "cell_type": "markdown",
            "metadata": {},
            "source": "Data Link:https://en.wikipedia.org/wiki/List_of_places_in_London"
        },
        {
            "cell_type": "markdown",
            "metadata": {},
            "source": "#### we import the necessary libraries"
        },
        {
            "cell_type": "code",
            "execution_count": 1,
            "metadata": {},
            "outputs": [
                {
                    "name": "stdout",
                    "output_type": "stream",
                    "text": "Requirement already satisfied: geocoder in /opt/conda/envs/Python-3.7-main/lib/python3.7/site-packages (1.38.1)\nRequirement already satisfied: ratelim in /opt/conda/envs/Python-3.7-main/lib/python3.7/site-packages (from geocoder) (0.1.6)\nRequirement already satisfied: click in /opt/conda/envs/Python-3.7-main/lib/python3.7/site-packages (from geocoder) (7.1.2)\nRequirement already satisfied: future in /opt/conda/envs/Python-3.7-main/lib/python3.7/site-packages (from geocoder) (0.18.2)\nRequirement already satisfied: requests in /opt/conda/envs/Python-3.7-main/lib/python3.7/site-packages (from geocoder) (2.24.0)\nRequirement already satisfied: six in /opt/conda/envs/Python-3.7-main/lib/python3.7/site-packages (from geocoder) (1.15.0)\nRequirement already satisfied: decorator in /opt/conda/envs/Python-3.7-main/lib/python3.7/site-packages (from ratelim->geocoder) (4.4.2)\nRequirement already satisfied: chardet<4,>=3.0.2 in /opt/conda/envs/Python-3.7-main/lib/python3.7/site-packages (from requests->geocoder) (3.0.4)\nRequirement already satisfied: urllib3!=1.25.0,!=1.25.1,<1.26,>=1.21.1 in /opt/conda/envs/Python-3.7-main/lib/python3.7/site-packages (from requests->geocoder) (1.25.9)\nRequirement already satisfied: certifi>=2017.4.17 in /opt/conda/envs/Python-3.7-main/lib/python3.7/site-packages (from requests->geocoder) (2020.12.5)\nRequirement already satisfied: idna<3,>=2.5 in /opt/conda/envs/Python-3.7-main/lib/python3.7/site-packages (from requests->geocoder) (2.9)\nRequirement already satisfied: folium in /opt/conda/envs/Python-3.7-main/lib/python3.7/site-packages (0.12.0)\nRequirement already satisfied: jinja2>=2.9 in /opt/conda/envs/Python-3.7-main/lib/python3.7/site-packages (from folium) (2.11.2)\nRequirement already satisfied: branca>=0.3.0 in /opt/conda/envs/Python-3.7-main/lib/python3.7/site-packages (from folium) (0.4.2)\nRequirement already satisfied: numpy in /opt/conda/envs/Python-3.7-main/lib/python3.7/site-packages (from folium) (1.18.5)\nRequirement already satisfied: requests in /opt/conda/envs/Python-3.7-main/lib/python3.7/site-packages (from folium) (2.24.0)\nRequirement already satisfied: MarkupSafe>=0.23 in /opt/conda/envs/Python-3.7-main/lib/python3.7/site-packages (from jinja2>=2.9->folium) (1.1.1)\nRequirement already satisfied: idna<3,>=2.5 in /opt/conda/envs/Python-3.7-main/lib/python3.7/site-packages (from requests->folium) (2.9)\nRequirement already satisfied: urllib3!=1.25.0,!=1.25.1,<1.26,>=1.21.1 in /opt/conda/envs/Python-3.7-main/lib/python3.7/site-packages (from requests->folium) (1.25.9)\nRequirement already satisfied: chardet<4,>=3.0.2 in /opt/conda/envs/Python-3.7-main/lib/python3.7/site-packages (from requests->folium) (3.0.4)\nRequirement already satisfied: certifi>=2017.4.17 in /opt/conda/envs/Python-3.7-main/lib/python3.7/site-packages (from requests->folium) (2020.12.5)\nLibraries imported.\n"
                }
            ],
            "source": "import numpy as np # library to handle data in a vectorized manner\n\nimport pandas as pd # library for data analsysis\npd.set_option('display.max_columns', None)\npd.set_option('display.max_rows', None)\n\nimport json # library to handle JSON files\n\n#!conda install -c conda-forge geopy --yes # uncomment this line if you haven't completed the Foursquare API lab\n!pip install geocoder\nfrom geopy.geocoders import Nominatim # convert an address into latitude and longitude values\n\nimport requests # library to handle requests\nfrom pandas.io.json import json_normalize # tranform JSON file into a pandas dataframe\n\n# Matplotlib and associated plotting modules\nimport matplotlib.cm as cm\nimport matplotlib.colors as colors\n\n# import k-means from clustering stage\nfrom sklearn.cluster import KMeans\nfrom bs4 import BeautifulSoup\n\n!pip install folium\nimport folium # map rendering library\n\nprint('Libraries imported.')\n"
        },
        {
            "cell_type": "markdown",
            "metadata": {},
            "source": "#### Download the wikppedia page to extract the necessary informations"
        },
        {
            "cell_type": "code",
            "execution_count": 2,
            "metadata": {},
            "outputs": [],
            "source": "url = 'https://en.wikipedia.org/wiki/List_of_places_in_London'"
        },
        {
            "cell_type": "code",
            "execution_count": 3,
            "metadata": {},
            "outputs": [],
            "source": "tables = pd.read_html(url)"
        },
        {
            "cell_type": "code",
            "execution_count": 4,
            "metadata": {},
            "outputs": [
                {
                    "data": {
                        "text/plain": "3"
                    },
                    "execution_count": 4,
                    "metadata": {},
                    "output_type": "execute_result"
                }
            ],
            "source": "len(tables)"
        },
        {
            "cell_type": "code",
            "execution_count": 5,
            "metadata": {},
            "outputs": [
                {
                    "data": {
                        "text/html": "<div>\n<style scoped>\n    .dataframe tbody tr th:only-of-type {\n        vertical-align: middle;\n    }\n\n    .dataframe tbody tr th {\n        vertical-align: top;\n    }\n\n    .dataframe thead th {\n        text-align: right;\n    }\n</style>\n<table border=\"1\" class=\"dataframe\">\n  <thead>\n    <tr style=\"text-align: right;\">\n      <th></th>\n      <th>Unnamed: 0</th>\n      <th>London borough</th>\n      <th>Inner/Outer</th>\n      <th>Sub-region[1]</th>\n      <th>London Assembly[2]</th>\n    </tr>\n  </thead>\n  <tbody>\n    <tr>\n      <th>0</th>\n      <td>NaN</td>\n      <td>Barking and Dagenham</td>\n      <td>Outer</td>\n      <td>North East</td>\n      <td>City and East</td>\n    </tr>\n    <tr>\n      <th>1</th>\n      <td>NaN</td>\n      <td>Barnet</td>\n      <td>Outer</td>\n      <td>North</td>\n      <td>Barnet and Camden</td>\n    </tr>\n    <tr>\n      <th>2</th>\n      <td>NaN</td>\n      <td>Bexley</td>\n      <td>Outer</td>\n      <td>South East</td>\n      <td>Bexley and Bromley</td>\n    </tr>\n    <tr>\n      <th>3</th>\n      <td>NaN</td>\n      <td>Brent</td>\n      <td>Outer</td>\n      <td>West</td>\n      <td>Brent and Harrow</td>\n    </tr>\n    <tr>\n      <th>4</th>\n      <td>NaN</td>\n      <td>Bromley</td>\n      <td>Outer</td>\n      <td>South East</td>\n      <td>Bexley and Bromley</td>\n    </tr>\n    <tr>\n      <th>5</th>\n      <td>NaN</td>\n      <td>Camden</td>\n      <td>Inner</td>\n      <td>North</td>\n      <td>Barnet and Camden</td>\n    </tr>\n    <tr>\n      <th>6</th>\n      <td>NaN</td>\n      <td>Croydon</td>\n      <td>Outer</td>\n      <td>South West</td>\n      <td>Croydon and Sutton</td>\n    </tr>\n    <tr>\n      <th>7</th>\n      <td>NaN</td>\n      <td>Ealing</td>\n      <td>Outer</td>\n      <td>West</td>\n      <td>Ealing and Hillingdon</td>\n    </tr>\n    <tr>\n      <th>8</th>\n      <td>NaN</td>\n      <td>Enfield</td>\n      <td>Outer</td>\n      <td>North</td>\n      <td>Enfield and Haringey</td>\n    </tr>\n    <tr>\n      <th>9</th>\n      <td>NaN</td>\n      <td>Greenwich</td>\n      <td>Inner \u2020</td>\n      <td>South East</td>\n      <td>Greenwich and Lewisham</td>\n    </tr>\n    <tr>\n      <th>10</th>\n      <td>NaN</td>\n      <td>Hackney</td>\n      <td>Inner</td>\n      <td>North</td>\n      <td>North East</td>\n    </tr>\n    <tr>\n      <th>11</th>\n      <td>NaN</td>\n      <td>Hammersmith and Fulham</td>\n      <td>Inner</td>\n      <td>West</td>\n      <td>West Central</td>\n    </tr>\n    <tr>\n      <th>12</th>\n      <td>NaN</td>\n      <td>Haringey</td>\n      <td>Outer *</td>\n      <td>North</td>\n      <td>Enfield and Haringey</td>\n    </tr>\n    <tr>\n      <th>13</th>\n      <td>NaN</td>\n      <td>Harrow</td>\n      <td>Outer</td>\n      <td>North West</td>\n      <td>Brent and Harrow</td>\n    </tr>\n    <tr>\n      <th>14</th>\n      <td>NaN</td>\n      <td>Havering</td>\n      <td>Outer</td>\n      <td>North East</td>\n      <td>Havering and Redbridge</td>\n    </tr>\n    <tr>\n      <th>15</th>\n      <td>NaN</td>\n      <td>Hillingdon</td>\n      <td>Outer</td>\n      <td>West</td>\n      <td>Ealing and Hillingdon</td>\n    </tr>\n    <tr>\n      <th>16</th>\n      <td>NaN</td>\n      <td>Hounslow</td>\n      <td>Outer</td>\n      <td>West</td>\n      <td>South West</td>\n    </tr>\n    <tr>\n      <th>17</th>\n      <td>NaN</td>\n      <td>Islington</td>\n      <td>Inner</td>\n      <td>North</td>\n      <td>North East</td>\n    </tr>\n    <tr>\n      <th>18</th>\n      <td>NaN</td>\n      <td>Kensington and Chelsea</td>\n      <td>Inner</td>\n      <td>West</td>\n      <td>West Central</td>\n    </tr>\n    <tr>\n      <th>19</th>\n      <td>NaN</td>\n      <td>Kingston upon Thames</td>\n      <td>Outer</td>\n      <td>South West</td>\n      <td>South West</td>\n    </tr>\n    <tr>\n      <th>20</th>\n      <td>NaN</td>\n      <td>Lambeth</td>\n      <td>Inner</td>\n      <td>South West</td>\n      <td>Lambeth and Southwark</td>\n    </tr>\n    <tr>\n      <th>21</th>\n      <td>NaN</td>\n      <td>Lewisham</td>\n      <td>Inner</td>\n      <td>South East</td>\n      <td>Greenwich and Lewisham</td>\n    </tr>\n    <tr>\n      <th>22</th>\n      <td>NaN</td>\n      <td>Merton</td>\n      <td>Outer</td>\n      <td>South West</td>\n      <td>Merton and Wandsworth</td>\n    </tr>\n    <tr>\n      <th>23</th>\n      <td>NaN</td>\n      <td>Newham</td>\n      <td>Outer *</td>\n      <td>North East</td>\n      <td>City and East</td>\n    </tr>\n    <tr>\n      <th>24</th>\n      <td>NaN</td>\n      <td>Redbridge</td>\n      <td>Outer</td>\n      <td>North East</td>\n      <td>Havering and Redbridge</td>\n    </tr>\n    <tr>\n      <th>25</th>\n      <td>NaN</td>\n      <td>Richmond upon Thames</td>\n      <td>Outer</td>\n      <td>South West</td>\n      <td>South West</td>\n    </tr>\n    <tr>\n      <th>26</th>\n      <td>NaN</td>\n      <td>Southwark</td>\n      <td>Inner</td>\n      <td>South East</td>\n      <td>Lambeth and Southwark</td>\n    </tr>\n    <tr>\n      <th>27</th>\n      <td>NaN</td>\n      <td>Sutton</td>\n      <td>Outer</td>\n      <td>South West</td>\n      <td>Croydon and Sutton</td>\n    </tr>\n    <tr>\n      <th>28</th>\n      <td>NaN</td>\n      <td>Tower Hamlets</td>\n      <td>Inner</td>\n      <td>North East</td>\n      <td>City and East</td>\n    </tr>\n    <tr>\n      <th>29</th>\n      <td>NaN</td>\n      <td>Waltham Forest</td>\n      <td>Outer</td>\n      <td>North East</td>\n      <td>North East</td>\n    </tr>\n    <tr>\n      <th>30</th>\n      <td>NaN</td>\n      <td>Wandsworth</td>\n      <td>Inner</td>\n      <td>South West</td>\n      <td>Merton and Wandsworth</td>\n    </tr>\n    <tr>\n      <th>31</th>\n      <td>NaN</td>\n      <td>Westminster</td>\n      <td>Inner</td>\n      <td>West</td>\n      <td>West Central</td>\n    </tr>\n  </tbody>\n</table>\n</div>",
                        "text/plain": "    Unnamed: 0          London borough Inner/Outer Sub-region[1]  \\\n0          NaN    Barking and Dagenham       Outer    North East   \n1          NaN                  Barnet       Outer         North   \n2          NaN                  Bexley       Outer    South East   \n3          NaN                   Brent       Outer          West   \n4          NaN                 Bromley       Outer    South East   \n5          NaN                  Camden       Inner         North   \n6          NaN                 Croydon       Outer    South West   \n7          NaN                  Ealing       Outer          West   \n8          NaN                 Enfield       Outer         North   \n9          NaN               Greenwich     Inner \u2020    South East   \n10         NaN                 Hackney       Inner         North   \n11         NaN  Hammersmith and Fulham       Inner          West   \n12         NaN                Haringey     Outer *         North   \n13         NaN                  Harrow       Outer    North West   \n14         NaN                Havering       Outer    North East   \n15         NaN              Hillingdon       Outer          West   \n16         NaN                Hounslow       Outer          West   \n17         NaN               Islington       Inner         North   \n18         NaN  Kensington and Chelsea       Inner          West   \n19         NaN    Kingston upon Thames       Outer    South West   \n20         NaN                 Lambeth       Inner    South West   \n21         NaN                Lewisham       Inner    South East   \n22         NaN                  Merton       Outer    South West   \n23         NaN                  Newham     Outer *    North East   \n24         NaN               Redbridge       Outer    North East   \n25         NaN    Richmond upon Thames       Outer    South West   \n26         NaN               Southwark       Inner    South East   \n27         NaN                  Sutton       Outer    South West   \n28         NaN           Tower Hamlets       Inner    North East   \n29         NaN          Waltham Forest       Outer    North East   \n30         NaN              Wandsworth       Inner    South West   \n31         NaN             Westminster       Inner          West   \n\n        London Assembly[2]  \n0            City and East  \n1        Barnet and Camden  \n2       Bexley and Bromley  \n3         Brent and Harrow  \n4       Bexley and Bromley  \n5        Barnet and Camden  \n6       Croydon and Sutton  \n7    Ealing and Hillingdon  \n8     Enfield and Haringey  \n9   Greenwich and Lewisham  \n10              North East  \n11            West Central  \n12    Enfield and Haringey  \n13        Brent and Harrow  \n14  Havering and Redbridge  \n15   Ealing and Hillingdon  \n16              South West  \n17              North East  \n18            West Central  \n19              South West  \n20   Lambeth and Southwark  \n21  Greenwich and Lewisham  \n22   Merton and Wandsworth  \n23           City and East  \n24  Havering and Redbridge  \n25              South West  \n26   Lambeth and Southwark  \n27      Croydon and Sutton  \n28           City and East  \n29              North East  \n30   Merton and Wandsworth  \n31            West Central  "
                    },
                    "execution_count": 5,
                    "metadata": {},
                    "output_type": "execute_result"
                }
            ],
            "source": "tables[0]"
        },
        {
            "cell_type": "code",
            "execution_count": 6,
            "metadata": {},
            "outputs": [],
            "source": "df_table = tables[0]"
        },
        {
            "cell_type": "markdown",
            "metadata": {},
            "source": "Drop the unnecessary columns"
        },
        {
            "cell_type": "code",
            "execution_count": 7,
            "metadata": {},
            "outputs": [],
            "source": "df_table = df_table.drop(['Unnamed: 0','Inner/Outer','Sub-region[1]','London Assembly[2]'], axis=1)"
        },
        {
            "cell_type": "code",
            "execution_count": 8,
            "metadata": {},
            "outputs": [
                {
                    "data": {
                        "text/html": "<div>\n<style scoped>\n    .dataframe tbody tr th:only-of-type {\n        vertical-align: middle;\n    }\n\n    .dataframe tbody tr th {\n        vertical-align: top;\n    }\n\n    .dataframe thead th {\n        text-align: right;\n    }\n</style>\n<table border=\"1\" class=\"dataframe\">\n  <thead>\n    <tr style=\"text-align: right;\">\n      <th></th>\n      <th>London borough</th>\n    </tr>\n  </thead>\n  <tbody>\n    <tr>\n      <th>0</th>\n      <td>Barking and Dagenham</td>\n    </tr>\n    <tr>\n      <th>1</th>\n      <td>Barnet</td>\n    </tr>\n    <tr>\n      <th>2</th>\n      <td>Bexley</td>\n    </tr>\n    <tr>\n      <th>3</th>\n      <td>Brent</td>\n    </tr>\n    <tr>\n      <th>4</th>\n      <td>Bromley</td>\n    </tr>\n    <tr>\n      <th>5</th>\n      <td>Camden</td>\n    </tr>\n    <tr>\n      <th>6</th>\n      <td>Croydon</td>\n    </tr>\n    <tr>\n      <th>7</th>\n      <td>Ealing</td>\n    </tr>\n    <tr>\n      <th>8</th>\n      <td>Enfield</td>\n    </tr>\n    <tr>\n      <th>9</th>\n      <td>Greenwich</td>\n    </tr>\n    <tr>\n      <th>10</th>\n      <td>Hackney</td>\n    </tr>\n    <tr>\n      <th>11</th>\n      <td>Hammersmith and Fulham</td>\n    </tr>\n    <tr>\n      <th>12</th>\n      <td>Haringey</td>\n    </tr>\n    <tr>\n      <th>13</th>\n      <td>Harrow</td>\n    </tr>\n    <tr>\n      <th>14</th>\n      <td>Havering</td>\n    </tr>\n    <tr>\n      <th>15</th>\n      <td>Hillingdon</td>\n    </tr>\n    <tr>\n      <th>16</th>\n      <td>Hounslow</td>\n    </tr>\n    <tr>\n      <th>17</th>\n      <td>Islington</td>\n    </tr>\n    <tr>\n      <th>18</th>\n      <td>Kensington and Chelsea</td>\n    </tr>\n    <tr>\n      <th>19</th>\n      <td>Kingston upon Thames</td>\n    </tr>\n    <tr>\n      <th>20</th>\n      <td>Lambeth</td>\n    </tr>\n    <tr>\n      <th>21</th>\n      <td>Lewisham</td>\n    </tr>\n    <tr>\n      <th>22</th>\n      <td>Merton</td>\n    </tr>\n    <tr>\n      <th>23</th>\n      <td>Newham</td>\n    </tr>\n    <tr>\n      <th>24</th>\n      <td>Redbridge</td>\n    </tr>\n    <tr>\n      <th>25</th>\n      <td>Richmond upon Thames</td>\n    </tr>\n    <tr>\n      <th>26</th>\n      <td>Southwark</td>\n    </tr>\n    <tr>\n      <th>27</th>\n      <td>Sutton</td>\n    </tr>\n    <tr>\n      <th>28</th>\n      <td>Tower Hamlets</td>\n    </tr>\n    <tr>\n      <th>29</th>\n      <td>Waltham Forest</td>\n    </tr>\n    <tr>\n      <th>30</th>\n      <td>Wandsworth</td>\n    </tr>\n    <tr>\n      <th>31</th>\n      <td>Westminster</td>\n    </tr>\n  </tbody>\n</table>\n</div>",
                        "text/plain": "            London borough\n0     Barking and Dagenham\n1                   Barnet\n2                   Bexley\n3                    Brent\n4                  Bromley\n5                   Camden\n6                  Croydon\n7                   Ealing\n8                  Enfield\n9                Greenwich\n10                 Hackney\n11  Hammersmith and Fulham\n12                Haringey\n13                  Harrow\n14                Havering\n15              Hillingdon\n16                Hounslow\n17               Islington\n18  Kensington and Chelsea\n19    Kingston upon Thames\n20                 Lambeth\n21                Lewisham\n22                  Merton\n23                  Newham\n24               Redbridge\n25    Richmond upon Thames\n26               Southwark\n27                  Sutton\n28           Tower Hamlets\n29          Waltham Forest\n30              Wandsworth\n31             Westminster"
                    },
                    "execution_count": 8,
                    "metadata": {},
                    "output_type": "execute_result"
                }
            ],
            "source": "df_table"
        },
        {
            "cell_type": "markdown",
            "metadata": {},
            "source": "Save the dataframe to a new csv file"
        },
        {
            "cell_type": "code",
            "execution_count": 9,
            "metadata": {},
            "outputs": [],
            "source": "df_table.to_csv('df.csv', index=False, header=False)"
        },
        {
            "cell_type": "code",
            "execution_count": 10,
            "metadata": {},
            "outputs": [],
            "source": "header = ['BoroughName']"
        },
        {
            "cell_type": "code",
            "execution_count": 11,
            "metadata": {},
            "outputs": [],
            "source": "df = pd.read_csv('df.csv', names=header)"
        },
        {
            "cell_type": "code",
            "execution_count": 12,
            "metadata": {},
            "outputs": [
                {
                    "data": {
                        "text/html": "<div>\n<style scoped>\n    .dataframe tbody tr th:only-of-type {\n        vertical-align: middle;\n    }\n\n    .dataframe tbody tr th {\n        vertical-align: top;\n    }\n\n    .dataframe thead th {\n        text-align: right;\n    }\n</style>\n<table border=\"1\" class=\"dataframe\">\n  <thead>\n    <tr style=\"text-align: right;\">\n      <th></th>\n      <th>BoroughName</th>\n    </tr>\n  </thead>\n  <tbody>\n    <tr>\n      <th>0</th>\n      <td>Barking and Dagenham</td>\n    </tr>\n    <tr>\n      <th>1</th>\n      <td>Barnet</td>\n    </tr>\n    <tr>\n      <th>2</th>\n      <td>Bexley</td>\n    </tr>\n    <tr>\n      <th>3</th>\n      <td>Brent</td>\n    </tr>\n    <tr>\n      <th>4</th>\n      <td>Bromley</td>\n    </tr>\n  </tbody>\n</table>\n</div>",
                        "text/plain": "            BoroughName\n0  Barking and Dagenham\n1                Barnet\n2                Bexley\n3                 Brent\n4               Bromley"
                    },
                    "execution_count": 12,
                    "metadata": {},
                    "output_type": "execute_result"
                }
            ],
            "source": "df.head()"
        },
        {
            "cell_type": "code",
            "execution_count": 13,
            "metadata": {},
            "outputs": [
                {
                    "data": {
                        "text/plain": "(32, 1)"
                    },
                    "execution_count": 13,
                    "metadata": {},
                    "output_type": "execute_result"
                }
            ],
            "source": "df.shape"
        },
        {
            "cell_type": "markdown",
            "metadata": {},
            "source": "### Get the geo-coordinates of London city using the geopy library of python"
        },
        {
            "cell_type": "code",
            "execution_count": 14,
            "metadata": {},
            "outputs": [
                {
                    "name": "stdout",
                    "output_type": "stream",
                    "text": "The geograpical coordinate of London are 51.5073219, -0.1276474.\n"
                }
            ],
            "source": "address = 'London, UK'\n\ngeolocator = Nominatim(user_agent=\"explorer\")\nlocation = geolocator.geocode(address)\nlatitude = location.latitude\nlongitude = location.longitude\nprint('The geograpical coordinate of London are {}, {}.'.format(latitude, longitude))"
        },
        {
            "cell_type": "markdown",
            "metadata": {},
            "source": "#### So we proceed to applying it to our dataframe df"
        },
        {
            "cell_type": "code",
            "execution_count": 15,
            "metadata": {},
            "outputs": [
                {
                    "name": "stdout",
                    "output_type": "stream",
                    "text": "Done!\n"
                }
            ],
            "source": "latitude = []\nlongitude = []\nBorough = df['BoroughName']\nfor i in range(len(Borough)):\n    address = str(Borough[i] + ', England')\n    geolocator = Nominatim(user_agent=\"london_explorer\")\n    #geocode = RateLimiter(geolocator.geocode, min_delay_seconds=1)\n    location = geolocator.geocode(address)\n    try: \n        latitude.append(location.latitude)\n        longitude.append(location.longitude)\n    except:\n        latitude.append(\"Not Found\")\n        longitude.append(\"Not Found\")\n    \nprint('Done!')"
        },
        {
            "cell_type": "markdown",
            "metadata": {},
            "source": "#### Then we proceed to store the location data \u2014 latitude and longitude as follows."
        },
        {
            "cell_type": "code",
            "execution_count": 16,
            "metadata": {},
            "outputs": [
                {
                    "data": {
                        "text/html": "<div>\n<style scoped>\n    .dataframe tbody tr th:only-of-type {\n        vertical-align: middle;\n    }\n\n    .dataframe tbody tr th {\n        vertical-align: top;\n    }\n\n    .dataframe thead th {\n        text-align: right;\n    }\n</style>\n<table border=\"1\" class=\"dataframe\">\n  <thead>\n    <tr style=\"text-align: right;\">\n      <th></th>\n      <th>BoroughName</th>\n      <th>Latitude</th>\n      <th>Longitude</th>\n    </tr>\n  </thead>\n  <tbody>\n    <tr>\n      <th>0</th>\n      <td>Barking and Dagenham</td>\n      <td>51.554117</td>\n      <td>0.150504</td>\n    </tr>\n    <tr>\n      <th>1</th>\n      <td>Barnet</td>\n      <td>51.653090</td>\n      <td>-0.200226</td>\n    </tr>\n    <tr>\n      <th>2</th>\n      <td>Bexley</td>\n      <td>51.441679</td>\n      <td>0.150488</td>\n    </tr>\n    <tr>\n      <th>3</th>\n      <td>Brent</td>\n      <td>51.442026</td>\n      <td>0.231523</td>\n    </tr>\n    <tr>\n      <th>4</th>\n      <td>Bromley</td>\n      <td>51.402805</td>\n      <td>0.014814</td>\n    </tr>\n  </tbody>\n</table>\n</div>",
                        "text/plain": "            BoroughName   Latitude  Longitude\n0  Barking and Dagenham  51.554117   0.150504\n1                Barnet  51.653090  -0.200226\n2                Bexley  51.441679   0.150488\n3                 Brent  51.442026   0.231523\n4               Bromley  51.402805   0.014814"
                    },
                    "execution_count": 16,
                    "metadata": {},
                    "output_type": "execute_result"
                }
            ],
            "source": "df_coord = df\ndf_coord['Latitude'] = latitude\ndf_coord['Longitude'] = longitude\ndf_coord.head()"
        },
        {
            "cell_type": "markdown",
            "metadata": {},
            "source": "### Create a map of London city with all the boroughs superimposed on it."
        },
        {
            "cell_type": "code",
            "execution_count": 17,
            "metadata": {},
            "outputs": [
                {
                    "data": {
                        "text/html": "<div style=\"width:100%;\"><div style=\"position:relative;width:100%;height:0;padding-bottom:60%;\"><span style=\"color:#565656\">Make this Notebook Trusted to load map: File -> Trust Notebook</span><iframe src=\"about:blank\" style=\"position:absolute;width:100%;height:100%;left:0;top:0;border:none !important;\" data-html=%3C%21DOCTYPE%20html%3E%0A%3Chead%3E%20%20%20%20%0A%20%20%20%20%3Cmeta%20http-equiv%3D%22content-type%22%20content%3D%22text/html%3B%20charset%3DUTF-8%22%20/%3E%0A%20%20%20%20%0A%20%20%20%20%20%20%20%20%3Cscript%3E%0A%20%20%20%20%20%20%20%20%20%20%20%20L_NO_TOUCH%20%3D%20false%3B%0A%20%20%20%20%20%20%20%20%20%20%20%20L_DISABLE_3D%20%3D%20false%3B%0A%20%20%20%20%20%20%20%20%3C/script%3E%0A%20%20%20%20%0A%20%20%20%20%3Cstyle%3Ehtml%2C%20body%20%7Bwidth%3A%20100%25%3Bheight%3A%20100%25%3Bmargin%3A%200%3Bpadding%3A%200%3B%7D%3C/style%3E%0A%20%20%20%20%3Cstyle%3E%23map%20%7Bposition%3Aabsolute%3Btop%3A0%3Bbottom%3A0%3Bright%3A0%3Bleft%3A0%3B%7D%3C/style%3E%0A%20%20%20%20%3Cscript%20src%3D%22https%3A//cdn.jsdelivr.net/npm/leaflet%401.6.0/dist/leaflet.js%22%3E%3C/script%3E%0A%20%20%20%20%3Cscript%20src%3D%22https%3A//code.jquery.com/jquery-1.12.4.min.js%22%3E%3C/script%3E%0A%20%20%20%20%3Cscript%20src%3D%22https%3A//maxcdn.bootstrapcdn.com/bootstrap/3.2.0/js/bootstrap.min.js%22%3E%3C/script%3E%0A%20%20%20%20%3Cscript%20src%3D%22https%3A//cdnjs.cloudflare.com/ajax/libs/Leaflet.awesome-markers/2.0.2/leaflet.awesome-markers.js%22%3E%3C/script%3E%0A%20%20%20%20%3Clink%20rel%3D%22stylesheet%22%20href%3D%22https%3A//cdn.jsdelivr.net/npm/leaflet%401.6.0/dist/leaflet.css%22/%3E%0A%20%20%20%20%3Clink%20rel%3D%22stylesheet%22%20href%3D%22https%3A//maxcdn.bootstrapcdn.com/bootstrap/3.2.0/css/bootstrap.min.css%22/%3E%0A%20%20%20%20%3Clink%20rel%3D%22stylesheet%22%20href%3D%22https%3A//maxcdn.bootstrapcdn.com/bootstrap/3.2.0/css/bootstrap-theme.min.css%22/%3E%0A%20%20%20%20%3Clink%20rel%3D%22stylesheet%22%20href%3D%22https%3A//maxcdn.bootstrapcdn.com/font-awesome/4.6.3/css/font-awesome.min.css%22/%3E%0A%20%20%20%20%3Clink%20rel%3D%22stylesheet%22%20href%3D%22https%3A//cdnjs.cloudflare.com/ajax/libs/Leaflet.awesome-markers/2.0.2/leaflet.awesome-markers.css%22/%3E%0A%20%20%20%20%3Clink%20rel%3D%22stylesheet%22%20href%3D%22https%3A//cdn.jsdelivr.net/gh/python-visualization/folium/folium/templates/leaflet.awesome.rotate.min.css%22/%3E%0A%20%20%20%20%0A%20%20%20%20%20%20%20%20%20%20%20%20%3Cmeta%20name%3D%22viewport%22%20content%3D%22width%3Ddevice-width%2C%0A%20%20%20%20%20%20%20%20%20%20%20%20%20%20%20%20initial-scale%3D1.0%2C%20maximum-scale%3D1.0%2C%20user-scalable%3Dno%22%20/%3E%0A%20%20%20%20%20%20%20%20%20%20%20%20%3Cstyle%3E%0A%20%20%20%20%20%20%20%20%20%20%20%20%20%20%20%20%23map_25bef40fd7274b89aab140cae401acaf%20%7B%0A%20%20%20%20%20%20%20%20%20%20%20%20%20%20%20%20%20%20%20%20position%3A%20relative%3B%0A%20%20%20%20%20%20%20%20%20%20%20%20%20%20%20%20%20%20%20%20width%3A%20100.0%25%3B%0A%20%20%20%20%20%20%20%20%20%20%20%20%20%20%20%20%20%20%20%20height%3A%20100.0%25%3B%0A%20%20%20%20%20%20%20%20%20%20%20%20%20%20%20%20%20%20%20%20left%3A%200.0%25%3B%0A%20%20%20%20%20%20%20%20%20%20%20%20%20%20%20%20%20%20%20%20top%3A%200.0%25%3B%0A%20%20%20%20%20%20%20%20%20%20%20%20%20%20%20%20%7D%0A%20%20%20%20%20%20%20%20%20%20%20%20%3C/style%3E%0A%20%20%20%20%20%20%20%20%0A%3C/head%3E%0A%3Cbody%3E%20%20%20%20%0A%20%20%20%20%0A%20%20%20%20%20%20%20%20%20%20%20%20%3Cdiv%20class%3D%22folium-map%22%20id%3D%22map_25bef40fd7274b89aab140cae401acaf%22%20%3E%3C/div%3E%0A%20%20%20%20%20%20%20%20%0A%3C/body%3E%0A%3Cscript%3E%20%20%20%20%0A%20%20%20%20%0A%20%20%20%20%20%20%20%20%20%20%20%20var%20map_25bef40fd7274b89aab140cae401acaf%20%3D%20L.map%28%0A%20%20%20%20%20%20%20%20%20%20%20%20%20%20%20%20%22map_25bef40fd7274b89aab140cae401acaf%22%2C%0A%20%20%20%20%20%20%20%20%20%20%20%20%20%20%20%20%7B%0A%20%20%20%20%20%20%20%20%20%20%20%20%20%20%20%20%20%20%20%20center%3A%20%5B51.5073219%2C%20-0.1276474%5D%2C%0A%20%20%20%20%20%20%20%20%20%20%20%20%20%20%20%20%20%20%20%20crs%3A%20L.CRS.EPSG3857%2C%0A%20%20%20%20%20%20%20%20%20%20%20%20%20%20%20%20%20%20%20%20zoom%3A%2010%2C%0A%20%20%20%20%20%20%20%20%20%20%20%20%20%20%20%20%20%20%20%20zoomControl%3A%20true%2C%0A%20%20%20%20%20%20%20%20%20%20%20%20%20%20%20%20%20%20%20%20preferCanvas%3A%20false%2C%0A%20%20%20%20%20%20%20%20%20%20%20%20%20%20%20%20%7D%0A%20%20%20%20%20%20%20%20%20%20%20%20%29%3B%0A%0A%20%20%20%20%20%20%20%20%20%20%20%20%0A%0A%20%20%20%20%20%20%20%20%0A%20%20%20%20%0A%20%20%20%20%20%20%20%20%20%20%20%20var%20tile_layer_088802caa38947dba7a79a2a9a18d3bd%20%3D%20L.tileLayer%28%0A%20%20%20%20%20%20%20%20%20%20%20%20%20%20%20%20%22https%3A//%7Bs%7D.tile.openstreetmap.org/%7Bz%7D/%7Bx%7D/%7By%7D.png%22%2C%0A%20%20%20%20%20%20%20%20%20%20%20%20%20%20%20%20%7B%22attribution%22%3A%20%22Data%20by%20%5Cu0026copy%3B%20%5Cu003ca%20href%3D%5C%22http%3A//openstreetmap.org%5C%22%5Cu003eOpenStreetMap%5Cu003c/a%5Cu003e%2C%20under%20%5Cu003ca%20href%3D%5C%22http%3A//www.openstreetmap.org/copyright%5C%22%5Cu003eODbL%5Cu003c/a%5Cu003e.%22%2C%20%22detectRetina%22%3A%20false%2C%20%22maxNativeZoom%22%3A%2018%2C%20%22maxZoom%22%3A%2018%2C%20%22minZoom%22%3A%200%2C%20%22noWrap%22%3A%20false%2C%20%22opacity%22%3A%201%2C%20%22subdomains%22%3A%20%22abc%22%2C%20%22tms%22%3A%20false%7D%0A%20%20%20%20%20%20%20%20%20%20%20%20%29.addTo%28map_25bef40fd7274b89aab140cae401acaf%29%3B%0A%20%20%20%20%20%20%20%20%0A%20%20%20%20%0A%20%20%20%20%20%20%20%20%20%20%20%20var%20circle_marker_b50037c2d317404bb77535bc72f7b9db%20%3D%20L.circleMarker%28%0A%20%20%20%20%20%20%20%20%20%20%20%20%20%20%20%20%5B51.5541171%2C%200.15050434261994267%5D%2C%0A%20%20%20%20%20%20%20%20%20%20%20%20%20%20%20%20%7B%22bubblingMouseEvents%22%3A%20true%2C%20%22color%22%3A%20%22blue%22%2C%20%22dashArray%22%3A%20null%2C%20%22dashOffset%22%3A%20null%2C%20%22fill%22%3A%20true%2C%20%22fillColor%22%3A%20%22%233186cc%22%2C%20%22fillOpacity%22%3A%200.7%2C%20%22fillRule%22%3A%20%22evenodd%22%2C%20%22lineCap%22%3A%20%22round%22%2C%20%22lineJoin%22%3A%20%22round%22%2C%20%22opacity%22%3A%201.0%2C%20%22radius%22%3A%205%2C%20%22stroke%22%3A%20true%2C%20%22weight%22%3A%203%7D%0A%20%20%20%20%20%20%20%20%20%20%20%20%29.addTo%28map_25bef40fd7274b89aab140cae401acaf%29%3B%0A%20%20%20%20%20%20%20%20%0A%20%20%20%20%0A%20%20%20%20%20%20%20%20var%20popup_45b8dfb9442e4ab78f5f23fe5479dcff%20%3D%20L.popup%28%7B%22maxWidth%22%3A%20%22100%25%22%7D%29%3B%0A%0A%20%20%20%20%20%20%20%20%0A%20%20%20%20%20%20%20%20%20%20%20%20var%20html_879c87a74e31461cbe06be89dae221dd%20%3D%20%24%28%60%3Cdiv%20id%3D%22html_879c87a74e31461cbe06be89dae221dd%22%20style%3D%22width%3A%20100.0%25%3B%20height%3A%20100.0%25%3B%22%3EBarking%20and%20Dagenham%3C/div%3E%60%29%5B0%5D%3B%0A%20%20%20%20%20%20%20%20%20%20%20%20popup_45b8dfb9442e4ab78f5f23fe5479dcff.setContent%28html_879c87a74e31461cbe06be89dae221dd%29%3B%0A%20%20%20%20%20%20%20%20%0A%0A%20%20%20%20%20%20%20%20circle_marker_b50037c2d317404bb77535bc72f7b9db.bindPopup%28popup_45b8dfb9442e4ab78f5f23fe5479dcff%29%0A%20%20%20%20%20%20%20%20%3B%0A%0A%20%20%20%20%20%20%20%20%0A%20%20%20%20%0A%20%20%20%20%0A%20%20%20%20%20%20%20%20%20%20%20%20var%20circle_marker_64d39b8fa7a94ed49aeae91d6d9fe2e8%20%3D%20L.circleMarker%28%0A%20%20%20%20%20%20%20%20%20%20%20%20%20%20%20%20%5B51.65309%2C%20-0.2002261%5D%2C%0A%20%20%20%20%20%20%20%20%20%20%20%20%20%20%20%20%7B%22bubblingMouseEvents%22%3A%20true%2C%20%22color%22%3A%20%22blue%22%2C%20%22dashArray%22%3A%20null%2C%20%22dashOffset%22%3A%20null%2C%20%22fill%22%3A%20true%2C%20%22fillColor%22%3A%20%22%233186cc%22%2C%20%22fillOpacity%22%3A%200.7%2C%20%22fillRule%22%3A%20%22evenodd%22%2C%20%22lineCap%22%3A%20%22round%22%2C%20%22lineJoin%22%3A%20%22round%22%2C%20%22opacity%22%3A%201.0%2C%20%22radius%22%3A%205%2C%20%22stroke%22%3A%20true%2C%20%22weight%22%3A%203%7D%0A%20%20%20%20%20%20%20%20%20%20%20%20%29.addTo%28map_25bef40fd7274b89aab140cae401acaf%29%3B%0A%20%20%20%20%20%20%20%20%0A%20%20%20%20%0A%20%20%20%20%20%20%20%20var%20popup_e51f5e3db9dc43419cc9491a13b883de%20%3D%20L.popup%28%7B%22maxWidth%22%3A%20%22100%25%22%7D%29%3B%0A%0A%20%20%20%20%20%20%20%20%0A%20%20%20%20%20%20%20%20%20%20%20%20var%20html_47993349362642789d97c3832253c769%20%3D%20%24%28%60%3Cdiv%20id%3D%22html_47993349362642789d97c3832253c769%22%20style%3D%22width%3A%20100.0%25%3B%20height%3A%20100.0%25%3B%22%3EBarnet%3C/div%3E%60%29%5B0%5D%3B%0A%20%20%20%20%20%20%20%20%20%20%20%20popup_e51f5e3db9dc43419cc9491a13b883de.setContent%28html_47993349362642789d97c3832253c769%29%3B%0A%20%20%20%20%20%20%20%20%0A%0A%20%20%20%20%20%20%20%20circle_marker_64d39b8fa7a94ed49aeae91d6d9fe2e8.bindPopup%28popup_e51f5e3db9dc43419cc9491a13b883de%29%0A%20%20%20%20%20%20%20%20%3B%0A%0A%20%20%20%20%20%20%20%20%0A%20%20%20%20%0A%20%20%20%20%0A%20%20%20%20%20%20%20%20%20%20%20%20var%20circle_marker_34c27b5b086445038142544ec53dbf07%20%3D%20L.circleMarker%28%0A%20%20%20%20%20%20%20%20%20%20%20%20%20%20%20%20%5B51.4416793%2C%200.150488%5D%2C%0A%20%20%20%20%20%20%20%20%20%20%20%20%20%20%20%20%7B%22bubblingMouseEvents%22%3A%20true%2C%20%22color%22%3A%20%22blue%22%2C%20%22dashArray%22%3A%20null%2C%20%22dashOffset%22%3A%20null%2C%20%22fill%22%3A%20true%2C%20%22fillColor%22%3A%20%22%233186cc%22%2C%20%22fillOpacity%22%3A%200.7%2C%20%22fillRule%22%3A%20%22evenodd%22%2C%20%22lineCap%22%3A%20%22round%22%2C%20%22lineJoin%22%3A%20%22round%22%2C%20%22opacity%22%3A%201.0%2C%20%22radius%22%3A%205%2C%20%22stroke%22%3A%20true%2C%20%22weight%22%3A%203%7D%0A%20%20%20%20%20%20%20%20%20%20%20%20%29.addTo%28map_25bef40fd7274b89aab140cae401acaf%29%3B%0A%20%20%20%20%20%20%20%20%0A%20%20%20%20%0A%20%20%20%20%20%20%20%20var%20popup_6f31a651d07d49279209bb79e4a0b8b0%20%3D%20L.popup%28%7B%22maxWidth%22%3A%20%22100%25%22%7D%29%3B%0A%0A%20%20%20%20%20%20%20%20%0A%20%20%20%20%20%20%20%20%20%20%20%20var%20html_8feda2fcd83a48da9c53b062670d1432%20%3D%20%24%28%60%3Cdiv%20id%3D%22html_8feda2fcd83a48da9c53b062670d1432%22%20style%3D%22width%3A%20100.0%25%3B%20height%3A%20100.0%25%3B%22%3EBexley%3C/div%3E%60%29%5B0%5D%3B%0A%20%20%20%20%20%20%20%20%20%20%20%20popup_6f31a651d07d49279209bb79e4a0b8b0.setContent%28html_8feda2fcd83a48da9c53b062670d1432%29%3B%0A%20%20%20%20%20%20%20%20%0A%0A%20%20%20%20%20%20%20%20circle_marker_34c27b5b086445038142544ec53dbf07.bindPopup%28popup_6f31a651d07d49279209bb79e4a0b8b0%29%0A%20%20%20%20%20%20%20%20%3B%0A%0A%20%20%20%20%20%20%20%20%0A%20%20%20%20%0A%20%20%20%20%0A%20%20%20%20%20%20%20%20%20%20%20%20var%20circle_marker_2fa0891e75634ac4a07720ad56fd02bf%20%3D%20L.circleMarker%28%0A%20%20%20%20%20%20%20%20%20%20%20%20%20%20%20%20%5B51.4420262%2C%200.2315227%5D%2C%0A%20%20%20%20%20%20%20%20%20%20%20%20%20%20%20%20%7B%22bubblingMouseEvents%22%3A%20true%2C%20%22color%22%3A%20%22blue%22%2C%20%22dashArray%22%3A%20null%2C%20%22dashOffset%22%3A%20null%2C%20%22fill%22%3A%20true%2C%20%22fillColor%22%3A%20%22%233186cc%22%2C%20%22fillOpacity%22%3A%200.7%2C%20%22fillRule%22%3A%20%22evenodd%22%2C%20%22lineCap%22%3A%20%22round%22%2C%20%22lineJoin%22%3A%20%22round%22%2C%20%22opacity%22%3A%201.0%2C%20%22radius%22%3A%205%2C%20%22stroke%22%3A%20true%2C%20%22weight%22%3A%203%7D%0A%20%20%20%20%20%20%20%20%20%20%20%20%29.addTo%28map_25bef40fd7274b89aab140cae401acaf%29%3B%0A%20%20%20%20%20%20%20%20%0A%20%20%20%20%0A%20%20%20%20%20%20%20%20var%20popup_a0fd72cbb5bd4a9cb8f3ed3815b7b1c7%20%3D%20L.popup%28%7B%22maxWidth%22%3A%20%22100%25%22%7D%29%3B%0A%0A%20%20%20%20%20%20%20%20%0A%20%20%20%20%20%20%20%20%20%20%20%20var%20html_41599fd3855d46639514057992afec6d%20%3D%20%24%28%60%3Cdiv%20id%3D%22html_41599fd3855d46639514057992afec6d%22%20style%3D%22width%3A%20100.0%25%3B%20height%3A%20100.0%25%3B%22%3EBrent%3C/div%3E%60%29%5B0%5D%3B%0A%20%20%20%20%20%20%20%20%20%20%20%20popup_a0fd72cbb5bd4a9cb8f3ed3815b7b1c7.setContent%28html_41599fd3855d46639514057992afec6d%29%3B%0A%20%20%20%20%20%20%20%20%0A%0A%20%20%20%20%20%20%20%20circle_marker_2fa0891e75634ac4a07720ad56fd02bf.bindPopup%28popup_a0fd72cbb5bd4a9cb8f3ed3815b7b1c7%29%0A%20%20%20%20%20%20%20%20%3B%0A%0A%20%20%20%20%20%20%20%20%0A%20%20%20%20%0A%20%20%20%20%0A%20%20%20%20%20%20%20%20%20%20%20%20var%20circle_marker_b9b998f881d54f329c99f7776a342347%20%3D%20L.circleMarker%28%0A%20%20%20%20%20%20%20%20%20%20%20%20%20%20%20%20%5B51.4028046%2C%200.0148142%5D%2C%0A%20%20%20%20%20%20%20%20%20%20%20%20%20%20%20%20%7B%22bubblingMouseEvents%22%3A%20true%2C%20%22color%22%3A%20%22blue%22%2C%20%22dashArray%22%3A%20null%2C%20%22dashOffset%22%3A%20null%2C%20%22fill%22%3A%20true%2C%20%22fillColor%22%3A%20%22%233186cc%22%2C%20%22fillOpacity%22%3A%200.7%2C%20%22fillRule%22%3A%20%22evenodd%22%2C%20%22lineCap%22%3A%20%22round%22%2C%20%22lineJoin%22%3A%20%22round%22%2C%20%22opacity%22%3A%201.0%2C%20%22radius%22%3A%205%2C%20%22stroke%22%3A%20true%2C%20%22weight%22%3A%203%7D%0A%20%20%20%20%20%20%20%20%20%20%20%20%29.addTo%28map_25bef40fd7274b89aab140cae401acaf%29%3B%0A%20%20%20%20%20%20%20%20%0A%20%20%20%20%0A%20%20%20%20%20%20%20%20var%20popup_e41e25b4b0be4843a62a866e9d98ca47%20%3D%20L.popup%28%7B%22maxWidth%22%3A%20%22100%25%22%7D%29%3B%0A%0A%20%20%20%20%20%20%20%20%0A%20%20%20%20%20%20%20%20%20%20%20%20var%20html_3657907a1693474aa7a01e2075bd6fcd%20%3D%20%24%28%60%3Cdiv%20id%3D%22html_3657907a1693474aa7a01e2075bd6fcd%22%20style%3D%22width%3A%20100.0%25%3B%20height%3A%20100.0%25%3B%22%3EBromley%3C/div%3E%60%29%5B0%5D%3B%0A%20%20%20%20%20%20%20%20%20%20%20%20popup_e41e25b4b0be4843a62a866e9d98ca47.setContent%28html_3657907a1693474aa7a01e2075bd6fcd%29%3B%0A%20%20%20%20%20%20%20%20%0A%0A%20%20%20%20%20%20%20%20circle_marker_b9b998f881d54f329c99f7776a342347.bindPopup%28popup_e41e25b4b0be4843a62a866e9d98ca47%29%0A%20%20%20%20%20%20%20%20%3B%0A%0A%20%20%20%20%20%20%20%20%0A%20%20%20%20%0A%20%20%20%20%0A%20%20%20%20%20%20%20%20%20%20%20%20var%20circle_marker_dd85f4bcb0a34a5b86e4c198056d220b%20%3D%20L.circleMarker%28%0A%20%20%20%20%20%20%20%20%20%20%20%20%20%20%20%20%5B51.5423045%2C%20-0.1395604%5D%2C%0A%20%20%20%20%20%20%20%20%20%20%20%20%20%20%20%20%7B%22bubblingMouseEvents%22%3A%20true%2C%20%22color%22%3A%20%22blue%22%2C%20%22dashArray%22%3A%20null%2C%20%22dashOffset%22%3A%20null%2C%20%22fill%22%3A%20true%2C%20%22fillColor%22%3A%20%22%233186cc%22%2C%20%22fillOpacity%22%3A%200.7%2C%20%22fillRule%22%3A%20%22evenodd%22%2C%20%22lineCap%22%3A%20%22round%22%2C%20%22lineJoin%22%3A%20%22round%22%2C%20%22opacity%22%3A%201.0%2C%20%22radius%22%3A%205%2C%20%22stroke%22%3A%20true%2C%20%22weight%22%3A%203%7D%0A%20%20%20%20%20%20%20%20%20%20%20%20%29.addTo%28map_25bef40fd7274b89aab140cae401acaf%29%3B%0A%20%20%20%20%20%20%20%20%0A%20%20%20%20%0A%20%20%20%20%20%20%20%20var%20popup_899e1905794d4cb1bb54f0dfd01727fa%20%3D%20L.popup%28%7B%22maxWidth%22%3A%20%22100%25%22%7D%29%3B%0A%0A%20%20%20%20%20%20%20%20%0A%20%20%20%20%20%20%20%20%20%20%20%20var%20html_9bbb41c4338c43fbb9a8a4da2283d441%20%3D%20%24%28%60%3Cdiv%20id%3D%22html_9bbb41c4338c43fbb9a8a4da2283d441%22%20style%3D%22width%3A%20100.0%25%3B%20height%3A%20100.0%25%3B%22%3ECamden%3C/div%3E%60%29%5B0%5D%3B%0A%20%20%20%20%20%20%20%20%20%20%20%20popup_899e1905794d4cb1bb54f0dfd01727fa.setContent%28html_9bbb41c4338c43fbb9a8a4da2283d441%29%3B%0A%20%20%20%20%20%20%20%20%0A%0A%20%20%20%20%20%20%20%20circle_marker_dd85f4bcb0a34a5b86e4c198056d220b.bindPopup%28popup_899e1905794d4cb1bb54f0dfd01727fa%29%0A%20%20%20%20%20%20%20%20%3B%0A%0A%20%20%20%20%20%20%20%20%0A%20%20%20%20%0A%20%20%20%20%0A%20%20%20%20%20%20%20%20%20%20%20%20var%20circle_marker_3de1e0d5cd044276be3acac0ebf4d3d4%20%3D%20L.circleMarker%28%0A%20%20%20%20%20%20%20%20%20%20%20%20%20%20%20%20%5B51.3713049%2C%20-0.101957%5D%2C%0A%20%20%20%20%20%20%20%20%20%20%20%20%20%20%20%20%7B%22bubblingMouseEvents%22%3A%20true%2C%20%22color%22%3A%20%22blue%22%2C%20%22dashArray%22%3A%20null%2C%20%22dashOffset%22%3A%20null%2C%20%22fill%22%3A%20true%2C%20%22fillColor%22%3A%20%22%233186cc%22%2C%20%22fillOpacity%22%3A%200.7%2C%20%22fillRule%22%3A%20%22evenodd%22%2C%20%22lineCap%22%3A%20%22round%22%2C%20%22lineJoin%22%3A%20%22round%22%2C%20%22opacity%22%3A%201.0%2C%20%22radius%22%3A%205%2C%20%22stroke%22%3A%20true%2C%20%22weight%22%3A%203%7D%0A%20%20%20%20%20%20%20%20%20%20%20%20%29.addTo%28map_25bef40fd7274b89aab140cae401acaf%29%3B%0A%20%20%20%20%20%20%20%20%0A%20%20%20%20%0A%20%20%20%20%20%20%20%20var%20popup_8e2d9f37aa924716a6fff6f0899f7bc7%20%3D%20L.popup%28%7B%22maxWidth%22%3A%20%22100%25%22%7D%29%3B%0A%0A%20%20%20%20%20%20%20%20%0A%20%20%20%20%20%20%20%20%20%20%20%20var%20html_990861f79aec43b4ae7a46c10f5e3b80%20%3D%20%24%28%60%3Cdiv%20id%3D%22html_990861f79aec43b4ae7a46c10f5e3b80%22%20style%3D%22width%3A%20100.0%25%3B%20height%3A%20100.0%25%3B%22%3ECroydon%3C/div%3E%60%29%5B0%5D%3B%0A%20%20%20%20%20%20%20%20%20%20%20%20popup_8e2d9f37aa924716a6fff6f0899f7bc7.setContent%28html_990861f79aec43b4ae7a46c10f5e3b80%29%3B%0A%20%20%20%20%20%20%20%20%0A%0A%20%20%20%20%20%20%20%20circle_marker_3de1e0d5cd044276be3acac0ebf4d3d4.bindPopup%28popup_8e2d9f37aa924716a6fff6f0899f7bc7%29%0A%20%20%20%20%20%20%20%20%3B%0A%0A%20%20%20%20%20%20%20%20%0A%20%20%20%20%0A%20%20%20%20%0A%20%20%20%20%20%20%20%20%20%20%20%20var%20circle_marker_5bb14552ab5647408efdeb624e90bf2a%20%3D%20L.circleMarker%28%0A%20%20%20%20%20%20%20%20%20%20%20%20%20%20%20%20%5B51.5126553%2C%20-0.3051952%5D%2C%0A%20%20%20%20%20%20%20%20%20%20%20%20%20%20%20%20%7B%22bubblingMouseEvents%22%3A%20true%2C%20%22color%22%3A%20%22blue%22%2C%20%22dashArray%22%3A%20null%2C%20%22dashOffset%22%3A%20null%2C%20%22fill%22%3A%20true%2C%20%22fillColor%22%3A%20%22%233186cc%22%2C%20%22fillOpacity%22%3A%200.7%2C%20%22fillRule%22%3A%20%22evenodd%22%2C%20%22lineCap%22%3A%20%22round%22%2C%20%22lineJoin%22%3A%20%22round%22%2C%20%22opacity%22%3A%201.0%2C%20%22radius%22%3A%205%2C%20%22stroke%22%3A%20true%2C%20%22weight%22%3A%203%7D%0A%20%20%20%20%20%20%20%20%20%20%20%20%29.addTo%28map_25bef40fd7274b89aab140cae401acaf%29%3B%0A%20%20%20%20%20%20%20%20%0A%20%20%20%20%0A%20%20%20%20%20%20%20%20var%20popup_40d8d7cdbc234a2987c76bf68491f16f%20%3D%20L.popup%28%7B%22maxWidth%22%3A%20%22100%25%22%7D%29%3B%0A%0A%20%20%20%20%20%20%20%20%0A%20%20%20%20%20%20%20%20%20%20%20%20var%20html_033c04b3fe8a4f35b7d58f74a6b396f0%20%3D%20%24%28%60%3Cdiv%20id%3D%22html_033c04b3fe8a4f35b7d58f74a6b396f0%22%20style%3D%22width%3A%20100.0%25%3B%20height%3A%20100.0%25%3B%22%3EEaling%3C/div%3E%60%29%5B0%5D%3B%0A%20%20%20%20%20%20%20%20%20%20%20%20popup_40d8d7cdbc234a2987c76bf68491f16f.setContent%28html_033c04b3fe8a4f35b7d58f74a6b396f0%29%3B%0A%20%20%20%20%20%20%20%20%0A%0A%20%20%20%20%20%20%20%20circle_marker_5bb14552ab5647408efdeb624e90bf2a.bindPopup%28popup_40d8d7cdbc234a2987c76bf68491f16f%29%0A%20%20%20%20%20%20%20%20%3B%0A%0A%20%20%20%20%20%20%20%20%0A%20%20%20%20%0A%20%20%20%20%0A%20%20%20%20%20%20%20%20%20%20%20%20var%20circle_marker_ea50f301a02b43e4a3d5d915e6f2173f%20%3D%20L.circleMarker%28%0A%20%20%20%20%20%20%20%20%20%20%20%20%20%20%20%20%5B51.6520851%2C%20-0.0810175%5D%2C%0A%20%20%20%20%20%20%20%20%20%20%20%20%20%20%20%20%7B%22bubblingMouseEvents%22%3A%20true%2C%20%22color%22%3A%20%22blue%22%2C%20%22dashArray%22%3A%20null%2C%20%22dashOffset%22%3A%20null%2C%20%22fill%22%3A%20true%2C%20%22fillColor%22%3A%20%22%233186cc%22%2C%20%22fillOpacity%22%3A%200.7%2C%20%22fillRule%22%3A%20%22evenodd%22%2C%20%22lineCap%22%3A%20%22round%22%2C%20%22lineJoin%22%3A%20%22round%22%2C%20%22opacity%22%3A%201.0%2C%20%22radius%22%3A%205%2C%20%22stroke%22%3A%20true%2C%20%22weight%22%3A%203%7D%0A%20%20%20%20%20%20%20%20%20%20%20%20%29.addTo%28map_25bef40fd7274b89aab140cae401acaf%29%3B%0A%20%20%20%20%20%20%20%20%0A%20%20%20%20%0A%20%20%20%20%20%20%20%20var%20popup_c51ff9c017a44cc3ab8e055f96c9e8e8%20%3D%20L.popup%28%7B%22maxWidth%22%3A%20%22100%25%22%7D%29%3B%0A%0A%20%20%20%20%20%20%20%20%0A%20%20%20%20%20%20%20%20%20%20%20%20var%20html_0f512343535646a496441b3cd0cd6a68%20%3D%20%24%28%60%3Cdiv%20id%3D%22html_0f512343535646a496441b3cd0cd6a68%22%20style%3D%22width%3A%20100.0%25%3B%20height%3A%20100.0%25%3B%22%3EEnfield%3C/div%3E%60%29%5B0%5D%3B%0A%20%20%20%20%20%20%20%20%20%20%20%20popup_c51ff9c017a44cc3ab8e055f96c9e8e8.setContent%28html_0f512343535646a496441b3cd0cd6a68%29%3B%0A%20%20%20%20%20%20%20%20%0A%0A%20%20%20%20%20%20%20%20circle_marker_ea50f301a02b43e4a3d5d915e6f2173f.bindPopup%28popup_c51ff9c017a44cc3ab8e055f96c9e8e8%29%0A%20%20%20%20%20%20%20%20%3B%0A%0A%20%20%20%20%20%20%20%20%0A%20%20%20%20%0A%20%20%20%20%0A%20%20%20%20%20%20%20%20%20%20%20%20var%20circle_marker_23d353848efc4522a382d3b71d9b8514%20%3D%20L.circleMarker%28%0A%20%20%20%20%20%20%20%20%20%20%20%20%20%20%20%20%5B51.4820845%2C%20-0.0045417%5D%2C%0A%20%20%20%20%20%20%20%20%20%20%20%20%20%20%20%20%7B%22bubblingMouseEvents%22%3A%20true%2C%20%22color%22%3A%20%22blue%22%2C%20%22dashArray%22%3A%20null%2C%20%22dashOffset%22%3A%20null%2C%20%22fill%22%3A%20true%2C%20%22fillColor%22%3A%20%22%233186cc%22%2C%20%22fillOpacity%22%3A%200.7%2C%20%22fillRule%22%3A%20%22evenodd%22%2C%20%22lineCap%22%3A%20%22round%22%2C%20%22lineJoin%22%3A%20%22round%22%2C%20%22opacity%22%3A%201.0%2C%20%22radius%22%3A%205%2C%20%22stroke%22%3A%20true%2C%20%22weight%22%3A%203%7D%0A%20%20%20%20%20%20%20%20%20%20%20%20%29.addTo%28map_25bef40fd7274b89aab140cae401acaf%29%3B%0A%20%20%20%20%20%20%20%20%0A%20%20%20%20%0A%20%20%20%20%20%20%20%20var%20popup_92ace7dfce514797af71d58052c81281%20%3D%20L.popup%28%7B%22maxWidth%22%3A%20%22100%25%22%7D%29%3B%0A%0A%20%20%20%20%20%20%20%20%0A%20%20%20%20%20%20%20%20%20%20%20%20var%20html_981029ef8d234ccb8183c2084455fea1%20%3D%20%24%28%60%3Cdiv%20id%3D%22html_981029ef8d234ccb8183c2084455fea1%22%20style%3D%22width%3A%20100.0%25%3B%20height%3A%20100.0%25%3B%22%3EGreenwich%3C/div%3E%60%29%5B0%5D%3B%0A%20%20%20%20%20%20%20%20%20%20%20%20popup_92ace7dfce514797af71d58052c81281.setContent%28html_981029ef8d234ccb8183c2084455fea1%29%3B%0A%20%20%20%20%20%20%20%20%0A%0A%20%20%20%20%20%20%20%20circle_marker_23d353848efc4522a382d3b71d9b8514.bindPopup%28popup_92ace7dfce514797af71d58052c81281%29%0A%20%20%20%20%20%20%20%20%3B%0A%0A%20%20%20%20%20%20%20%20%0A%20%20%20%20%0A%20%20%20%20%0A%20%20%20%20%20%20%20%20%20%20%20%20var%20circle_marker_0b77cdff9f6242fe864e7c4928a4bba3%20%3D%20L.circleMarker%28%0A%20%20%20%20%20%20%20%20%20%20%20%20%20%20%20%20%5B51.5432402%2C%20-0.0493621%5D%2C%0A%20%20%20%20%20%20%20%20%20%20%20%20%20%20%20%20%7B%22bubblingMouseEvents%22%3A%20true%2C%20%22color%22%3A%20%22blue%22%2C%20%22dashArray%22%3A%20null%2C%20%22dashOffset%22%3A%20null%2C%20%22fill%22%3A%20true%2C%20%22fillColor%22%3A%20%22%233186cc%22%2C%20%22fillOpacity%22%3A%200.7%2C%20%22fillRule%22%3A%20%22evenodd%22%2C%20%22lineCap%22%3A%20%22round%22%2C%20%22lineJoin%22%3A%20%22round%22%2C%20%22opacity%22%3A%201.0%2C%20%22radius%22%3A%205%2C%20%22stroke%22%3A%20true%2C%20%22weight%22%3A%203%7D%0A%20%20%20%20%20%20%20%20%20%20%20%20%29.addTo%28map_25bef40fd7274b89aab140cae401acaf%29%3B%0A%20%20%20%20%20%20%20%20%0A%20%20%20%20%0A%20%20%20%20%20%20%20%20var%20popup_3ffe96fb36fa44dc82a2baf98f8842a2%20%3D%20L.popup%28%7B%22maxWidth%22%3A%20%22100%25%22%7D%29%3B%0A%0A%20%20%20%20%20%20%20%20%0A%20%20%20%20%20%20%20%20%20%20%20%20var%20html_a2eac8cf1bc84a2ab13b5335b36ad13d%20%3D%20%24%28%60%3Cdiv%20id%3D%22html_a2eac8cf1bc84a2ab13b5335b36ad13d%22%20style%3D%22width%3A%20100.0%25%3B%20height%3A%20100.0%25%3B%22%3EHackney%3C/div%3E%60%29%5B0%5D%3B%0A%20%20%20%20%20%20%20%20%20%20%20%20popup_3ffe96fb36fa44dc82a2baf98f8842a2.setContent%28html_a2eac8cf1bc84a2ab13b5335b36ad13d%29%3B%0A%20%20%20%20%20%20%20%20%0A%0A%20%20%20%20%20%20%20%20circle_marker_0b77cdff9f6242fe864e7c4928a4bba3.bindPopup%28popup_3ffe96fb36fa44dc82a2baf98f8842a2%29%0A%20%20%20%20%20%20%20%20%3B%0A%0A%20%20%20%20%20%20%20%20%0A%20%20%20%20%0A%20%20%20%20%0A%20%20%20%20%20%20%20%20%20%20%20%20var%20circle_marker_91631027536a48f79d1abd61f7bfd5be%20%3D%20L.circleMarker%28%0A%20%20%20%20%20%20%20%20%20%20%20%20%20%20%20%20%5B51.4920377%2C%20-0.2236401%5D%2C%0A%20%20%20%20%20%20%20%20%20%20%20%20%20%20%20%20%7B%22bubblingMouseEvents%22%3A%20true%2C%20%22color%22%3A%20%22blue%22%2C%20%22dashArray%22%3A%20null%2C%20%22dashOffset%22%3A%20null%2C%20%22fill%22%3A%20true%2C%20%22fillColor%22%3A%20%22%233186cc%22%2C%20%22fillOpacity%22%3A%200.7%2C%20%22fillRule%22%3A%20%22evenodd%22%2C%20%22lineCap%22%3A%20%22round%22%2C%20%22lineJoin%22%3A%20%22round%22%2C%20%22opacity%22%3A%201.0%2C%20%22radius%22%3A%205%2C%20%22stroke%22%3A%20true%2C%20%22weight%22%3A%203%7D%0A%20%20%20%20%20%20%20%20%20%20%20%20%29.addTo%28map_25bef40fd7274b89aab140cae401acaf%29%3B%0A%20%20%20%20%20%20%20%20%0A%20%20%20%20%0A%20%20%20%20%20%20%20%20var%20popup_409e7b68bd7c4ffd84db62f0aa305132%20%3D%20L.popup%28%7B%22maxWidth%22%3A%20%22100%25%22%7D%29%3B%0A%0A%20%20%20%20%20%20%20%20%0A%20%20%20%20%20%20%20%20%20%20%20%20var%20html_4f9fcac3ea6542708574b6a4dff6c36e%20%3D%20%24%28%60%3Cdiv%20id%3D%22html_4f9fcac3ea6542708574b6a4dff6c36e%22%20style%3D%22width%3A%20100.0%25%3B%20height%3A%20100.0%25%3B%22%3EHammersmith%20and%20Fulham%3C/div%3E%60%29%5B0%5D%3B%0A%20%20%20%20%20%20%20%20%20%20%20%20popup_409e7b68bd7c4ffd84db62f0aa305132.setContent%28html_4f9fcac3ea6542708574b6a4dff6c36e%29%3B%0A%20%20%20%20%20%20%20%20%0A%0A%20%20%20%20%20%20%20%20circle_marker_91631027536a48f79d1abd61f7bfd5be.bindPopup%28popup_409e7b68bd7c4ffd84db62f0aa305132%29%0A%20%20%20%20%20%20%20%20%3B%0A%0A%20%20%20%20%20%20%20%20%0A%20%20%20%20%0A%20%20%20%20%0A%20%20%20%20%20%20%20%20%20%20%20%20var%20circle_marker_a23bbb3f9fb34737ae4277d6b40725a5%20%3D%20L.circleMarker%28%0A%20%20%20%20%20%20%20%20%20%20%20%20%20%20%20%20%5B51.587929849999995%2C%20-0.10541010599099046%5D%2C%0A%20%20%20%20%20%20%20%20%20%20%20%20%20%20%20%20%7B%22bubblingMouseEvents%22%3A%20true%2C%20%22color%22%3A%20%22blue%22%2C%20%22dashArray%22%3A%20null%2C%20%22dashOffset%22%3A%20null%2C%20%22fill%22%3A%20true%2C%20%22fillColor%22%3A%20%22%233186cc%22%2C%20%22fillOpacity%22%3A%200.7%2C%20%22fillRule%22%3A%20%22evenodd%22%2C%20%22lineCap%22%3A%20%22round%22%2C%20%22lineJoin%22%3A%20%22round%22%2C%20%22opacity%22%3A%201.0%2C%20%22radius%22%3A%205%2C%20%22stroke%22%3A%20true%2C%20%22weight%22%3A%203%7D%0A%20%20%20%20%20%20%20%20%20%20%20%20%29.addTo%28map_25bef40fd7274b89aab140cae401acaf%29%3B%0A%20%20%20%20%20%20%20%20%0A%20%20%20%20%0A%20%20%20%20%20%20%20%20var%20popup_a21c0098eefd4647b64b21ec94c904c9%20%3D%20L.popup%28%7B%22maxWidth%22%3A%20%22100%25%22%7D%29%3B%0A%0A%20%20%20%20%20%20%20%20%0A%20%20%20%20%20%20%20%20%20%20%20%20var%20html_7ca54c2891674534b2ceea0f94a3502a%20%3D%20%24%28%60%3Cdiv%20id%3D%22html_7ca54c2891674534b2ceea0f94a3502a%22%20style%3D%22width%3A%20100.0%25%3B%20height%3A%20100.0%25%3B%22%3EHaringey%3C/div%3E%60%29%5B0%5D%3B%0A%20%20%20%20%20%20%20%20%20%20%20%20popup_a21c0098eefd4647b64b21ec94c904c9.setContent%28html_7ca54c2891674534b2ceea0f94a3502a%29%3B%0A%20%20%20%20%20%20%20%20%0A%0A%20%20%20%20%20%20%20%20circle_marker_a23bbb3f9fb34737ae4277d6b40725a5.bindPopup%28popup_a21c0098eefd4647b64b21ec94c904c9%29%0A%20%20%20%20%20%20%20%20%3B%0A%0A%20%20%20%20%20%20%20%20%0A%20%20%20%20%0A%20%20%20%20%0A%20%20%20%20%20%20%20%20%20%20%20%20var%20circle_marker_370910472c2c477296705eabb72aac2a%20%3D%20L.circleMarker%28%0A%20%20%20%20%20%20%20%20%20%20%20%20%20%20%20%20%5B51.596827149999996%2C%20-0.33731605402671094%5D%2C%0A%20%20%20%20%20%20%20%20%20%20%20%20%20%20%20%20%7B%22bubblingMouseEvents%22%3A%20true%2C%20%22color%22%3A%20%22blue%22%2C%20%22dashArray%22%3A%20null%2C%20%22dashOffset%22%3A%20null%2C%20%22fill%22%3A%20true%2C%20%22fillColor%22%3A%20%22%233186cc%22%2C%20%22fillOpacity%22%3A%200.7%2C%20%22fillRule%22%3A%20%22evenodd%22%2C%20%22lineCap%22%3A%20%22round%22%2C%20%22lineJoin%22%3A%20%22round%22%2C%20%22opacity%22%3A%201.0%2C%20%22radius%22%3A%205%2C%20%22stroke%22%3A%20true%2C%20%22weight%22%3A%203%7D%0A%20%20%20%20%20%20%20%20%20%20%20%20%29.addTo%28map_25bef40fd7274b89aab140cae401acaf%29%3B%0A%20%20%20%20%20%20%20%20%0A%20%20%20%20%0A%20%20%20%20%20%20%20%20var%20popup_95fbb527911a42aba33bd7e16def9939%20%3D%20L.popup%28%7B%22maxWidth%22%3A%20%22100%25%22%7D%29%3B%0A%0A%20%20%20%20%20%20%20%20%0A%20%20%20%20%20%20%20%20%20%20%20%20var%20html_5f1a00f32716443cacf19484f75a31a8%20%3D%20%24%28%60%3Cdiv%20id%3D%22html_5f1a00f32716443cacf19484f75a31a8%22%20style%3D%22width%3A%20100.0%25%3B%20height%3A%20100.0%25%3B%22%3EHarrow%3C/div%3E%60%29%5B0%5D%3B%0A%20%20%20%20%20%20%20%20%20%20%20%20popup_95fbb527911a42aba33bd7e16def9939.setContent%28html_5f1a00f32716443cacf19484f75a31a8%29%3B%0A%20%20%20%20%20%20%20%20%0A%0A%20%20%20%20%20%20%20%20circle_marker_370910472c2c477296705eabb72aac2a.bindPopup%28popup_95fbb527911a42aba33bd7e16def9939%29%0A%20%20%20%20%20%20%20%20%3B%0A%0A%20%20%20%20%20%20%20%20%0A%20%20%20%20%0A%20%20%20%20%0A%20%20%20%20%20%20%20%20%20%20%20%20var%20circle_marker_6b38504e1dd34115a91cb56e60ae7ab3%20%3D%20L.circleMarker%28%0A%20%20%20%20%20%20%20%20%20%20%20%20%20%20%20%20%5B51.5443851%2C%20-0.14430716398919305%5D%2C%0A%20%20%20%20%20%20%20%20%20%20%20%20%20%20%20%20%7B%22bubblingMouseEvents%22%3A%20true%2C%20%22color%22%3A%20%22blue%22%2C%20%22dashArray%22%3A%20null%2C%20%22dashOffset%22%3A%20null%2C%20%22fill%22%3A%20true%2C%20%22fillColor%22%3A%20%22%233186cc%22%2C%20%22fillOpacity%22%3A%200.7%2C%20%22fillRule%22%3A%20%22evenodd%22%2C%20%22lineCap%22%3A%20%22round%22%2C%20%22lineJoin%22%3A%20%22round%22%2C%20%22opacity%22%3A%201.0%2C%20%22radius%22%3A%205%2C%20%22stroke%22%3A%20true%2C%20%22weight%22%3A%203%7D%0A%20%20%20%20%20%20%20%20%20%20%20%20%29.addTo%28map_25bef40fd7274b89aab140cae401acaf%29%3B%0A%20%20%20%20%20%20%20%20%0A%20%20%20%20%0A%20%20%20%20%20%20%20%20var%20popup_f5e55505ba0f4a74be104827bb80c6b1%20%3D%20L.popup%28%7B%22maxWidth%22%3A%20%22100%25%22%7D%29%3B%0A%0A%20%20%20%20%20%20%20%20%0A%20%20%20%20%20%20%20%20%20%20%20%20var%20html_c18d8f43de6a46d1becd1310b0feea6b%20%3D%20%24%28%60%3Cdiv%20id%3D%22html_c18d8f43de6a46d1becd1310b0feea6b%22%20style%3D%22width%3A%20100.0%25%3B%20height%3A%20100.0%25%3B%22%3EHavering%3C/div%3E%60%29%5B0%5D%3B%0A%20%20%20%20%20%20%20%20%20%20%20%20popup_f5e55505ba0f4a74be104827bb80c6b1.setContent%28html_c18d8f43de6a46d1becd1310b0feea6b%29%3B%0A%20%20%20%20%20%20%20%20%0A%0A%20%20%20%20%20%20%20%20circle_marker_6b38504e1dd34115a91cb56e60ae7ab3.bindPopup%28popup_f5e55505ba0f4a74be104827bb80c6b1%29%0A%20%20%20%20%20%20%20%20%3B%0A%0A%20%20%20%20%20%20%20%20%0A%20%20%20%20%0A%20%20%20%20%0A%20%20%20%20%20%20%20%20%20%20%20%20var%20circle_marker_772296eba66f4fbb9b416465c766cd32%20%3D%20L.circleMarker%28%0A%20%20%20%20%20%20%20%20%20%20%20%20%20%20%20%20%5B51.542519299999995%2C%20-0.44833493117949663%5D%2C%0A%20%20%20%20%20%20%20%20%20%20%20%20%20%20%20%20%7B%22bubblingMouseEvents%22%3A%20true%2C%20%22color%22%3A%20%22blue%22%2C%20%22dashArray%22%3A%20null%2C%20%22dashOffset%22%3A%20null%2C%20%22fill%22%3A%20true%2C%20%22fillColor%22%3A%20%22%233186cc%22%2C%20%22fillOpacity%22%3A%200.7%2C%20%22fillRule%22%3A%20%22evenodd%22%2C%20%22lineCap%22%3A%20%22round%22%2C%20%22lineJoin%22%3A%20%22round%22%2C%20%22opacity%22%3A%201.0%2C%20%22radius%22%3A%205%2C%20%22stroke%22%3A%20true%2C%20%22weight%22%3A%203%7D%0A%20%20%20%20%20%20%20%20%20%20%20%20%29.addTo%28map_25bef40fd7274b89aab140cae401acaf%29%3B%0A%20%20%20%20%20%20%20%20%0A%20%20%20%20%0A%20%20%20%20%20%20%20%20var%20popup_1ceb5dc87285490c85b72aabba55af10%20%3D%20L.popup%28%7B%22maxWidth%22%3A%20%22100%25%22%7D%29%3B%0A%0A%20%20%20%20%20%20%20%20%0A%20%20%20%20%20%20%20%20%20%20%20%20var%20html_5c7c72d9625e44e3b9bec382dca50946%20%3D%20%24%28%60%3Cdiv%20id%3D%22html_5c7c72d9625e44e3b9bec382dca50946%22%20style%3D%22width%3A%20100.0%25%3B%20height%3A%20100.0%25%3B%22%3EHillingdon%3C/div%3E%60%29%5B0%5D%3B%0A%20%20%20%20%20%20%20%20%20%20%20%20popup_1ceb5dc87285490c85b72aabba55af10.setContent%28html_5c7c72d9625e44e3b9bec382dca50946%29%3B%0A%20%20%20%20%20%20%20%20%0A%0A%20%20%20%20%20%20%20%20circle_marker_772296eba66f4fbb9b416465c766cd32.bindPopup%28popup_1ceb5dc87285490c85b72aabba55af10%29%0A%20%20%20%20%20%20%20%20%3B%0A%0A%20%20%20%20%20%20%20%20%0A%20%20%20%20%0A%20%20%20%20%0A%20%20%20%20%20%20%20%20%20%20%20%20var%20circle_marker_3adfbc8e9efb4bee96e3015382e60d6b%20%3D%20L.circleMarker%28%0A%20%20%20%20%20%20%20%20%20%20%20%20%20%20%20%20%5B51.4686132%2C%20-0.3613471%5D%2C%0A%20%20%20%20%20%20%20%20%20%20%20%20%20%20%20%20%7B%22bubblingMouseEvents%22%3A%20true%2C%20%22color%22%3A%20%22blue%22%2C%20%22dashArray%22%3A%20null%2C%20%22dashOffset%22%3A%20null%2C%20%22fill%22%3A%20true%2C%20%22fillColor%22%3A%20%22%233186cc%22%2C%20%22fillOpacity%22%3A%200.7%2C%20%22fillRule%22%3A%20%22evenodd%22%2C%20%22lineCap%22%3A%20%22round%22%2C%20%22lineJoin%22%3A%20%22round%22%2C%20%22opacity%22%3A%201.0%2C%20%22radius%22%3A%205%2C%20%22stroke%22%3A%20true%2C%20%22weight%22%3A%203%7D%0A%20%20%20%20%20%20%20%20%20%20%20%20%29.addTo%28map_25bef40fd7274b89aab140cae401acaf%29%3B%0A%20%20%20%20%20%20%20%20%0A%20%20%20%20%0A%20%20%20%20%20%20%20%20var%20popup_43a945d99e78478da71acf2173e5a1b4%20%3D%20L.popup%28%7B%22maxWidth%22%3A%20%22100%25%22%7D%29%3B%0A%0A%20%20%20%20%20%20%20%20%0A%20%20%20%20%20%20%20%20%20%20%20%20var%20html_72dc1149f65b442f90ca7982de588110%20%3D%20%24%28%60%3Cdiv%20id%3D%22html_72dc1149f65b442f90ca7982de588110%22%20style%3D%22width%3A%20100.0%25%3B%20height%3A%20100.0%25%3B%22%3EHounslow%3C/div%3E%60%29%5B0%5D%3B%0A%20%20%20%20%20%20%20%20%20%20%20%20popup_43a945d99e78478da71acf2173e5a1b4.setContent%28html_72dc1149f65b442f90ca7982de588110%29%3B%0A%20%20%20%20%20%20%20%20%0A%0A%20%20%20%20%20%20%20%20circle_marker_3adfbc8e9efb4bee96e3015382e60d6b.bindPopup%28popup_43a945d99e78478da71acf2173e5a1b4%29%0A%20%20%20%20%20%20%20%20%3B%0A%0A%20%20%20%20%20%20%20%20%0A%20%20%20%20%0A%20%20%20%20%0A%20%20%20%20%20%20%20%20%20%20%20%20var%20circle_marker_43727fcea12344e88400434e17fe3e76%20%3D%20L.circleMarker%28%0A%20%20%20%20%20%20%20%20%20%20%20%20%20%20%20%20%5B51.5384287%2C%20-0.0999051%5D%2C%0A%20%20%20%20%20%20%20%20%20%20%20%20%20%20%20%20%7B%22bubblingMouseEvents%22%3A%20true%2C%20%22color%22%3A%20%22blue%22%2C%20%22dashArray%22%3A%20null%2C%20%22dashOffset%22%3A%20null%2C%20%22fill%22%3A%20true%2C%20%22fillColor%22%3A%20%22%233186cc%22%2C%20%22fillOpacity%22%3A%200.7%2C%20%22fillRule%22%3A%20%22evenodd%22%2C%20%22lineCap%22%3A%20%22round%22%2C%20%22lineJoin%22%3A%20%22round%22%2C%20%22opacity%22%3A%201.0%2C%20%22radius%22%3A%205%2C%20%22stroke%22%3A%20true%2C%20%22weight%22%3A%203%7D%0A%20%20%20%20%20%20%20%20%20%20%20%20%29.addTo%28map_25bef40fd7274b89aab140cae401acaf%29%3B%0A%20%20%20%20%20%20%20%20%0A%20%20%20%20%0A%20%20%20%20%20%20%20%20var%20popup_f9adf48afbfa4182a8f127a03254b7bd%20%3D%20L.popup%28%7B%22maxWidth%22%3A%20%22100%25%22%7D%29%3B%0A%0A%20%20%20%20%20%20%20%20%0A%20%20%20%20%20%20%20%20%20%20%20%20var%20html_175ac16ba51d486cb683ffe94b9d4d39%20%3D%20%24%28%60%3Cdiv%20id%3D%22html_175ac16ba51d486cb683ffe94b9d4d39%22%20style%3D%22width%3A%20100.0%25%3B%20height%3A%20100.0%25%3B%22%3EIslington%3C/div%3E%60%29%5B0%5D%3B%0A%20%20%20%20%20%20%20%20%20%20%20%20popup_f9adf48afbfa4182a8f127a03254b7bd.setContent%28html_175ac16ba51d486cb683ffe94b9d4d39%29%3B%0A%20%20%20%20%20%20%20%20%0A%0A%20%20%20%20%20%20%20%20circle_marker_43727fcea12344e88400434e17fe3e76.bindPopup%28popup_f9adf48afbfa4182a8f127a03254b7bd%29%0A%20%20%20%20%20%20%20%20%3B%0A%0A%20%20%20%20%20%20%20%20%0A%20%20%20%20%0A%20%20%20%20%0A%20%20%20%20%20%20%20%20%20%20%20%20var%20circle_marker_b701dd49907e4ee5afaa5dd20a0002ed%20%3D%20L.circleMarker%28%0A%20%20%20%20%20%20%20%20%20%20%20%20%20%20%20%20%5B51.498480400000005%2C%20-0.1990432138025393%5D%2C%0A%20%20%20%20%20%20%20%20%20%20%20%20%20%20%20%20%7B%22bubblingMouseEvents%22%3A%20true%2C%20%22color%22%3A%20%22blue%22%2C%20%22dashArray%22%3A%20null%2C%20%22dashOffset%22%3A%20null%2C%20%22fill%22%3A%20true%2C%20%22fillColor%22%3A%20%22%233186cc%22%2C%20%22fillOpacity%22%3A%200.7%2C%20%22fillRule%22%3A%20%22evenodd%22%2C%20%22lineCap%22%3A%20%22round%22%2C%20%22lineJoin%22%3A%20%22round%22%2C%20%22opacity%22%3A%201.0%2C%20%22radius%22%3A%205%2C%20%22stroke%22%3A%20true%2C%20%22weight%22%3A%203%7D%0A%20%20%20%20%20%20%20%20%20%20%20%20%29.addTo%28map_25bef40fd7274b89aab140cae401acaf%29%3B%0A%20%20%20%20%20%20%20%20%0A%20%20%20%20%0A%20%20%20%20%20%20%20%20var%20popup_c2dae12e85024cca903e616aac60e25f%20%3D%20L.popup%28%7B%22maxWidth%22%3A%20%22100%25%22%7D%29%3B%0A%0A%20%20%20%20%20%20%20%20%0A%20%20%20%20%20%20%20%20%20%20%20%20var%20html_77ed83b44b7946d4a48c8072eb31329d%20%3D%20%24%28%60%3Cdiv%20id%3D%22html_77ed83b44b7946d4a48c8072eb31329d%22%20style%3D%22width%3A%20100.0%25%3B%20height%3A%20100.0%25%3B%22%3EKensington%20and%20Chelsea%3C/div%3E%60%29%5B0%5D%3B%0A%20%20%20%20%20%20%20%20%20%20%20%20popup_c2dae12e85024cca903e616aac60e25f.setContent%28html_77ed83b44b7946d4a48c8072eb31329d%29%3B%0A%20%20%20%20%20%20%20%20%0A%0A%20%20%20%20%20%20%20%20circle_marker_b701dd49907e4ee5afaa5dd20a0002ed.bindPopup%28popup_c2dae12e85024cca903e616aac60e25f%29%0A%20%20%20%20%20%20%20%20%3B%0A%0A%20%20%20%20%20%20%20%20%0A%20%20%20%20%0A%20%20%20%20%0A%20%20%20%20%20%20%20%20%20%20%20%20var%20circle_marker_960828d720384188b9809af007ae2eff%20%3D%20L.circleMarker%28%0A%20%20%20%20%20%20%20%20%20%20%20%20%20%20%20%20%5B51.4096275%2C%20-0.3062621%5D%2C%0A%20%20%20%20%20%20%20%20%20%20%20%20%20%20%20%20%7B%22bubblingMouseEvents%22%3A%20true%2C%20%22color%22%3A%20%22blue%22%2C%20%22dashArray%22%3A%20null%2C%20%22dashOffset%22%3A%20null%2C%20%22fill%22%3A%20true%2C%20%22fillColor%22%3A%20%22%233186cc%22%2C%20%22fillOpacity%22%3A%200.7%2C%20%22fillRule%22%3A%20%22evenodd%22%2C%20%22lineCap%22%3A%20%22round%22%2C%20%22lineJoin%22%3A%20%22round%22%2C%20%22opacity%22%3A%201.0%2C%20%22radius%22%3A%205%2C%20%22stroke%22%3A%20true%2C%20%22weight%22%3A%203%7D%0A%20%20%20%20%20%20%20%20%20%20%20%20%29.addTo%28map_25bef40fd7274b89aab140cae401acaf%29%3B%0A%20%20%20%20%20%20%20%20%0A%20%20%20%20%0A%20%20%20%20%20%20%20%20var%20popup_9bc1118cb919450cb9002c9079868f02%20%3D%20L.popup%28%7B%22maxWidth%22%3A%20%22100%25%22%7D%29%3B%0A%0A%20%20%20%20%20%20%20%20%0A%20%20%20%20%20%20%20%20%20%20%20%20var%20html_d55982f46de143b687712a3f1840e074%20%3D%20%24%28%60%3Cdiv%20id%3D%22html_d55982f46de143b687712a3f1840e074%22%20style%3D%22width%3A%20100.0%25%3B%20height%3A%20100.0%25%3B%22%3EKingston%20upon%20Thames%3C/div%3E%60%29%5B0%5D%3B%0A%20%20%20%20%20%20%20%20%20%20%20%20popup_9bc1118cb919450cb9002c9079868f02.setContent%28html_d55982f46de143b687712a3f1840e074%29%3B%0A%20%20%20%20%20%20%20%20%0A%0A%20%20%20%20%20%20%20%20circle_marker_960828d720384188b9809af007ae2eff.bindPopup%28popup_9bc1118cb919450cb9002c9079868f02%29%0A%20%20%20%20%20%20%20%20%3B%0A%0A%20%20%20%20%20%20%20%20%0A%20%20%20%20%0A%20%20%20%20%0A%20%20%20%20%20%20%20%20%20%20%20%20var%20circle_marker_a7d0a65beb3e4fc38ba8a092f50ea6e5%20%3D%20L.circleMarker%28%0A%20%20%20%20%20%20%20%20%20%20%20%20%20%20%20%20%5B51.5013012%2C%20-0.117287%5D%2C%0A%20%20%20%20%20%20%20%20%20%20%20%20%20%20%20%20%7B%22bubblingMouseEvents%22%3A%20true%2C%20%22color%22%3A%20%22blue%22%2C%20%22dashArray%22%3A%20null%2C%20%22dashOffset%22%3A%20null%2C%20%22fill%22%3A%20true%2C%20%22fillColor%22%3A%20%22%233186cc%22%2C%20%22fillOpacity%22%3A%200.7%2C%20%22fillRule%22%3A%20%22evenodd%22%2C%20%22lineCap%22%3A%20%22round%22%2C%20%22lineJoin%22%3A%20%22round%22%2C%20%22opacity%22%3A%201.0%2C%20%22radius%22%3A%205%2C%20%22stroke%22%3A%20true%2C%20%22weight%22%3A%203%7D%0A%20%20%20%20%20%20%20%20%20%20%20%20%29.addTo%28map_25bef40fd7274b89aab140cae401acaf%29%3B%0A%20%20%20%20%20%20%20%20%0A%20%20%20%20%0A%20%20%20%20%20%20%20%20var%20popup_afe083c66ffd4a908baadd0ebee96489%20%3D%20L.popup%28%7B%22maxWidth%22%3A%20%22100%25%22%7D%29%3B%0A%0A%20%20%20%20%20%20%20%20%0A%20%20%20%20%20%20%20%20%20%20%20%20var%20html_58a6320002d4421eb7099860686a3028%20%3D%20%24%28%60%3Cdiv%20id%3D%22html_58a6320002d4421eb7099860686a3028%22%20style%3D%22width%3A%20100.0%25%3B%20height%3A%20100.0%25%3B%22%3ELambeth%3C/div%3E%60%29%5B0%5D%3B%0A%20%20%20%20%20%20%20%20%20%20%20%20popup_afe083c66ffd4a908baadd0ebee96489.setContent%28html_58a6320002d4421eb7099860686a3028%29%3B%0A%20%20%20%20%20%20%20%20%0A%0A%20%20%20%20%20%20%20%20circle_marker_a7d0a65beb3e4fc38ba8a092f50ea6e5.bindPopup%28popup_afe083c66ffd4a908baadd0ebee96489%29%0A%20%20%20%20%20%20%20%20%3B%0A%0A%20%20%20%20%20%20%20%20%0A%20%20%20%20%0A%20%20%20%20%0A%20%20%20%20%20%20%20%20%20%20%20%20var%20circle_marker_2beb49036a7b41ed999f5454be519746%20%3D%20L.circleMarker%28%0A%20%20%20%20%20%20%20%20%20%20%20%20%20%20%20%20%5B51.4624325%2C%20-0.0101331%5D%2C%0A%20%20%20%20%20%20%20%20%20%20%20%20%20%20%20%20%7B%22bubblingMouseEvents%22%3A%20true%2C%20%22color%22%3A%20%22blue%22%2C%20%22dashArray%22%3A%20null%2C%20%22dashOffset%22%3A%20null%2C%20%22fill%22%3A%20true%2C%20%22fillColor%22%3A%20%22%233186cc%22%2C%20%22fillOpacity%22%3A%200.7%2C%20%22fillRule%22%3A%20%22evenodd%22%2C%20%22lineCap%22%3A%20%22round%22%2C%20%22lineJoin%22%3A%20%22round%22%2C%20%22opacity%22%3A%201.0%2C%20%22radius%22%3A%205%2C%20%22stroke%22%3A%20true%2C%20%22weight%22%3A%203%7D%0A%20%20%20%20%20%20%20%20%20%20%20%20%29.addTo%28map_25bef40fd7274b89aab140cae401acaf%29%3B%0A%20%20%20%20%20%20%20%20%0A%20%20%20%20%0A%20%20%20%20%20%20%20%20var%20popup_ef58a1af180a4c029c864869a3118ac1%20%3D%20L.popup%28%7B%22maxWidth%22%3A%20%22100%25%22%7D%29%3B%0A%0A%20%20%20%20%20%20%20%20%0A%20%20%20%20%20%20%20%20%20%20%20%20var%20html_6b971b89e9d446e8a490b38e2196c4cb%20%3D%20%24%28%60%3Cdiv%20id%3D%22html_6b971b89e9d446e8a490b38e2196c4cb%22%20style%3D%22width%3A%20100.0%25%3B%20height%3A%20100.0%25%3B%22%3ELewisham%3C/div%3E%60%29%5B0%5D%3B%0A%20%20%20%20%20%20%20%20%20%20%20%20popup_ef58a1af180a4c029c864869a3118ac1.setContent%28html_6b971b89e9d446e8a490b38e2196c4cb%29%3B%0A%20%20%20%20%20%20%20%20%0A%0A%20%20%20%20%20%20%20%20circle_marker_2beb49036a7b41ed999f5454be519746.bindPopup%28popup_ef58a1af180a4c029c864869a3118ac1%29%0A%20%20%20%20%20%20%20%20%3B%0A%0A%20%20%20%20%20%20%20%20%0A%20%20%20%20%0A%20%20%20%20%0A%20%20%20%20%20%20%20%20%20%20%20%20var%20circle_marker_ffcca4a7c05c45efaa256622d2207729%20%3D%20L.circleMarker%28%0A%20%20%20%20%20%20%20%20%20%20%20%20%20%20%20%20%5B51.41086985%2C%20-0.18809708858824303%5D%2C%0A%20%20%20%20%20%20%20%20%20%20%20%20%20%20%20%20%7B%22bubblingMouseEvents%22%3A%20true%2C%20%22color%22%3A%20%22blue%22%2C%20%22dashArray%22%3A%20null%2C%20%22dashOffset%22%3A%20null%2C%20%22fill%22%3A%20true%2C%20%22fillColor%22%3A%20%22%233186cc%22%2C%20%22fillOpacity%22%3A%200.7%2C%20%22fillRule%22%3A%20%22evenodd%22%2C%20%22lineCap%22%3A%20%22round%22%2C%20%22lineJoin%22%3A%20%22round%22%2C%20%22opacity%22%3A%201.0%2C%20%22radius%22%3A%205%2C%20%22stroke%22%3A%20true%2C%20%22weight%22%3A%203%7D%0A%20%20%20%20%20%20%20%20%20%20%20%20%29.addTo%28map_25bef40fd7274b89aab140cae401acaf%29%3B%0A%20%20%20%20%20%20%20%20%0A%20%20%20%20%0A%20%20%20%20%20%20%20%20var%20popup_077e166fa81b46b6aa9875c04528d648%20%3D%20L.popup%28%7B%22maxWidth%22%3A%20%22100%25%22%7D%29%3B%0A%0A%20%20%20%20%20%20%20%20%0A%20%20%20%20%20%20%20%20%20%20%20%20var%20html_45263be8674a4da9a1a800b2c44286f1%20%3D%20%24%28%60%3Cdiv%20id%3D%22html_45263be8674a4da9a1a800b2c44286f1%22%20style%3D%22width%3A%20100.0%25%3B%20height%3A%20100.0%25%3B%22%3EMerton%3C/div%3E%60%29%5B0%5D%3B%0A%20%20%20%20%20%20%20%20%20%20%20%20popup_077e166fa81b46b6aa9875c04528d648.setContent%28html_45263be8674a4da9a1a800b2c44286f1%29%3B%0A%20%20%20%20%20%20%20%20%0A%0A%20%20%20%20%20%20%20%20circle_marker_ffcca4a7c05c45efaa256622d2207729.bindPopup%28popup_077e166fa81b46b6aa9875c04528d648%29%0A%20%20%20%20%20%20%20%20%3B%0A%0A%20%20%20%20%20%20%20%20%0A%20%20%20%20%0A%20%20%20%20%0A%20%20%20%20%20%20%20%20%20%20%20%20var%20circle_marker_1af8bcf360c24688818a121a05d1e629%20%3D%20L.circleMarker%28%0A%20%20%20%20%20%20%20%20%20%20%20%20%20%20%20%20%5B51.52999955%2C%200.02931796029382208%5D%2C%0A%20%20%20%20%20%20%20%20%20%20%20%20%20%20%20%20%7B%22bubblingMouseEvents%22%3A%20true%2C%20%22color%22%3A%20%22blue%22%2C%20%22dashArray%22%3A%20null%2C%20%22dashOffset%22%3A%20null%2C%20%22fill%22%3A%20true%2C%20%22fillColor%22%3A%20%22%233186cc%22%2C%20%22fillOpacity%22%3A%200.7%2C%20%22fillRule%22%3A%20%22evenodd%22%2C%20%22lineCap%22%3A%20%22round%22%2C%20%22lineJoin%22%3A%20%22round%22%2C%20%22opacity%22%3A%201.0%2C%20%22radius%22%3A%205%2C%20%22stroke%22%3A%20true%2C%20%22weight%22%3A%203%7D%0A%20%20%20%20%20%20%20%20%20%20%20%20%29.addTo%28map_25bef40fd7274b89aab140cae401acaf%29%3B%0A%20%20%20%20%20%20%20%20%0A%20%20%20%20%0A%20%20%20%20%20%20%20%20var%20popup_02da13d9bde44b87a1b2b1f2d6aaaf7d%20%3D%20L.popup%28%7B%22maxWidth%22%3A%20%22100%25%22%7D%29%3B%0A%0A%20%20%20%20%20%20%20%20%0A%20%20%20%20%20%20%20%20%20%20%20%20var%20html_68afc60008b046fc90ab73bb308ce919%20%3D%20%24%28%60%3Cdiv%20id%3D%22html_68afc60008b046fc90ab73bb308ce919%22%20style%3D%22width%3A%20100.0%25%3B%20height%3A%20100.0%25%3B%22%3ENewham%3C/div%3E%60%29%5B0%5D%3B%0A%20%20%20%20%20%20%20%20%20%20%20%20popup_02da13d9bde44b87a1b2b1f2d6aaaf7d.setContent%28html_68afc60008b046fc90ab73bb308ce919%29%3B%0A%20%20%20%20%20%20%20%20%0A%0A%20%20%20%20%20%20%20%20circle_marker_1af8bcf360c24688818a121a05d1e629.bindPopup%28popup_02da13d9bde44b87a1b2b1f2d6aaaf7d%29%0A%20%20%20%20%20%20%20%20%3B%0A%0A%20%20%20%20%20%20%20%20%0A%20%20%20%20%0A%20%20%20%20%0A%20%20%20%20%20%20%20%20%20%20%20%20var%20circle_marker_bda75a11a79242669d478abd36ad2c97%20%3D%20L.circleMarker%28%0A%20%20%20%20%20%20%20%20%20%20%20%20%20%20%20%20%5B51.5763203%2C%200.0454097%5D%2C%0A%20%20%20%20%20%20%20%20%20%20%20%20%20%20%20%20%7B%22bubblingMouseEvents%22%3A%20true%2C%20%22color%22%3A%20%22blue%22%2C%20%22dashArray%22%3A%20null%2C%20%22dashOffset%22%3A%20null%2C%20%22fill%22%3A%20true%2C%20%22fillColor%22%3A%20%22%233186cc%22%2C%20%22fillOpacity%22%3A%200.7%2C%20%22fillRule%22%3A%20%22evenodd%22%2C%20%22lineCap%22%3A%20%22round%22%2C%20%22lineJoin%22%3A%20%22round%22%2C%20%22opacity%22%3A%201.0%2C%20%22radius%22%3A%205%2C%20%22stroke%22%3A%20true%2C%20%22weight%22%3A%203%7D%0A%20%20%20%20%20%20%20%20%20%20%20%20%29.addTo%28map_25bef40fd7274b89aab140cae401acaf%29%3B%0A%20%20%20%20%20%20%20%20%0A%20%20%20%20%0A%20%20%20%20%20%20%20%20var%20popup_8812d5129ce14609af87486ce546c452%20%3D%20L.popup%28%7B%22maxWidth%22%3A%20%22100%25%22%7D%29%3B%0A%0A%20%20%20%20%20%20%20%20%0A%20%20%20%20%20%20%20%20%20%20%20%20var%20html_01e8790f1c3c4d249e0ab1ba6a2993ad%20%3D%20%24%28%60%3Cdiv%20id%3D%22html_01e8790f1c3c4d249e0ab1ba6a2993ad%22%20style%3D%22width%3A%20100.0%25%3B%20height%3A%20100.0%25%3B%22%3ERedbridge%3C/div%3E%60%29%5B0%5D%3B%0A%20%20%20%20%20%20%20%20%20%20%20%20popup_8812d5129ce14609af87486ce546c452.setContent%28html_01e8790f1c3c4d249e0ab1ba6a2993ad%29%3B%0A%20%20%20%20%20%20%20%20%0A%0A%20%20%20%20%20%20%20%20circle_marker_bda75a11a79242669d478abd36ad2c97.bindPopup%28popup_8812d5129ce14609af87486ce546c452%29%0A%20%20%20%20%20%20%20%20%3B%0A%0A%20%20%20%20%20%20%20%20%0A%20%20%20%20%0A%20%20%20%20%0A%20%20%20%20%20%20%20%20%20%20%20%20var%20circle_marker_606ff3711afb49f693621e2b73003974%20%3D%20L.circleMarker%28%0A%20%20%20%20%20%20%20%20%20%20%20%20%20%20%20%20%5B51.4405529%2C%20-0.3076394377337949%5D%2C%0A%20%20%20%20%20%20%20%20%20%20%20%20%20%20%20%20%7B%22bubblingMouseEvents%22%3A%20true%2C%20%22color%22%3A%20%22blue%22%2C%20%22dashArray%22%3A%20null%2C%20%22dashOffset%22%3A%20null%2C%20%22fill%22%3A%20true%2C%20%22fillColor%22%3A%20%22%233186cc%22%2C%20%22fillOpacity%22%3A%200.7%2C%20%22fillRule%22%3A%20%22evenodd%22%2C%20%22lineCap%22%3A%20%22round%22%2C%20%22lineJoin%22%3A%20%22round%22%2C%20%22opacity%22%3A%201.0%2C%20%22radius%22%3A%205%2C%20%22stroke%22%3A%20true%2C%20%22weight%22%3A%203%7D%0A%20%20%20%20%20%20%20%20%20%20%20%20%29.addTo%28map_25bef40fd7274b89aab140cae401acaf%29%3B%0A%20%20%20%20%20%20%20%20%0A%20%20%20%20%0A%20%20%20%20%20%20%20%20var%20popup_4fb480feb0114effa465afc4b7766bb7%20%3D%20L.popup%28%7B%22maxWidth%22%3A%20%22100%25%22%7D%29%3B%0A%0A%20%20%20%20%20%20%20%20%0A%20%20%20%20%20%20%20%20%20%20%20%20var%20html_e0336e71e7c14e3cbe70daed0464c63c%20%3D%20%24%28%60%3Cdiv%20id%3D%22html_e0336e71e7c14e3cbe70daed0464c63c%22%20style%3D%22width%3A%20100.0%25%3B%20height%3A%20100.0%25%3B%22%3ERichmond%20upon%20Thames%3C/div%3E%60%29%5B0%5D%3B%0A%20%20%20%20%20%20%20%20%20%20%20%20popup_4fb480feb0114effa465afc4b7766bb7.setContent%28html_e0336e71e7c14e3cbe70daed0464c63c%29%3B%0A%20%20%20%20%20%20%20%20%0A%0A%20%20%20%20%20%20%20%20circle_marker_606ff3711afb49f693621e2b73003974.bindPopup%28popup_4fb480feb0114effa465afc4b7766bb7%29%0A%20%20%20%20%20%20%20%20%3B%0A%0A%20%20%20%20%20%20%20%20%0A%20%20%20%20%0A%20%20%20%20%0A%20%20%20%20%20%20%20%20%20%20%20%20var%20circle_marker_f36025c827034e28aca8d16b40049cf4%20%3D%20L.circleMarker%28%0A%20%20%20%20%20%20%20%20%20%20%20%20%20%20%20%20%5B51.5029222%2C%20-0.103458%5D%2C%0A%20%20%20%20%20%20%20%20%20%20%20%20%20%20%20%20%7B%22bubblingMouseEvents%22%3A%20true%2C%20%22color%22%3A%20%22blue%22%2C%20%22dashArray%22%3A%20null%2C%20%22dashOffset%22%3A%20null%2C%20%22fill%22%3A%20true%2C%20%22fillColor%22%3A%20%22%233186cc%22%2C%20%22fillOpacity%22%3A%200.7%2C%20%22fillRule%22%3A%20%22evenodd%22%2C%20%22lineCap%22%3A%20%22round%22%2C%20%22lineJoin%22%3A%20%22round%22%2C%20%22opacity%22%3A%201.0%2C%20%22radius%22%3A%205%2C%20%22stroke%22%3A%20true%2C%20%22weight%22%3A%203%7D%0A%20%20%20%20%20%20%20%20%20%20%20%20%29.addTo%28map_25bef40fd7274b89aab140cae401acaf%29%3B%0A%20%20%20%20%20%20%20%20%0A%20%20%20%20%0A%20%20%20%20%20%20%20%20var%20popup_4a1627e39ca743008719e384524bc54c%20%3D%20L.popup%28%7B%22maxWidth%22%3A%20%22100%25%22%7D%29%3B%0A%0A%20%20%20%20%20%20%20%20%0A%20%20%20%20%20%20%20%20%20%20%20%20var%20html_29e5409c3afa411aa18230c0629bb66f%20%3D%20%24%28%60%3Cdiv%20id%3D%22html_29e5409c3afa411aa18230c0629bb66f%22%20style%3D%22width%3A%20100.0%25%3B%20height%3A%20100.0%25%3B%22%3ESouthwark%3C/div%3E%60%29%5B0%5D%3B%0A%20%20%20%20%20%20%20%20%20%20%20%20popup_4a1627e39ca743008719e384524bc54c.setContent%28html_29e5409c3afa411aa18230c0629bb66f%29%3B%0A%20%20%20%20%20%20%20%20%0A%0A%20%20%20%20%20%20%20%20circle_marker_f36025c827034e28aca8d16b40049cf4.bindPopup%28popup_4a1627e39ca743008719e384524bc54c%29%0A%20%20%20%20%20%20%20%20%3B%0A%0A%20%20%20%20%20%20%20%20%0A%20%20%20%20%0A%20%20%20%20%0A%20%20%20%20%20%20%20%20%20%20%20%20var%20circle_marker_9128efc8326c41a58921c1ed849c2087%20%3D%20L.circleMarker%28%0A%20%20%20%20%20%20%20%20%20%20%20%20%20%20%20%20%5B51.357464449999995%2C%20-0.17362689496950337%5D%2C%0A%20%20%20%20%20%20%20%20%20%20%20%20%20%20%20%20%7B%22bubblingMouseEvents%22%3A%20true%2C%20%22color%22%3A%20%22blue%22%2C%20%22dashArray%22%3A%20null%2C%20%22dashOffset%22%3A%20null%2C%20%22fill%22%3A%20true%2C%20%22fillColor%22%3A%20%22%233186cc%22%2C%20%22fillOpacity%22%3A%200.7%2C%20%22fillRule%22%3A%20%22evenodd%22%2C%20%22lineCap%22%3A%20%22round%22%2C%20%22lineJoin%22%3A%20%22round%22%2C%20%22opacity%22%3A%201.0%2C%20%22radius%22%3A%205%2C%20%22stroke%22%3A%20true%2C%20%22weight%22%3A%203%7D%0A%20%20%20%20%20%20%20%20%20%20%20%20%29.addTo%28map_25bef40fd7274b89aab140cae401acaf%29%3B%0A%20%20%20%20%20%20%20%20%0A%20%20%20%20%0A%20%20%20%20%20%20%20%20var%20popup_8fc14bc6321f4aa384694964dc504907%20%3D%20L.popup%28%7B%22maxWidth%22%3A%20%22100%25%22%7D%29%3B%0A%0A%20%20%20%20%20%20%20%20%0A%20%20%20%20%20%20%20%20%20%20%20%20var%20html_223058253bf042d3a041207e31765250%20%3D%20%24%28%60%3Cdiv%20id%3D%22html_223058253bf042d3a041207e31765250%22%20style%3D%22width%3A%20100.0%25%3B%20height%3A%20100.0%25%3B%22%3ESutton%3C/div%3E%60%29%5B0%5D%3B%0A%20%20%20%20%20%20%20%20%20%20%20%20popup_8fc14bc6321f4aa384694964dc504907.setContent%28html_223058253bf042d3a041207e31765250%29%3B%0A%20%20%20%20%20%20%20%20%0A%0A%20%20%20%20%20%20%20%20circle_marker_9128efc8326c41a58921c1ed849c2087.bindPopup%28popup_8fc14bc6321f4aa384694964dc504907%29%0A%20%20%20%20%20%20%20%20%3B%0A%0A%20%20%20%20%20%20%20%20%0A%20%20%20%20%0A%20%20%20%20%0A%20%20%20%20%20%20%20%20%20%20%20%20var%20circle_marker_52b3b81b3c5f45ea8fc65a37c9d29ee7%20%3D%20L.circleMarker%28%0A%20%20%20%20%20%20%20%20%20%20%20%20%20%20%20%20%5B51.1288633%2C%201.2986686%5D%2C%0A%20%20%20%20%20%20%20%20%20%20%20%20%20%20%20%20%7B%22bubblingMouseEvents%22%3A%20true%2C%20%22color%22%3A%20%22blue%22%2C%20%22dashArray%22%3A%20null%2C%20%22dashOffset%22%3A%20null%2C%20%22fill%22%3A%20true%2C%20%22fillColor%22%3A%20%22%233186cc%22%2C%20%22fillOpacity%22%3A%200.7%2C%20%22fillRule%22%3A%20%22evenodd%22%2C%20%22lineCap%22%3A%20%22round%22%2C%20%22lineJoin%22%3A%20%22round%22%2C%20%22opacity%22%3A%201.0%2C%20%22radius%22%3A%205%2C%20%22stroke%22%3A%20true%2C%20%22weight%22%3A%203%7D%0A%20%20%20%20%20%20%20%20%20%20%20%20%29.addTo%28map_25bef40fd7274b89aab140cae401acaf%29%3B%0A%20%20%20%20%20%20%20%20%0A%20%20%20%20%0A%20%20%20%20%20%20%20%20var%20popup_367a1a661af949fbbce493c44b20b384%20%3D%20L.popup%28%7B%22maxWidth%22%3A%20%22100%25%22%7D%29%3B%0A%0A%20%20%20%20%20%20%20%20%0A%20%20%20%20%20%20%20%20%20%20%20%20var%20html_8312190cfb8d451abf458053dc355c89%20%3D%20%24%28%60%3Cdiv%20id%3D%22html_8312190cfb8d451abf458053dc355c89%22%20style%3D%22width%3A%20100.0%25%3B%20height%3A%20100.0%25%3B%22%3ETower%20Hamlets%3C/div%3E%60%29%5B0%5D%3B%0A%20%20%20%20%20%20%20%20%20%20%20%20popup_367a1a661af949fbbce493c44b20b384.setContent%28html_8312190cfb8d451abf458053dc355c89%29%3B%0A%20%20%20%20%20%20%20%20%0A%0A%20%20%20%20%20%20%20%20circle_marker_52b3b81b3c5f45ea8fc65a37c9d29ee7.bindPopup%28popup_367a1a661af949fbbce493c44b20b384%29%0A%20%20%20%20%20%20%20%20%3B%0A%0A%20%20%20%20%20%20%20%20%0A%20%20%20%20%0A%20%20%20%20%0A%20%20%20%20%20%20%20%20%20%20%20%20var%20circle_marker_5bc54f41b7df45eeb2c0d12de05b9350%20%3D%20L.circleMarker%28%0A%20%20%20%20%20%20%20%20%20%20%20%20%20%20%20%20%5B51.1981586%2C%201.0165175%5D%2C%0A%20%20%20%20%20%20%20%20%20%20%20%20%20%20%20%20%7B%22bubblingMouseEvents%22%3A%20true%2C%20%22color%22%3A%20%22blue%22%2C%20%22dashArray%22%3A%20null%2C%20%22dashOffset%22%3A%20null%2C%20%22fill%22%3A%20true%2C%20%22fillColor%22%3A%20%22%233186cc%22%2C%20%22fillOpacity%22%3A%200.7%2C%20%22fillRule%22%3A%20%22evenodd%22%2C%20%22lineCap%22%3A%20%22round%22%2C%20%22lineJoin%22%3A%20%22round%22%2C%20%22opacity%22%3A%201.0%2C%20%22radius%22%3A%205%2C%20%22stroke%22%3A%20true%2C%20%22weight%22%3A%203%7D%0A%20%20%20%20%20%20%20%20%20%20%20%20%29.addTo%28map_25bef40fd7274b89aab140cae401acaf%29%3B%0A%20%20%20%20%20%20%20%20%0A%20%20%20%20%0A%20%20%20%20%20%20%20%20var%20popup_ce07383f67fe47dc85ceb66392c88cc5%20%3D%20L.popup%28%7B%22maxWidth%22%3A%20%22100%25%22%7D%29%3B%0A%0A%20%20%20%20%20%20%20%20%0A%20%20%20%20%20%20%20%20%20%20%20%20var%20html_292a3d7003834298a95b8d029c9d7c9d%20%3D%20%24%28%60%3Cdiv%20id%3D%22html_292a3d7003834298a95b8d029c9d7c9d%22%20style%3D%22width%3A%20100.0%25%3B%20height%3A%20100.0%25%3B%22%3EWaltham%20Forest%3C/div%3E%60%29%5B0%5D%3B%0A%20%20%20%20%20%20%20%20%20%20%20%20popup_ce07383f67fe47dc85ceb66392c88cc5.setContent%28html_292a3d7003834298a95b8d029c9d7c9d%29%3B%0A%20%20%20%20%20%20%20%20%0A%0A%20%20%20%20%20%20%20%20circle_marker_5bc54f41b7df45eeb2c0d12de05b9350.bindPopup%28popup_ce07383f67fe47dc85ceb66392c88cc5%29%0A%20%20%20%20%20%20%20%20%3B%0A%0A%20%20%20%20%20%20%20%20%0A%20%20%20%20%0A%20%20%20%20%0A%20%20%20%20%20%20%20%20%20%20%20%20var%20circle_marker_6e18247703a44f1ca9925a70247b37c0%20%3D%20L.circleMarker%28%0A%20%20%20%20%20%20%20%20%20%20%20%20%20%20%20%20%5B51.4570271%2C%20-0.1932607%5D%2C%0A%20%20%20%20%20%20%20%20%20%20%20%20%20%20%20%20%7B%22bubblingMouseEvents%22%3A%20true%2C%20%22color%22%3A%20%22blue%22%2C%20%22dashArray%22%3A%20null%2C%20%22dashOffset%22%3A%20null%2C%20%22fill%22%3A%20true%2C%20%22fillColor%22%3A%20%22%233186cc%22%2C%20%22fillOpacity%22%3A%200.7%2C%20%22fillRule%22%3A%20%22evenodd%22%2C%20%22lineCap%22%3A%20%22round%22%2C%20%22lineJoin%22%3A%20%22round%22%2C%20%22opacity%22%3A%201.0%2C%20%22radius%22%3A%205%2C%20%22stroke%22%3A%20true%2C%20%22weight%22%3A%203%7D%0A%20%20%20%20%20%20%20%20%20%20%20%20%29.addTo%28map_25bef40fd7274b89aab140cae401acaf%29%3B%0A%20%20%20%20%20%20%20%20%0A%20%20%20%20%0A%20%20%20%20%20%20%20%20var%20popup_063e6d835a34497ea80a293cc369104d%20%3D%20L.popup%28%7B%22maxWidth%22%3A%20%22100%25%22%7D%29%3B%0A%0A%20%20%20%20%20%20%20%20%0A%20%20%20%20%20%20%20%20%20%20%20%20var%20html_589b3b8e62804f0580cd06cac661dcd6%20%3D%20%24%28%60%3Cdiv%20id%3D%22html_589b3b8e62804f0580cd06cac661dcd6%22%20style%3D%22width%3A%20100.0%25%3B%20height%3A%20100.0%25%3B%22%3EWandsworth%3C/div%3E%60%29%5B0%5D%3B%0A%20%20%20%20%20%20%20%20%20%20%20%20popup_063e6d835a34497ea80a293cc369104d.setContent%28html_589b3b8e62804f0580cd06cac661dcd6%29%3B%0A%20%20%20%20%20%20%20%20%0A%0A%20%20%20%20%20%20%20%20circle_marker_6e18247703a44f1ca9925a70247b37c0.bindPopup%28popup_063e6d835a34497ea80a293cc369104d%29%0A%20%20%20%20%20%20%20%20%3B%0A%0A%20%20%20%20%20%20%20%20%0A%20%20%20%20%0A%20%20%20%20%0A%20%20%20%20%20%20%20%20%20%20%20%20var%20circle_marker_caf8e435f557490490ec53f392853a85%20%3D%20L.circleMarker%28%0A%20%20%20%20%20%20%20%20%20%20%20%20%20%20%20%20%5B51.5004439%2C%20-0.1265398%5D%2C%0A%20%20%20%20%20%20%20%20%20%20%20%20%20%20%20%20%7B%22bubblingMouseEvents%22%3A%20true%2C%20%22color%22%3A%20%22blue%22%2C%20%22dashArray%22%3A%20null%2C%20%22dashOffset%22%3A%20null%2C%20%22fill%22%3A%20true%2C%20%22fillColor%22%3A%20%22%233186cc%22%2C%20%22fillOpacity%22%3A%200.7%2C%20%22fillRule%22%3A%20%22evenodd%22%2C%20%22lineCap%22%3A%20%22round%22%2C%20%22lineJoin%22%3A%20%22round%22%2C%20%22opacity%22%3A%201.0%2C%20%22radius%22%3A%205%2C%20%22stroke%22%3A%20true%2C%20%22weight%22%3A%203%7D%0A%20%20%20%20%20%20%20%20%20%20%20%20%29.addTo%28map_25bef40fd7274b89aab140cae401acaf%29%3B%0A%20%20%20%20%20%20%20%20%0A%20%20%20%20%0A%20%20%20%20%20%20%20%20var%20popup_02b5107bf15e4a01909e97436d63fcc3%20%3D%20L.popup%28%7B%22maxWidth%22%3A%20%22100%25%22%7D%29%3B%0A%0A%20%20%20%20%20%20%20%20%0A%20%20%20%20%20%20%20%20%20%20%20%20var%20html_2dbab324c1b84eb4bac0fa65bae73529%20%3D%20%24%28%60%3Cdiv%20id%3D%22html_2dbab324c1b84eb4bac0fa65bae73529%22%20style%3D%22width%3A%20100.0%25%3B%20height%3A%20100.0%25%3B%22%3EWestminster%3C/div%3E%60%29%5B0%5D%3B%0A%20%20%20%20%20%20%20%20%20%20%20%20popup_02b5107bf15e4a01909e97436d63fcc3.setContent%28html_2dbab324c1b84eb4bac0fa65bae73529%29%3B%0A%20%20%20%20%20%20%20%20%0A%0A%20%20%20%20%20%20%20%20circle_marker_caf8e435f557490490ec53f392853a85.bindPopup%28popup_02b5107bf15e4a01909e97436d63fcc3%29%0A%20%20%20%20%20%20%20%20%3B%0A%0A%20%20%20%20%20%20%20%20%0A%20%20%20%20%0A%3C/script%3E onload=\"this.contentDocument.open();this.contentDocument.write(    decodeURIComponent(this.getAttribute('data-html')));this.contentDocument.close();\" allowfullscreen webkitallowfullscreen mozallowfullscreen></iframe></div></div>",
                        "text/plain": "<folium.folium.Map at 0x7f05cb8ca110>"
                    },
                    "execution_count": 17,
                    "metadata": {},
                    "output_type": "execute_result"
                }
            ],
            "source": "# create map of New York using latitude and longitude values\nmap_london = folium.Map(location=[51.5073219, -0.1276474], zoom_start=10)\n\n# add markers to map\nfor lat, lng, boroughName in zip(df_coord['Latitude'], df_coord['Longitude'], df_coord['BoroughName']):\n    label = '{}'.format(boroughName)\n    label = folium.Popup(label, parse_html=True)\n    folium.CircleMarker(\n        [lat, lng],\n        radius=5,\n        popup=label,\n        color='blue',\n        fill=True,\n        fill_color='#3186cc',\n        fill_opacity=0.7,\n        parse_html=False).add_to(map_london)  \n    \nmap_london"
        },
        {
            "cell_type": "markdown",
            "metadata": {},
            "source": "### let's simplify the above map and segment and cluster only the neighborhoods in Newham and create a new dataframe of the new_neig."
        },
        {
            "cell_type": "code",
            "execution_count": 18,
            "metadata": {},
            "outputs": [
                {
                    "data": {
                        "text/html": "<div>\n<style scoped>\n    .dataframe tbody tr th:only-of-type {\n        vertical-align: middle;\n    }\n\n    .dataframe tbody tr th {\n        vertical-align: top;\n    }\n\n    .dataframe thead th {\n        text-align: right;\n    }\n</style>\n<table border=\"1\" class=\"dataframe\">\n  <thead>\n    <tr style=\"text-align: right;\">\n      <th></th>\n      <th>Neighborhood</th>\n      <th>Borough</th>\n      <th>Latitude</th>\n      <th>Longitude</th>\n    </tr>\n  </thead>\n  <tbody>\n    <tr>\n      <th>0</th>\n      <td>Beckton</td>\n      <td>Newham</td>\n      <td></td>\n      <td></td>\n    </tr>\n    <tr>\n      <th>1</th>\n      <td>Canning Town</td>\n      <td>Newham</td>\n      <td></td>\n      <td></td>\n    </tr>\n    <tr>\n      <th>2</th>\n      <td>Cyprus</td>\n      <td>Newham</td>\n      <td></td>\n      <td></td>\n    </tr>\n    <tr>\n      <th>3</th>\n      <td>East Ham</td>\n      <td>Newham</td>\n      <td></td>\n      <td></td>\n    </tr>\n    <tr>\n      <th>4</th>\n      <td>East Village</td>\n      <td>Newham</td>\n      <td></td>\n      <td></td>\n    </tr>\n    <tr>\n      <th>5</th>\n      <td>Forest Gate</td>\n      <td>Newham</td>\n      <td></td>\n      <td></td>\n    </tr>\n    <tr>\n      <th>6</th>\n      <td>Manor Park</td>\n      <td>Newham</td>\n      <td></td>\n      <td></td>\n    </tr>\n    <tr>\n      <th>7</th>\n      <td>Maryland</td>\n      <td>Newham</td>\n      <td></td>\n      <td></td>\n    </tr>\n    <tr>\n      <th>8</th>\n      <td>North Woolwich</td>\n      <td>Newham</td>\n      <td></td>\n      <td></td>\n    </tr>\n    <tr>\n      <th>9</th>\n      <td>Plashet</td>\n      <td>Newham</td>\n      <td></td>\n      <td></td>\n    </tr>\n    <tr>\n      <th>10</th>\n      <td>Silvertown</td>\n      <td>Newham</td>\n      <td></td>\n      <td></td>\n    </tr>\n    <tr>\n      <th>11</th>\n      <td>Stratford</td>\n      <td>Newham</td>\n      <td></td>\n      <td></td>\n    </tr>\n    <tr>\n      <th>12</th>\n      <td>Upton Park</td>\n      <td>Newham</td>\n      <td></td>\n      <td></td>\n    </tr>\n    <tr>\n      <th>13</th>\n      <td>Wallend</td>\n      <td>Newham</td>\n      <td></td>\n      <td></td>\n    </tr>\n    <tr>\n      <th>14</th>\n      <td>West Ham</td>\n      <td>Newham</td>\n      <td></td>\n      <td></td>\n    </tr>\n  </tbody>\n</table>\n</div>",
                        "text/plain": "      Neighborhood Borough Latitude Longitude\n0          Beckton  Newham                   \n1     Canning Town  Newham                   \n2           Cyprus  Newham                   \n3         East Ham  Newham                   \n4     East Village  Newham                   \n5      Forest Gate  Newham                   \n6       Manor Park  Newham                   \n7         Maryland  Newham                   \n8   North Woolwich  Newham                   \n9          Plashet  Newham                   \n10      Silvertown  Newham                   \n11       Stratford  Newham                   \n12      Upton Park  Newham                   \n13         Wallend  Newham                   \n14        West Ham  Newham                   "
                    },
                    "execution_count": 18,
                    "metadata": {},
                    "output_type": "execute_result"
                }
            ],
            "source": "Borough = ['Newham','Newham','Newham','Newham',\n          'Newham','Newham','Newham','Newham',\n          'Newham','Newham','Newham','Newham',\n          'Newham','Newham','Newham']\n\n\n\nNeighborhood = ['Beckton','Canning Town','Cyprus','East Ham','East Village','Forest Gate',\n'Manor Park','Maryland','North Woolwich','Plashet',\n'Silvertown', 'Stratford','Upton Park','Wallend','West Ham']\n\n\nLatitude = ['','','','','','','','','','','','','','','']\nLongitude = ['','','','','','','','','','','','','','','']\n\ndf_neigh = {'Neighborhood': Neighborhood,'Borough':Borough,'Latitude': Latitude,'Longitude':Longitude}\nnew_neig = pd.DataFrame(data=df_neigh, columns=['Neighborhood', 'Borough', 'Latitude', 'Longitude'], index=None)\n\nnew_neig"
        },
        {
            "cell_type": "markdown",
            "metadata": {},
            "source": "#### Get the geo-coordinates of Newham Borough using the geopy library"
        },
        {
            "cell_type": "code",
            "execution_count": 19,
            "metadata": {},
            "outputs": [
                {
                    "name": "stdout",
                    "output_type": "stream",
                    "text": "The geograpical coordinate of Newham are 51.52999955, 0.02931796029382208.\n"
                }
            ],
            "source": "address = 'Newham, London'\n\ngeolocator = Nominatim(user_agent=\"explorer\")\nlocation = geolocator.geocode(address)\nlatitude = location.latitude\nlongitude = location.longitude\nprint('The geograpical coordinate of Newham are {}, {}.'.format(latitude, longitude))"
        },
        {
            "cell_type": "markdown",
            "metadata": {},
            "source": "#### we proceed to applying it to our dataframe df_coord"
        },
        {
            "cell_type": "code",
            "execution_count": 20,
            "metadata": {},
            "outputs": [
                {
                    "name": "stdout",
                    "output_type": "stream",
                    "text": "Done!\n"
                }
            ],
            "source": "latitude = []\nlongitude = []\nBorough = new_neig['Borough']\nNeighborhood = new_neig['Neighborhood']\nfor i in range(len(Neighborhood)):\n    address = str(Neighborhood[i] + ', England')\n    geolocator = Nominatim(user_agent=\"explorer\")\n    #geocode = RateLimiter(geolocator.geocode, min_delay_seconds=1)\n    location = geolocator.geocode(address)\n    try: \n        latitude.append(location.latitude)\n        longitude.append(location.longitude)\n    except:\n        latitude.append(\"Not Found\")\n        longitude.append(\"Not Found\")\n    \nprint('Done!')"
        },
        {
            "cell_type": "markdown",
            "metadata": {},
            "source": "#### Then we proceed to store the location data \u2014 latitude and longitude as follows."
        },
        {
            "cell_type": "code",
            "execution_count": 21,
            "metadata": {},
            "outputs": [
                {
                    "data": {
                        "text/html": "<div>\n<style scoped>\n    .dataframe tbody tr th:only-of-type {\n        vertical-align: middle;\n    }\n\n    .dataframe tbody tr th {\n        vertical-align: top;\n    }\n\n    .dataframe thead th {\n        text-align: right;\n    }\n</style>\n<table border=\"1\" class=\"dataframe\">\n  <thead>\n    <tr style=\"text-align: right;\">\n      <th></th>\n      <th>Neighborhood</th>\n      <th>Borough</th>\n      <th>Latitude</th>\n      <th>Longitude</th>\n    </tr>\n  </thead>\n  <tbody>\n    <tr>\n      <th>0</th>\n      <td>Beckton</td>\n      <td>Newham</td>\n      <td>51.516080</td>\n      <td>0.059426</td>\n    </tr>\n    <tr>\n      <th>1</th>\n      <td>Canning Town</td>\n      <td>Newham</td>\n      <td>51.513989</td>\n      <td>0.008299</td>\n    </tr>\n    <tr>\n      <th>2</th>\n      <td>Cyprus</td>\n      <td>Newham</td>\n      <td>51.508478</td>\n      <td>0.063969</td>\n    </tr>\n    <tr>\n      <th>3</th>\n      <td>East Ham</td>\n      <td>Newham</td>\n      <td>51.532963</td>\n      <td>0.055320</td>\n    </tr>\n    <tr>\n      <th>4</th>\n      <td>East Village</td>\n      <td>Newham</td>\n      <td>51.548108</td>\n      <td>-0.009177</td>\n    </tr>\n    <tr>\n      <th>5</th>\n      <td>Forest Gate</td>\n      <td>Newham</td>\n      <td>51.549524</td>\n      <td>0.024925</td>\n    </tr>\n    <tr>\n      <th>6</th>\n      <td>Manor Park</td>\n      <td>Newham</td>\n      <td>51.426949</td>\n      <td>-0.135507</td>\n    </tr>\n    <tr>\n      <th>7</th>\n      <td>Maryland</td>\n      <td>Newham</td>\n      <td>51.546053</td>\n      <td>0.005922</td>\n    </tr>\n    <tr>\n      <th>8</th>\n      <td>North Woolwich</td>\n      <td>Newham</td>\n      <td>51.500407</td>\n      <td>0.064154</td>\n    </tr>\n    <tr>\n      <th>9</th>\n      <td>Plashet</td>\n      <td>Newham</td>\n      <td>51.540008</td>\n      <td>0.039274</td>\n    </tr>\n    <tr>\n      <th>10</th>\n      <td>Silvertown</td>\n      <td>Newham</td>\n      <td>51.501363</td>\n      <td>0.038518</td>\n    </tr>\n    <tr>\n      <th>11</th>\n      <td>Stratford</td>\n      <td>Newham</td>\n      <td>52.192788</td>\n      <td>-1.706367</td>\n    </tr>\n    <tr>\n      <th>12</th>\n      <td>Upton Park</td>\n      <td>Newham</td>\n      <td>51.535106</td>\n      <td>0.033984</td>\n    </tr>\n    <tr>\n      <th>13</th>\n      <td>Wallend</td>\n      <td>Newham</td>\n      <td>51.535538</td>\n      <td>0.064311</td>\n    </tr>\n  </tbody>\n</table>\n</div>",
                        "text/plain": "      Neighborhood Borough   Latitude  Longitude\n0          Beckton  Newham  51.516080   0.059426\n1     Canning Town  Newham  51.513989   0.008299\n2           Cyprus  Newham  51.508478   0.063969\n3         East Ham  Newham  51.532963   0.055320\n4     East Village  Newham  51.548108  -0.009177\n5      Forest Gate  Newham  51.549524   0.024925\n6       Manor Park  Newham  51.426949  -0.135507\n7         Maryland  Newham  51.546053   0.005922\n8   North Woolwich  Newham  51.500407   0.064154\n9          Plashet  Newham  51.540008   0.039274\n10      Silvertown  Newham  51.501363   0.038518\n11       Stratford  Newham  52.192788  -1.706367\n12      Upton Park  Newham  51.535106   0.033984\n13         Wallend  Newham  51.535538   0.064311"
                    },
                    "execution_count": 21,
                    "metadata": {},
                    "output_type": "execute_result"
                }
            ],
            "source": "df_coord = new_neig\ndf_coord['Latitude'] = latitude\ndf_coord['Longitude'] = longitude\ndf_coord.head(14)"
        },
        {
            "cell_type": "markdown",
            "metadata": {},
            "source": "Let's get the geographical coordinates of Newham"
        },
        {
            "cell_type": "code",
            "execution_count": 22,
            "metadata": {},
            "outputs": [
                {
                    "data": {
                        "text/plain": "[51.5460532, 0.0059223]"
                    },
                    "execution_count": 22,
                    "metadata": {},
                    "output_type": "execute_result"
                }
            ],
            "source": "locations = df_coord[['Latitude', 'Longitude']]\nlocationlist = locations.values.tolist()\nlen(locationlist)\nlocationlist[7]"
        },
        {
            "cell_type": "markdown",
            "metadata": {},
            "source": "As we did with all of London, let's visualize the map of Newham and their neighborhoods using folium"
        },
        {
            "cell_type": "code",
            "execution_count": 23,
            "metadata": {},
            "outputs": [
                {
                    "data": {
                        "text/html": "<div style=\"width:100%;\"><div style=\"position:relative;width:100%;height:0;padding-bottom:60%;\"><span style=\"color:#565656\">Make this Notebook Trusted to load map: File -> Trust Notebook</span><iframe src=\"about:blank\" style=\"position:absolute;width:100%;height:100%;left:0;top:0;border:none !important;\" data-html=%3C%21DOCTYPE%20html%3E%0A%3Chead%3E%20%20%20%20%0A%20%20%20%20%3Cmeta%20http-equiv%3D%22content-type%22%20content%3D%22text/html%3B%20charset%3DUTF-8%22%20/%3E%0A%20%20%20%20%0A%20%20%20%20%20%20%20%20%3Cscript%3E%0A%20%20%20%20%20%20%20%20%20%20%20%20L_NO_TOUCH%20%3D%20false%3B%0A%20%20%20%20%20%20%20%20%20%20%20%20L_DISABLE_3D%20%3D%20false%3B%0A%20%20%20%20%20%20%20%20%3C/script%3E%0A%20%20%20%20%0A%20%20%20%20%3Cstyle%3Ehtml%2C%20body%20%7Bwidth%3A%20100%25%3Bheight%3A%20100%25%3Bmargin%3A%200%3Bpadding%3A%200%3B%7D%3C/style%3E%0A%20%20%20%20%3Cstyle%3E%23map%20%7Bposition%3Aabsolute%3Btop%3A0%3Bbottom%3A0%3Bright%3A0%3Bleft%3A0%3B%7D%3C/style%3E%0A%20%20%20%20%3Cscript%20src%3D%22https%3A//cdn.jsdelivr.net/npm/leaflet%401.6.0/dist/leaflet.js%22%3E%3C/script%3E%0A%20%20%20%20%3Cscript%20src%3D%22https%3A//code.jquery.com/jquery-1.12.4.min.js%22%3E%3C/script%3E%0A%20%20%20%20%3Cscript%20src%3D%22https%3A//maxcdn.bootstrapcdn.com/bootstrap/3.2.0/js/bootstrap.min.js%22%3E%3C/script%3E%0A%20%20%20%20%3Cscript%20src%3D%22https%3A//cdnjs.cloudflare.com/ajax/libs/Leaflet.awesome-markers/2.0.2/leaflet.awesome-markers.js%22%3E%3C/script%3E%0A%20%20%20%20%3Clink%20rel%3D%22stylesheet%22%20href%3D%22https%3A//cdn.jsdelivr.net/npm/leaflet%401.6.0/dist/leaflet.css%22/%3E%0A%20%20%20%20%3Clink%20rel%3D%22stylesheet%22%20href%3D%22https%3A//maxcdn.bootstrapcdn.com/bootstrap/3.2.0/css/bootstrap.min.css%22/%3E%0A%20%20%20%20%3Clink%20rel%3D%22stylesheet%22%20href%3D%22https%3A//maxcdn.bootstrapcdn.com/bootstrap/3.2.0/css/bootstrap-theme.min.css%22/%3E%0A%20%20%20%20%3Clink%20rel%3D%22stylesheet%22%20href%3D%22https%3A//maxcdn.bootstrapcdn.com/font-awesome/4.6.3/css/font-awesome.min.css%22/%3E%0A%20%20%20%20%3Clink%20rel%3D%22stylesheet%22%20href%3D%22https%3A//cdnjs.cloudflare.com/ajax/libs/Leaflet.awesome-markers/2.0.2/leaflet.awesome-markers.css%22/%3E%0A%20%20%20%20%3Clink%20rel%3D%22stylesheet%22%20href%3D%22https%3A//cdn.jsdelivr.net/gh/python-visualization/folium/folium/templates/leaflet.awesome.rotate.min.css%22/%3E%0A%20%20%20%20%0A%20%20%20%20%20%20%20%20%20%20%20%20%3Cmeta%20name%3D%22viewport%22%20content%3D%22width%3Ddevice-width%2C%0A%20%20%20%20%20%20%20%20%20%20%20%20%20%20%20%20initial-scale%3D1.0%2C%20maximum-scale%3D1.0%2C%20user-scalable%3Dno%22%20/%3E%0A%20%20%20%20%20%20%20%20%20%20%20%20%3Cstyle%3E%0A%20%20%20%20%20%20%20%20%20%20%20%20%20%20%20%20%23map_c500bf5564674204b2d88a2fec68cadd%20%7B%0A%20%20%20%20%20%20%20%20%20%20%20%20%20%20%20%20%20%20%20%20position%3A%20relative%3B%0A%20%20%20%20%20%20%20%20%20%20%20%20%20%20%20%20%20%20%20%20width%3A%20100.0%25%3B%0A%20%20%20%20%20%20%20%20%20%20%20%20%20%20%20%20%20%20%20%20height%3A%20100.0%25%3B%0A%20%20%20%20%20%20%20%20%20%20%20%20%20%20%20%20%20%20%20%20left%3A%200.0%25%3B%0A%20%20%20%20%20%20%20%20%20%20%20%20%20%20%20%20%20%20%20%20top%3A%200.0%25%3B%0A%20%20%20%20%20%20%20%20%20%20%20%20%20%20%20%20%7D%0A%20%20%20%20%20%20%20%20%20%20%20%20%3C/style%3E%0A%20%20%20%20%20%20%20%20%0A%3C/head%3E%0A%3Cbody%3E%20%20%20%20%0A%20%20%20%20%0A%20%20%20%20%20%20%20%20%20%20%20%20%3Cdiv%20class%3D%22folium-map%22%20id%3D%22map_c500bf5564674204b2d88a2fec68cadd%22%20%3E%3C/div%3E%0A%20%20%20%20%20%20%20%20%0A%3C/body%3E%0A%3Cscript%3E%20%20%20%20%0A%20%20%20%20%0A%20%20%20%20%20%20%20%20%20%20%20%20var%20map_c500bf5564674204b2d88a2fec68cadd%20%3D%20L.map%28%0A%20%20%20%20%20%20%20%20%20%20%20%20%20%20%20%20%22map_c500bf5564674204b2d88a2fec68cadd%22%2C%0A%20%20%20%20%20%20%20%20%20%20%20%20%20%20%20%20%7B%0A%20%20%20%20%20%20%20%20%20%20%20%20%20%20%20%20%20%20%20%20center%3A%20%5B51.5460532%2C%200.0059223%5D%2C%0A%20%20%20%20%20%20%20%20%20%20%20%20%20%20%20%20%20%20%20%20crs%3A%20L.CRS.EPSG3857%2C%0A%20%20%20%20%20%20%20%20%20%20%20%20%20%20%20%20%20%20%20%20zoom%3A%2011%2C%0A%20%20%20%20%20%20%20%20%20%20%20%20%20%20%20%20%20%20%20%20zoomControl%3A%20true%2C%0A%20%20%20%20%20%20%20%20%20%20%20%20%20%20%20%20%20%20%20%20preferCanvas%3A%20false%2C%0A%20%20%20%20%20%20%20%20%20%20%20%20%20%20%20%20%7D%0A%20%20%20%20%20%20%20%20%20%20%20%20%29%3B%0A%0A%20%20%20%20%20%20%20%20%20%20%20%20%0A%0A%20%20%20%20%20%20%20%20%0A%20%20%20%20%0A%20%20%20%20%20%20%20%20%20%20%20%20var%20tile_layer_31503ba16d6f4baf934717ec51f27c78%20%3D%20L.tileLayer%28%0A%20%20%20%20%20%20%20%20%20%20%20%20%20%20%20%20%22https%3A//%7Bs%7D.tile.openstreetmap.org/%7Bz%7D/%7Bx%7D/%7By%7D.png%22%2C%0A%20%20%20%20%20%20%20%20%20%20%20%20%20%20%20%20%7B%22attribution%22%3A%20%22Data%20by%20%5Cu0026copy%3B%20%5Cu003ca%20href%3D%5C%22http%3A//openstreetmap.org%5C%22%5Cu003eOpenStreetMap%5Cu003c/a%5Cu003e%2C%20under%20%5Cu003ca%20href%3D%5C%22http%3A//www.openstreetmap.org/copyright%5C%22%5Cu003eODbL%5Cu003c/a%5Cu003e.%22%2C%20%22detectRetina%22%3A%20false%2C%20%22maxNativeZoom%22%3A%2018%2C%20%22maxZoom%22%3A%2018%2C%20%22minZoom%22%3A%200%2C%20%22noWrap%22%3A%20false%2C%20%22opacity%22%3A%201%2C%20%22subdomains%22%3A%20%22abc%22%2C%20%22tms%22%3A%20false%7D%0A%20%20%20%20%20%20%20%20%20%20%20%20%29.addTo%28map_c500bf5564674204b2d88a2fec68cadd%29%3B%0A%20%20%20%20%20%20%20%20%0A%20%20%20%20%0A%20%20%20%20%20%20%20%20%20%20%20%20var%20marker_244cc7d259c84e20bf52634ec67fe6de%20%3D%20L.marker%28%0A%20%20%20%20%20%20%20%20%20%20%20%20%20%20%20%20%5B51.5160797%2C%200.0594257%5D%2C%0A%20%20%20%20%20%20%20%20%20%20%20%20%20%20%20%20%7B%7D%0A%20%20%20%20%20%20%20%20%20%20%20%20%29.addTo%28map_c500bf5564674204b2d88a2fec68cadd%29%3B%0A%20%20%20%20%20%20%20%20%0A%20%20%20%20%0A%20%20%20%20%20%20%20%20var%20popup_e3e6b213ec224f63822e599483e7ff01%20%3D%20L.popup%28%7B%22maxWidth%22%3A%20%22100%25%22%7D%29%3B%0A%0A%20%20%20%20%20%20%20%20%0A%20%20%20%20%20%20%20%20%20%20%20%20var%20html_55e8e067b68243079b895e4aa84b3939%20%3D%20%24%28%60%3Cdiv%20id%3D%22html_55e8e067b68243079b895e4aa84b3939%22%20style%3D%22width%3A%20100.0%25%3B%20height%3A%20100.0%25%3B%22%3EBeckton%3C/div%3E%60%29%5B0%5D%3B%0A%20%20%20%20%20%20%20%20%20%20%20%20popup_e3e6b213ec224f63822e599483e7ff01.setContent%28html_55e8e067b68243079b895e4aa84b3939%29%3B%0A%20%20%20%20%20%20%20%20%0A%0A%20%20%20%20%20%20%20%20marker_244cc7d259c84e20bf52634ec67fe6de.bindPopup%28popup_e3e6b213ec224f63822e599483e7ff01%29%0A%20%20%20%20%20%20%20%20%3B%0A%0A%20%20%20%20%20%20%20%20%0A%20%20%20%20%0A%20%20%20%20%0A%20%20%20%20%20%20%20%20%20%20%20%20var%20marker_d12d82e62cda4d948e6b839acfa6abb4%20%3D%20L.marker%28%0A%20%20%20%20%20%20%20%20%20%20%20%20%20%20%20%20%5B51.5139887%2C%200.0082987%5D%2C%0A%20%20%20%20%20%20%20%20%20%20%20%20%20%20%20%20%7B%7D%0A%20%20%20%20%20%20%20%20%20%20%20%20%29.addTo%28map_c500bf5564674204b2d88a2fec68cadd%29%3B%0A%20%20%20%20%20%20%20%20%0A%20%20%20%20%0A%20%20%20%20%20%20%20%20var%20popup_c427ef91becb40d0950c3b5a2d4498e0%20%3D%20L.popup%28%7B%22maxWidth%22%3A%20%22100%25%22%7D%29%3B%0A%0A%20%20%20%20%20%20%20%20%0A%20%20%20%20%20%20%20%20%20%20%20%20var%20html_60bbf83c224b4f06be4951af63a7631a%20%3D%20%24%28%60%3Cdiv%20id%3D%22html_60bbf83c224b4f06be4951af63a7631a%22%20style%3D%22width%3A%20100.0%25%3B%20height%3A%20100.0%25%3B%22%3ECanning%20Town%3C/div%3E%60%29%5B0%5D%3B%0A%20%20%20%20%20%20%20%20%20%20%20%20popup_c427ef91becb40d0950c3b5a2d4498e0.setContent%28html_60bbf83c224b4f06be4951af63a7631a%29%3B%0A%20%20%20%20%20%20%20%20%0A%0A%20%20%20%20%20%20%20%20marker_d12d82e62cda4d948e6b839acfa6abb4.bindPopup%28popup_c427ef91becb40d0950c3b5a2d4498e0%29%0A%20%20%20%20%20%20%20%20%3B%0A%0A%20%20%20%20%20%20%20%20%0A%20%20%20%20%0A%20%20%20%20%0A%20%20%20%20%20%20%20%20%20%20%20%20var%20marker_93a99a649985453397201af750b61017%20%3D%20L.marker%28%0A%20%20%20%20%20%20%20%20%20%20%20%20%20%20%20%20%5B51.5084776%2C%200.0639692%5D%2C%0A%20%20%20%20%20%20%20%20%20%20%20%20%20%20%20%20%7B%7D%0A%20%20%20%20%20%20%20%20%20%20%20%20%29.addTo%28map_c500bf5564674204b2d88a2fec68cadd%29%3B%0A%20%20%20%20%20%20%20%20%0A%20%20%20%20%0A%20%20%20%20%20%20%20%20var%20popup_3b74344d52994d9aac6aece31b40a871%20%3D%20L.popup%28%7B%22maxWidth%22%3A%20%22100%25%22%7D%29%3B%0A%0A%20%20%20%20%20%20%20%20%0A%20%20%20%20%20%20%20%20%20%20%20%20var%20html_f8a7a8daabe147f0b8515095eccec535%20%3D%20%24%28%60%3Cdiv%20id%3D%22html_f8a7a8daabe147f0b8515095eccec535%22%20style%3D%22width%3A%20100.0%25%3B%20height%3A%20100.0%25%3B%22%3ECyprus%3C/div%3E%60%29%5B0%5D%3B%0A%20%20%20%20%20%20%20%20%20%20%20%20popup_3b74344d52994d9aac6aece31b40a871.setContent%28html_f8a7a8daabe147f0b8515095eccec535%29%3B%0A%20%20%20%20%20%20%20%20%0A%0A%20%20%20%20%20%20%20%20marker_93a99a649985453397201af750b61017.bindPopup%28popup_3b74344d52994d9aac6aece31b40a871%29%0A%20%20%20%20%20%20%20%20%3B%0A%0A%20%20%20%20%20%20%20%20%0A%20%20%20%20%0A%20%20%20%20%0A%20%20%20%20%20%20%20%20%20%20%20%20var%20marker_b339cd3aec9c4cb080cc0a438edbd403%20%3D%20L.marker%28%0A%20%20%20%20%20%20%20%20%20%20%20%20%20%20%20%20%5B51.5329628%2C%200.0553201%5D%2C%0A%20%20%20%20%20%20%20%20%20%20%20%20%20%20%20%20%7B%7D%0A%20%20%20%20%20%20%20%20%20%20%20%20%29.addTo%28map_c500bf5564674204b2d88a2fec68cadd%29%3B%0A%20%20%20%20%20%20%20%20%0A%20%20%20%20%0A%20%20%20%20%20%20%20%20var%20popup_92f89089aa5f4d7bb71e3760366de9bc%20%3D%20L.popup%28%7B%22maxWidth%22%3A%20%22100%25%22%7D%29%3B%0A%0A%20%20%20%20%20%20%20%20%0A%20%20%20%20%20%20%20%20%20%20%20%20var%20html_17c85e2747de46158479326b6b1d5e38%20%3D%20%24%28%60%3Cdiv%20id%3D%22html_17c85e2747de46158479326b6b1d5e38%22%20style%3D%22width%3A%20100.0%25%3B%20height%3A%20100.0%25%3B%22%3EEast%20Ham%3C/div%3E%60%29%5B0%5D%3B%0A%20%20%20%20%20%20%20%20%20%20%20%20popup_92f89089aa5f4d7bb71e3760366de9bc.setContent%28html_17c85e2747de46158479326b6b1d5e38%29%3B%0A%20%20%20%20%20%20%20%20%0A%0A%20%20%20%20%20%20%20%20marker_b339cd3aec9c4cb080cc0a438edbd403.bindPopup%28popup_92f89089aa5f4d7bb71e3760366de9bc%29%0A%20%20%20%20%20%20%20%20%3B%0A%0A%20%20%20%20%20%20%20%20%0A%20%20%20%20%0A%20%20%20%20%0A%20%20%20%20%20%20%20%20%20%20%20%20var%20marker_cdb11ffd36a7471381580b7984d9d6de%20%3D%20L.marker%28%0A%20%20%20%20%20%20%20%20%20%20%20%20%20%20%20%20%5B51.5481075%2C%20-0.0091769%5D%2C%0A%20%20%20%20%20%20%20%20%20%20%20%20%20%20%20%20%7B%7D%0A%20%20%20%20%20%20%20%20%20%20%20%20%29.addTo%28map_c500bf5564674204b2d88a2fec68cadd%29%3B%0A%20%20%20%20%20%20%20%20%0A%20%20%20%20%0A%20%20%20%20%20%20%20%20var%20popup_f7d02e35501f4645ac772b345a453682%20%3D%20L.popup%28%7B%22maxWidth%22%3A%20%22100%25%22%7D%29%3B%0A%0A%20%20%20%20%20%20%20%20%0A%20%20%20%20%20%20%20%20%20%20%20%20var%20html_2ee2a5570ea04ca6b33952f2acae361a%20%3D%20%24%28%60%3Cdiv%20id%3D%22html_2ee2a5570ea04ca6b33952f2acae361a%22%20style%3D%22width%3A%20100.0%25%3B%20height%3A%20100.0%25%3B%22%3EEast%20Village%3C/div%3E%60%29%5B0%5D%3B%0A%20%20%20%20%20%20%20%20%20%20%20%20popup_f7d02e35501f4645ac772b345a453682.setContent%28html_2ee2a5570ea04ca6b33952f2acae361a%29%3B%0A%20%20%20%20%20%20%20%20%0A%0A%20%20%20%20%20%20%20%20marker_cdb11ffd36a7471381580b7984d9d6de.bindPopup%28popup_f7d02e35501f4645ac772b345a453682%29%0A%20%20%20%20%20%20%20%20%3B%0A%0A%20%20%20%20%20%20%20%20%0A%20%20%20%20%0A%20%20%20%20%0A%20%20%20%20%20%20%20%20%20%20%20%20var%20marker_9becab576162472386449ba5a93c4654%20%3D%20L.marker%28%0A%20%20%20%20%20%20%20%20%20%20%20%20%20%20%20%20%5B51.5495236%2C%200.0249248%5D%2C%0A%20%20%20%20%20%20%20%20%20%20%20%20%20%20%20%20%7B%7D%0A%20%20%20%20%20%20%20%20%20%20%20%20%29.addTo%28map_c500bf5564674204b2d88a2fec68cadd%29%3B%0A%20%20%20%20%20%20%20%20%0A%20%20%20%20%0A%20%20%20%20%20%20%20%20var%20popup_e06f4a5600b442dca26edfb1cb4dd4ed%20%3D%20L.popup%28%7B%22maxWidth%22%3A%20%22100%25%22%7D%29%3B%0A%0A%20%20%20%20%20%20%20%20%0A%20%20%20%20%20%20%20%20%20%20%20%20var%20html_13d815d96fd04de3a8f1ad6c637bb347%20%3D%20%24%28%60%3Cdiv%20id%3D%22html_13d815d96fd04de3a8f1ad6c637bb347%22%20style%3D%22width%3A%20100.0%25%3B%20height%3A%20100.0%25%3B%22%3EForest%20Gate%3C/div%3E%60%29%5B0%5D%3B%0A%20%20%20%20%20%20%20%20%20%20%20%20popup_e06f4a5600b442dca26edfb1cb4dd4ed.setContent%28html_13d815d96fd04de3a8f1ad6c637bb347%29%3B%0A%20%20%20%20%20%20%20%20%0A%0A%20%20%20%20%20%20%20%20marker_9becab576162472386449ba5a93c4654.bindPopup%28popup_e06f4a5600b442dca26edfb1cb4dd4ed%29%0A%20%20%20%20%20%20%20%20%3B%0A%0A%20%20%20%20%20%20%20%20%0A%20%20%20%20%0A%20%20%20%20%0A%20%20%20%20%20%20%20%20%20%20%20%20var%20marker_40190884000d459785e02fb192c26ebc%20%3D%20L.marker%28%0A%20%20%20%20%20%20%20%20%20%20%20%20%20%20%20%20%5B51.4269492%2C%20-0.1355069%5D%2C%0A%20%20%20%20%20%20%20%20%20%20%20%20%20%20%20%20%7B%7D%0A%20%20%20%20%20%20%20%20%20%20%20%20%29.addTo%28map_c500bf5564674204b2d88a2fec68cadd%29%3B%0A%20%20%20%20%20%20%20%20%0A%20%20%20%20%0A%20%20%20%20%20%20%20%20var%20popup_e41cb5495ad64a4589d18c0532907b6e%20%3D%20L.popup%28%7B%22maxWidth%22%3A%20%22100%25%22%7D%29%3B%0A%0A%20%20%20%20%20%20%20%20%0A%20%20%20%20%20%20%20%20%20%20%20%20var%20html_a6d96bff9805441a9c9ac1aa00d45ad0%20%3D%20%24%28%60%3Cdiv%20id%3D%22html_a6d96bff9805441a9c9ac1aa00d45ad0%22%20style%3D%22width%3A%20100.0%25%3B%20height%3A%20100.0%25%3B%22%3EManor%20Park%3C/div%3E%60%29%5B0%5D%3B%0A%20%20%20%20%20%20%20%20%20%20%20%20popup_e41cb5495ad64a4589d18c0532907b6e.setContent%28html_a6d96bff9805441a9c9ac1aa00d45ad0%29%3B%0A%20%20%20%20%20%20%20%20%0A%0A%20%20%20%20%20%20%20%20marker_40190884000d459785e02fb192c26ebc.bindPopup%28popup_e41cb5495ad64a4589d18c0532907b6e%29%0A%20%20%20%20%20%20%20%20%3B%0A%0A%20%20%20%20%20%20%20%20%0A%20%20%20%20%0A%20%20%20%20%0A%20%20%20%20%20%20%20%20%20%20%20%20var%20marker_5f11432f4fd8480c8a09f89dddfa48ce%20%3D%20L.marker%28%0A%20%20%20%20%20%20%20%20%20%20%20%20%20%20%20%20%5B51.5460532%2C%200.0059223%5D%2C%0A%20%20%20%20%20%20%20%20%20%20%20%20%20%20%20%20%7B%7D%0A%20%20%20%20%20%20%20%20%20%20%20%20%29.addTo%28map_c500bf5564674204b2d88a2fec68cadd%29%3B%0A%20%20%20%20%20%20%20%20%0A%20%20%20%20%0A%20%20%20%20%20%20%20%20var%20popup_caa8442a63e3485a8f103e1009d61b15%20%3D%20L.popup%28%7B%22maxWidth%22%3A%20%22100%25%22%7D%29%3B%0A%0A%20%20%20%20%20%20%20%20%0A%20%20%20%20%20%20%20%20%20%20%20%20var%20html_8a679debb9f742e999d213f0be49f965%20%3D%20%24%28%60%3Cdiv%20id%3D%22html_8a679debb9f742e999d213f0be49f965%22%20style%3D%22width%3A%20100.0%25%3B%20height%3A%20100.0%25%3B%22%3EMaryland%3C/div%3E%60%29%5B0%5D%3B%0A%20%20%20%20%20%20%20%20%20%20%20%20popup_caa8442a63e3485a8f103e1009d61b15.setContent%28html_8a679debb9f742e999d213f0be49f965%29%3B%0A%20%20%20%20%20%20%20%20%0A%0A%20%20%20%20%20%20%20%20marker_5f11432f4fd8480c8a09f89dddfa48ce.bindPopup%28popup_caa8442a63e3485a8f103e1009d61b15%29%0A%20%20%20%20%20%20%20%20%3B%0A%0A%20%20%20%20%20%20%20%20%0A%20%20%20%20%0A%20%20%20%20%0A%20%20%20%20%20%20%20%20%20%20%20%20var%20marker_825e157a7b484e74935795ad3e2bc5de%20%3D%20L.marker%28%0A%20%20%20%20%20%20%20%20%20%20%20%20%20%20%20%20%5B51.5004071%2C%200.064154%5D%2C%0A%20%20%20%20%20%20%20%20%20%20%20%20%20%20%20%20%7B%7D%0A%20%20%20%20%20%20%20%20%20%20%20%20%29.addTo%28map_c500bf5564674204b2d88a2fec68cadd%29%3B%0A%20%20%20%20%20%20%20%20%0A%20%20%20%20%0A%20%20%20%20%20%20%20%20var%20popup_118dcd6781b041b7a3905cfb498369f3%20%3D%20L.popup%28%7B%22maxWidth%22%3A%20%22100%25%22%7D%29%3B%0A%0A%20%20%20%20%20%20%20%20%0A%20%20%20%20%20%20%20%20%20%20%20%20var%20html_ac8a238e43f14af2b687ed794e4146b4%20%3D%20%24%28%60%3Cdiv%20id%3D%22html_ac8a238e43f14af2b687ed794e4146b4%22%20style%3D%22width%3A%20100.0%25%3B%20height%3A%20100.0%25%3B%22%3ENorth%20Woolwich%3C/div%3E%60%29%5B0%5D%3B%0A%20%20%20%20%20%20%20%20%20%20%20%20popup_118dcd6781b041b7a3905cfb498369f3.setContent%28html_ac8a238e43f14af2b687ed794e4146b4%29%3B%0A%20%20%20%20%20%20%20%20%0A%0A%20%20%20%20%20%20%20%20marker_825e157a7b484e74935795ad3e2bc5de.bindPopup%28popup_118dcd6781b041b7a3905cfb498369f3%29%0A%20%20%20%20%20%20%20%20%3B%0A%0A%20%20%20%20%20%20%20%20%0A%20%20%20%20%0A%20%20%20%20%0A%20%20%20%20%20%20%20%20%20%20%20%20var%20marker_3ebd14f2cf544a8cb77aee9e546c8cff%20%3D%20L.marker%28%0A%20%20%20%20%20%20%20%20%20%20%20%20%20%20%20%20%5B51.5400084%2C%200.0392744%5D%2C%0A%20%20%20%20%20%20%20%20%20%20%20%20%20%20%20%20%7B%7D%0A%20%20%20%20%20%20%20%20%20%20%20%20%29.addTo%28map_c500bf5564674204b2d88a2fec68cadd%29%3B%0A%20%20%20%20%20%20%20%20%0A%20%20%20%20%0A%20%20%20%20%20%20%20%20var%20popup_496ea41cf6794d07bae481bd3d201f3f%20%3D%20L.popup%28%7B%22maxWidth%22%3A%20%22100%25%22%7D%29%3B%0A%0A%20%20%20%20%20%20%20%20%0A%20%20%20%20%20%20%20%20%20%20%20%20var%20html_8fdffa26bcc844dc8ebe93f729d5b25e%20%3D%20%24%28%60%3Cdiv%20id%3D%22html_8fdffa26bcc844dc8ebe93f729d5b25e%22%20style%3D%22width%3A%20100.0%25%3B%20height%3A%20100.0%25%3B%22%3EPlashet%3C/div%3E%60%29%5B0%5D%3B%0A%20%20%20%20%20%20%20%20%20%20%20%20popup_496ea41cf6794d07bae481bd3d201f3f.setContent%28html_8fdffa26bcc844dc8ebe93f729d5b25e%29%3B%0A%20%20%20%20%20%20%20%20%0A%0A%20%20%20%20%20%20%20%20marker_3ebd14f2cf544a8cb77aee9e546c8cff.bindPopup%28popup_496ea41cf6794d07bae481bd3d201f3f%29%0A%20%20%20%20%20%20%20%20%3B%0A%0A%20%20%20%20%20%20%20%20%0A%20%20%20%20%0A%20%20%20%20%0A%20%20%20%20%20%20%20%20%20%20%20%20var%20marker_4e89dde4949d47b5bf9e836bb041e078%20%3D%20L.marker%28%0A%20%20%20%20%20%20%20%20%20%20%20%20%20%20%20%20%5B51.5013626%2C%200.0385185%5D%2C%0A%20%20%20%20%20%20%20%20%20%20%20%20%20%20%20%20%7B%7D%0A%20%20%20%20%20%20%20%20%20%20%20%20%29.addTo%28map_c500bf5564674204b2d88a2fec68cadd%29%3B%0A%20%20%20%20%20%20%20%20%0A%20%20%20%20%0A%20%20%20%20%20%20%20%20var%20popup_fee223c69db2467895e546ab3ff7419f%20%3D%20L.popup%28%7B%22maxWidth%22%3A%20%22100%25%22%7D%29%3B%0A%0A%20%20%20%20%20%20%20%20%0A%20%20%20%20%20%20%20%20%20%20%20%20var%20html_f9d2580978ac4928aab6c0473b4e3ee6%20%3D%20%24%28%60%3Cdiv%20id%3D%22html_f9d2580978ac4928aab6c0473b4e3ee6%22%20style%3D%22width%3A%20100.0%25%3B%20height%3A%20100.0%25%3B%22%3ESilvertown%3C/div%3E%60%29%5B0%5D%3B%0A%20%20%20%20%20%20%20%20%20%20%20%20popup_fee223c69db2467895e546ab3ff7419f.setContent%28html_f9d2580978ac4928aab6c0473b4e3ee6%29%3B%0A%20%20%20%20%20%20%20%20%0A%0A%20%20%20%20%20%20%20%20marker_4e89dde4949d47b5bf9e836bb041e078.bindPopup%28popup_fee223c69db2467895e546ab3ff7419f%29%0A%20%20%20%20%20%20%20%20%3B%0A%0A%20%20%20%20%20%20%20%20%0A%20%20%20%20%0A%20%20%20%20%0A%20%20%20%20%20%20%20%20%20%20%20%20var%20marker_447b44142b30450b9143d9596caaa11f%20%3D%20L.marker%28%0A%20%20%20%20%20%20%20%20%20%20%20%20%20%20%20%20%5B52.1927885%2C%20-1.7063668%5D%2C%0A%20%20%20%20%20%20%20%20%20%20%20%20%20%20%20%20%7B%7D%0A%20%20%20%20%20%20%20%20%20%20%20%20%29.addTo%28map_c500bf5564674204b2d88a2fec68cadd%29%3B%0A%20%20%20%20%20%20%20%20%0A%20%20%20%20%0A%20%20%20%20%20%20%20%20var%20popup_8c6414e1cb034897bd7e69c1677f8b72%20%3D%20L.popup%28%7B%22maxWidth%22%3A%20%22100%25%22%7D%29%3B%0A%0A%20%20%20%20%20%20%20%20%0A%20%20%20%20%20%20%20%20%20%20%20%20var%20html_42204a6ea1424688be2e668696f54c08%20%3D%20%24%28%60%3Cdiv%20id%3D%22html_42204a6ea1424688be2e668696f54c08%22%20style%3D%22width%3A%20100.0%25%3B%20height%3A%20100.0%25%3B%22%3EStratford%3C/div%3E%60%29%5B0%5D%3B%0A%20%20%20%20%20%20%20%20%20%20%20%20popup_8c6414e1cb034897bd7e69c1677f8b72.setContent%28html_42204a6ea1424688be2e668696f54c08%29%3B%0A%20%20%20%20%20%20%20%20%0A%0A%20%20%20%20%20%20%20%20marker_447b44142b30450b9143d9596caaa11f.bindPopup%28popup_8c6414e1cb034897bd7e69c1677f8b72%29%0A%20%20%20%20%20%20%20%20%3B%0A%0A%20%20%20%20%20%20%20%20%0A%20%20%20%20%0A%20%20%20%20%0A%20%20%20%20%20%20%20%20%20%20%20%20var%20marker_a947388ff26444b5a92a6c29ec5d4a0a%20%3D%20L.marker%28%0A%20%20%20%20%20%20%20%20%20%20%20%20%20%20%20%20%5B51.5351062%2C%200.0339842%5D%2C%0A%20%20%20%20%20%20%20%20%20%20%20%20%20%20%20%20%7B%7D%0A%20%20%20%20%20%20%20%20%20%20%20%20%29.addTo%28map_c500bf5564674204b2d88a2fec68cadd%29%3B%0A%20%20%20%20%20%20%20%20%0A%20%20%20%20%0A%20%20%20%20%20%20%20%20var%20popup_f8265c880ae044eca8438460d6db693c%20%3D%20L.popup%28%7B%22maxWidth%22%3A%20%22100%25%22%7D%29%3B%0A%0A%20%20%20%20%20%20%20%20%0A%20%20%20%20%20%20%20%20%20%20%20%20var%20html_74237316a5b0420c88b41b23daf99aa4%20%3D%20%24%28%60%3Cdiv%20id%3D%22html_74237316a5b0420c88b41b23daf99aa4%22%20style%3D%22width%3A%20100.0%25%3B%20height%3A%20100.0%25%3B%22%3EUpton%20Park%3C/div%3E%60%29%5B0%5D%3B%0A%20%20%20%20%20%20%20%20%20%20%20%20popup_f8265c880ae044eca8438460d6db693c.setContent%28html_74237316a5b0420c88b41b23daf99aa4%29%3B%0A%20%20%20%20%20%20%20%20%0A%0A%20%20%20%20%20%20%20%20marker_a947388ff26444b5a92a6c29ec5d4a0a.bindPopup%28popup_f8265c880ae044eca8438460d6db693c%29%0A%20%20%20%20%20%20%20%20%3B%0A%0A%20%20%20%20%20%20%20%20%0A%20%20%20%20%0A%20%20%20%20%0A%20%20%20%20%20%20%20%20%20%20%20%20var%20marker_551c250e17c24a26bc77b71a105a28c0%20%3D%20L.marker%28%0A%20%20%20%20%20%20%20%20%20%20%20%20%20%20%20%20%5B51.5355384%2C%200.0643107%5D%2C%0A%20%20%20%20%20%20%20%20%20%20%20%20%20%20%20%20%7B%7D%0A%20%20%20%20%20%20%20%20%20%20%20%20%29.addTo%28map_c500bf5564674204b2d88a2fec68cadd%29%3B%0A%20%20%20%20%20%20%20%20%0A%20%20%20%20%0A%20%20%20%20%20%20%20%20var%20popup_a84e1efb16d94dbab1d12039200b175c%20%3D%20L.popup%28%7B%22maxWidth%22%3A%20%22100%25%22%7D%29%3B%0A%0A%20%20%20%20%20%20%20%20%0A%20%20%20%20%20%20%20%20%20%20%20%20var%20html_c146cbfc4bcb448296374bf876a68804%20%3D%20%24%28%60%3Cdiv%20id%3D%22html_c146cbfc4bcb448296374bf876a68804%22%20style%3D%22width%3A%20100.0%25%3B%20height%3A%20100.0%25%3B%22%3EWallend%3C/div%3E%60%29%5B0%5D%3B%0A%20%20%20%20%20%20%20%20%20%20%20%20popup_a84e1efb16d94dbab1d12039200b175c.setContent%28html_c146cbfc4bcb448296374bf876a68804%29%3B%0A%20%20%20%20%20%20%20%20%0A%0A%20%20%20%20%20%20%20%20marker_551c250e17c24a26bc77b71a105a28c0.bindPopup%28popup_a84e1efb16d94dbab1d12039200b175c%29%0A%20%20%20%20%20%20%20%20%3B%0A%0A%20%20%20%20%20%20%20%20%0A%20%20%20%20%0A%20%20%20%20%0A%20%20%20%20%20%20%20%20%20%20%20%20var%20marker_cd814b7b6cbf4911a92305104b2cfa0f%20%3D%20L.marker%28%0A%20%20%20%20%20%20%20%20%20%20%20%20%20%20%20%20%5B51.5280966%2C%200.0045685%5D%2C%0A%20%20%20%20%20%20%20%20%20%20%20%20%20%20%20%20%7B%7D%0A%20%20%20%20%20%20%20%20%20%20%20%20%29.addTo%28map_c500bf5564674204b2d88a2fec68cadd%29%3B%0A%20%20%20%20%20%20%20%20%0A%20%20%20%20%0A%20%20%20%20%20%20%20%20var%20popup_7a5bccd13da041128ed0d59dbd1bd8a2%20%3D%20L.popup%28%7B%22maxWidth%22%3A%20%22100%25%22%7D%29%3B%0A%0A%20%20%20%20%20%20%20%20%0A%20%20%20%20%20%20%20%20%20%20%20%20var%20html_a9a4d6659d5745f999d3787eea52af8e%20%3D%20%24%28%60%3Cdiv%20id%3D%22html_a9a4d6659d5745f999d3787eea52af8e%22%20style%3D%22width%3A%20100.0%25%3B%20height%3A%20100.0%25%3B%22%3EWest%20Ham%3C/div%3E%60%29%5B0%5D%3B%0A%20%20%20%20%20%20%20%20%20%20%20%20popup_7a5bccd13da041128ed0d59dbd1bd8a2.setContent%28html_a9a4d6659d5745f999d3787eea52af8e%29%3B%0A%20%20%20%20%20%20%20%20%0A%0A%20%20%20%20%20%20%20%20marker_cd814b7b6cbf4911a92305104b2cfa0f.bindPopup%28popup_7a5bccd13da041128ed0d59dbd1bd8a2%29%0A%20%20%20%20%20%20%20%20%3B%0A%0A%20%20%20%20%20%20%20%20%0A%20%20%20%20%0A%3C/script%3E onload=\"this.contentDocument.open();this.contentDocument.write(    decodeURIComponent(this.getAttribute('data-html')));this.contentDocument.close();\" allowfullscreen webkitallowfullscreen mozallowfullscreen></iframe></div></div>",
                        "text/plain": "<folium.folium.Map at 0x7f05cb8f4250>"
                    },
                    "execution_count": 23,
                    "metadata": {},
                    "output_type": "execute_result"
                }
            ],
            "source": "map = folium.Map(location=[51.5460532, 0.0059223], zoom_start=11)\nfor point in range(0, len(locationlist)):\n    folium.Marker(locationlist[point], popup=df_coord['Neighborhood'][point]).add_to(map)\nmap"
        },
        {
            "cell_type": "markdown",
            "metadata": {},
            "source": "Next, we are going to start utilizing the Foursquare API to explore the neighborhoods and segment them."
        },
        {
            "cell_type": "markdown",
            "metadata": {},
            "source": "### Define Foursquare Credentials and Version"
        },
        {
            "cell_type": "markdown",
            "metadata": {},
            "source": "To make calls to the Foursquare API, you need to register and get your credentials to use here as client id and client secret.\n"
        },
        {
            "cell_type": "code",
            "execution_count": 34,
            "metadata": {},
            "outputs": [],
            "source": "# The code was removed by Watson Studio for sharing."
        },
        {
            "cell_type": "markdown",
            "metadata": {},
            "source": "### We can now explore the first neighborhood in our dataframe."
        },
        {
            "cell_type": "markdown",
            "metadata": {},
            "source": "Get the neighborhood's name."
        },
        {
            "cell_type": "code",
            "execution_count": 35,
            "metadata": {},
            "outputs": [
                {
                    "data": {
                        "text/plain": "'Beckton'"
                    },
                    "execution_count": 35,
                    "metadata": {},
                    "output_type": "execute_result"
                }
            ],
            "source": "df_coord.loc[0, 'Neighborhood']"
        },
        {
            "cell_type": "markdown",
            "metadata": {},
            "source": "Get the neighborhood's latitude and longitude values"
        },
        {
            "cell_type": "code",
            "execution_count": 36,
            "metadata": {},
            "outputs": [
                {
                    "name": "stdout",
                    "output_type": "stream",
                    "text": "Latitude and longitude values of Beckton are 51.5160797, 0.0594257.\n"
                }
            ],
            "source": "neighborhood_latitude = df_coord.loc[0, 'Latitude'] # neighborhood latitude value\nneighborhood_longitude = df_coord.loc[0, 'Longitude'] # neighborhood longitude value\n\nneighborhood_name = df_coord.loc[0, 'Neighborhood'] # neighborhood name\n\nprint('Latitude and longitude values of {} are {}, {}.'.format(neighborhood_name, \n                                                               neighborhood_latitude, \n                                                               neighborhood_longitude))"
        },
        {
            "cell_type": "markdown",
            "metadata": {},
            "source": "#### Now, let's get the top 100 venues that are in Beckton within a radius of 500 meters"
        },
        {
            "cell_type": "markdown",
            "metadata": {},
            "source": "First, let's create the GET request URL. Name your URL url"
        },
        {
            "cell_type": "code",
            "execution_count": 37,
            "metadata": {},
            "outputs": [
                {
                    "data": {
                        "text/plain": "'https://api.foursquare.com/v2/venues/explore?client_id=VR2R4MBCL2535OVY5FBQIFRKOZEG1DSOT5YMD5VT23Q4VZTO&client_secret=VXGRGIDRWNUANNGMCLXLW23Z454DHPHBYXJD4POBG3VMZBTM&ll=51.5160797,0.0594257&v=20180605&radius=500&limit=100'"
                    },
                    "execution_count": 37,
                    "metadata": {},
                    "output_type": "execute_result"
                }
            ],
            "source": "url = 'https://api.foursquare.com/v2/venues/explore?client_id={}&client_secret={}&ll={},{}&v={}&radius={}&limit={}'.format(\"VR2R4MBCL2535OVY5FBQIFRKOZEG1DSOT5YMD5VT23Q4VZTO\", \"VXGRGIDRWNUANNGMCLXLW23Z454DHPHBYXJD4POBG3VMZBTM\", 51.5160797, 0.0594257, \"20180605\", 500, 100)\nurl"
        },
        {
            "cell_type": "markdown",
            "metadata": {},
            "source": "Let's Send the GET request and examine the resutls"
        },
        {
            "cell_type": "code",
            "execution_count": 38,
            "metadata": {},
            "outputs": [
                {
                    "data": {
                        "text/plain": "{'meta': {'code': 200, 'requestId': '5fff193c1c80e062c55ae577'},\n 'response': {'suggestedFilters': {'header': 'Tap to show:',\n   'filters': [{'name': 'Open now', 'key': 'openNow'}]},\n  'headerLocation': 'Beckton',\n  'headerFullLocation': 'Beckton, London',\n  'headerLocationGranularity': 'neighborhood',\n  'totalResults': 14,\n  'suggestedBounds': {'ne': {'lat': 51.5205797045, 'lng': 0.06664350286675196},\n   'sw': {'lat': 51.5115796955, 'lng': 0.05220789713324805}},\n  'groups': [{'type': 'Recommended Places',\n    'name': 'recommended',\n    'items': [{'reasons': {'count': 0,\n       'items': [{'summary': 'This spot is popular',\n         'type': 'general',\n         'reasonName': 'globalInteractionReason'}]},\n      'venue': {'id': '4e0c524018a89ad010688d2b',\n       'name': 'East london Gymnastics Club',\n       'location': {'lat': 51.514106774737556,\n        'lng': 0.060155068624099396,\n        'labeledLatLngs': [{'label': 'display',\n          'lat': 51.514106774737556,\n          'lng': 0.060155068624099396}],\n        'distance': 225,\n        'cc': 'GB',\n        'city': 'East Ham',\n        'state': 'Greater London',\n        'country': 'United Kingdom',\n        'formattedAddress': ['East Ham', 'Greater London', 'United Kingdom']},\n       'categories': [{'id': '4bf58dd8d48988d175941735',\n         'name': 'Gym / Fitness Center',\n         'pluralName': 'Gyms or Fitness Centers',\n         'shortName': 'Gym / Fitness',\n         'icon': {'prefix': 'https://ss3.4sqi.net/img/categories_v2/building/gym_',\n          'suffix': '.png'},\n         'primary': True}],\n       'photos': {'count': 0, 'groups': []}},\n      'referralId': 'e-0-4e0c524018a89ad010688d2b-0'},\n     {'reasons': {'count': 0,\n       'items': [{'summary': 'This spot is popular',\n         'type': 'general',\n         'reasonName': 'globalInteractionReason'}]},\n      'venue': {'id': '52cecf5711d25db28fc70b17',\n       'name': 'Home Bargains',\n       'location': {'address': 'Alpine Way',\n        'lat': 51.51679042,\n        'lng': 0.06296727,\n        'labeledLatLngs': [{'label': 'display',\n          'lat': 51.51679042,\n          'lng': 0.06296727}],\n        'distance': 257,\n        'postalCode': 'E6 6LA',\n        'cc': 'GB',\n        'city': 'London',\n        'state': 'Greater London',\n        'country': 'United Kingdom',\n        'formattedAddress': ['Alpine Way',\n         'London',\n         'Greater London',\n         'E6 6LA',\n         'United Kingdom']},\n       'categories': [{'id': '52dea92d3cf9994f4e043dbb',\n         'name': 'Discount Store',\n         'pluralName': 'Discount Stores',\n         'shortName': 'Discount Store',\n         'icon': {'prefix': 'https://ss3.4sqi.net/img/categories_v2/shops/discountstore_',\n          'suffix': '.png'},\n         'primary': True}],\n       'photos': {'count': 0, 'groups': []},\n       'venuePage': {'id': '581496163'}},\n      'referralId': 'e-0-52cecf5711d25db28fc70b17-1'},\n     {'reasons': {'count': 0,\n       'items': [{'summary': 'This spot is popular',\n         'type': 'general',\n         'reasonName': 'globalInteractionReason'}]},\n      'venue': {'id': '4c1cebdd63750f479f49b767',\n       'name': 'Lidl',\n       'location': {'address': '198 Tollgate Road',\n        'lat': 51.5159821485833,\n        'lng': 0.0547944427853471,\n        'labeledLatLngs': [{'label': 'display',\n          'lat': 51.5159821485833,\n          'lng': 0.0547944427853471}],\n        'distance': 321,\n        'postalCode': 'E6 5YA',\n        'cc': 'GB',\n        'city': 'Beckton',\n        'state': 'Greater London',\n        'country': 'United Kingdom',\n        'formattedAddress': ['198 Tollgate Road',\n         'Beckton',\n         'Greater London',\n         'E6 5YA',\n         'United Kingdom']},\n       'categories': [{'id': '52f2ab2ebcbc57f1066b8b46',\n         'name': 'Supermarket',\n         'pluralName': 'Supermarkets',\n         'shortName': 'Supermarket',\n         'icon': {'prefix': 'https://ss3.4sqi.net/img/categories_v2/shops/food_grocery_',\n          'suffix': '.png'},\n         'primary': True}],\n       'photos': {'count': 0, 'groups': []},\n       'venuePage': {'id': '545901242'}},\n      'referralId': 'e-0-4c1cebdd63750f479f49b767-2'},\n     {'reasons': {'count': 0,\n       'items': [{'summary': 'This spot is popular',\n         'type': 'general',\n         'reasonName': 'globalInteractionReason'}]},\n      'venue': {'id': '4cd462e4886cb60c1bcb7d89',\n       'name': 'Lituanica',\n       'location': {'address': 'Alpine Way (Unit 4C, Beckton Retail Park)',\n        'lat': 51.51644209755886,\n        'lng': 0.06292681188810904,\n        'labeledLatLngs': [{'label': 'display',\n          'lat': 51.51644209755886,\n          'lng': 0.06292681188810904}],\n        'distance': 245,\n        'postalCode': 'E6 6LA',\n        'cc': 'GB',\n        'city': 'London',\n        'state': 'Greater London',\n        'country': 'United Kingdom',\n        'formattedAddress': ['Alpine Way (Unit 4C, Beckton Retail Park)',\n         'London',\n         'Greater London',\n         'E6 6LA',\n         'United Kingdom']},\n       'categories': [{'id': '4bf58dd8d48988d118951735',\n         'name': 'Grocery Store',\n         'pluralName': 'Grocery Stores',\n         'shortName': 'Grocery Store',\n         'icon': {'prefix': 'https://ss3.4sqi.net/img/categories_v2/shops/food_grocery_',\n          'suffix': '.png'},\n         'primary': True}],\n       'photos': {'count': 0, 'groups': []}},\n      'referralId': 'e-0-4cd462e4886cb60c1bcb7d89-3'},\n     {'reasons': {'count': 0,\n       'items': [{'summary': 'This spot is popular',\n         'type': 'general',\n         'reasonName': 'globalInteractionReason'}]},\n      'venue': {'id': '4bbed90a98f4952177d8d163',\n       'name': 'Premier Inn London Beckton',\n       'location': {'address': '1 Woolwich Manor Way, Beckton',\n        'crossStreet': '1 Woolwich Manor Way',\n        'lat': 51.5151514,\n        'lng': 0.0610129,\n        'labeledLatLngs': [{'label': 'display',\n          'lat': 51.5151514,\n          'lng': 0.0610129}],\n        'distance': 150,\n        'postalCode': 'E6 5NT',\n        'cc': 'GB',\n        'city': 'London',\n        'country': 'United Kingdom',\n        'formattedAddress': ['1 Woolwich Manor Way, Beckton (1 Woolwich Manor Way)',\n         'London',\n         'E6 5NT',\n         'United Kingdom']},\n       'categories': [{'id': '4bf58dd8d48988d1fa931735',\n         'name': 'Hotel',\n         'pluralName': 'Hotels',\n         'shortName': 'Hotel',\n         'icon': {'prefix': 'https://ss3.4sqi.net/img/categories_v2/travel/hotel_',\n          'suffix': '.png'},\n         'primary': True}],\n       'photos': {'count': 0, 'groups': []}},\n      'referralId': 'e-0-4bbed90a98f4952177d8d163-4'},\n     {'reasons': {'count': 0,\n       'items': [{'summary': 'This spot is popular',\n         'type': 'general',\n         'reasonName': 'globalInteractionReason'}]},\n      'venue': {'id': '4bc884f68b7c9c74a73e38cf',\n       'name': 'Asda',\n       'location': {'address': 'Tollgate Road',\n        'lat': 51.514727,\n        'lng': 0.0579989,\n        'labeledLatLngs': [{'label': 'display',\n          'lat': 51.514727,\n          'lng': 0.0579989}],\n        'distance': 180,\n        'postalCode': 'E6 5JP',\n        'cc': 'GB',\n        'city': 'Beckton',\n        'state': 'Greater London',\n        'country': 'United Kingdom',\n        'formattedAddress': ['Tollgate Road',\n         'Beckton',\n         'Greater London',\n         'E6 5JP',\n         'United Kingdom']},\n       'categories': [{'id': '52f2ab2ebcbc57f1066b8b46',\n         'name': 'Supermarket',\n         'pluralName': 'Supermarkets',\n         'shortName': 'Supermarket',\n         'icon': {'prefix': 'https://ss3.4sqi.net/img/categories_v2/shops/food_grocery_',\n          'suffix': '.png'},\n         'primary': True}],\n       'photos': {'count': 0, 'groups': []}},\n      'referralId': 'e-0-4bc884f68b7c9c74a73e38cf-5'},\n     {'reasons': {'count': 0,\n       'items': [{'summary': 'This spot is popular',\n         'type': 'general',\n         'reasonName': 'globalInteractionReason'}]},\n      'venue': {'id': '4d19d3f3bb488cfa0407c0d4',\n       'name': 'Beckton Bus Station',\n       'location': {'address': 'Frobisher Rd',\n        'lat': 51.514281473441265,\n        'lng': 0.05928414550633196,\n        'labeledLatLngs': [{'label': 'display',\n          'lat': 51.514281473441265,\n          'lng': 0.05928414550633196}],\n        'distance': 200,\n        'postalCode': 'E6',\n        'cc': 'GB',\n        'city': 'London',\n        'state': 'Greater London',\n        'country': 'United Kingdom',\n        'formattedAddress': ['Frobisher Rd',\n         'London',\n         'Greater London',\n         'E6',\n         'United Kingdom']},\n       'categories': [{'id': '4bf58dd8d48988d1fe931735',\n         'name': 'Bus Station',\n         'pluralName': 'Bus Stations',\n         'shortName': 'Bus Station',\n         'icon': {'prefix': 'https://ss3.4sqi.net/img/categories_v2/travel/busstation_',\n          'suffix': '.png'},\n         'primary': True}],\n       'photos': {'count': 0, 'groups': []}},\n      'referralId': 'e-0-4d19d3f3bb488cfa0407c0d4-6'},\n     {'reasons': {'count': 0,\n       'items': [{'summary': 'This spot is popular',\n         'type': 'general',\n         'reasonName': 'globalInteractionReason'}]},\n      'venue': {'id': '5e36a34819838a00081302f0',\n       'name': \"Delvina's T-Ssss\",\n       'location': {'address': 'Gallions reach',\n        'lat': 51.5172831812252,\n        'lng': 0.0570100477463029,\n        'labeledLatLngs': [{'label': 'display',\n          'lat': 51.5172831812252,\n          'lng': 0.0570100477463029}],\n        'distance': 214,\n        'postalCode': 'E6 5XS',\n        'cc': 'GB',\n        'city': 'Beckton',\n        'state': 'Greater London',\n        'country': 'United Kingdom',\n        'formattedAddress': ['Gallions reach',\n         'Beckton',\n         'Greater London',\n         'E6 5XS',\n         'United Kingdom']},\n       'categories': [{'id': '5453de49498eade8af355881',\n         'name': 'Business Service',\n         'pluralName': 'Business Services',\n         'shortName': 'Business Services',\n         'icon': {'prefix': 'https://ss3.4sqi.net/img/categories_v2/building/default_',\n          'suffix': '.png'},\n         'primary': True}],\n       'photos': {'count': 0, 'groups': []}},\n      'referralId': 'e-0-5e36a34819838a00081302f0-7'},\n     {'reasons': {'count': 0,\n       'items': [{'summary': 'This spot is popular',\n         'type': 'general',\n         'reasonName': 'globalInteractionReason'}]},\n      'venue': {'id': '50228c58e4b057124f4b1b58',\n       'name': 'Matalan',\n       'location': {'address': '8 Alpine Way',\n        'lat': 51.5160037,\n        'lng': 0.0626349,\n        'labeledLatLngs': [{'label': 'display',\n          'lat': 51.5160037,\n          'lng': 0.0626349}],\n        'distance': 222,\n        'postalCode': 'E6 6LA',\n        'cc': 'GB',\n        'city': 'Beckton',\n        'state': 'Greater London',\n        'country': 'United Kingdom',\n        'formattedAddress': ['8 Alpine Way',\n         'Beckton',\n         'Greater London',\n         'E6 6LA',\n         'United Kingdom']},\n       'categories': [{'id': '4bf58dd8d48988d103951735',\n         'name': 'Clothing Store',\n         'pluralName': 'Clothing Stores',\n         'shortName': 'Apparel',\n         'icon': {'prefix': 'https://ss3.4sqi.net/img/categories_v2/shops/apparel_',\n          'suffix': '.png'},\n         'primary': True}],\n       'photos': {'count': 0, 'groups': []},\n       'venuePage': {'id': '538715972'}},\n      'referralId': 'e-0-50228c58e4b057124f4b1b58-8'},\n     {'reasons': {'count': 0,\n       'items': [{'summary': 'This spot is popular',\n         'type': 'general',\n         'reasonName': 'globalInteractionReason'}]},\n      'venue': {'id': '4cee7f6d0acea35d33ebe9ae',\n       'name': 'Beckton Retail Park',\n       'location': {'address': '9 Alpine Way',\n        'lat': 51.517122,\n        'lng': 0.062234,\n        'labeledLatLngs': [{'label': 'display',\n          'lat': 51.517122,\n          'lng': 0.062234}],\n        'distance': 226,\n        'postalCode': 'E6 6LA',\n        'cc': 'GB',\n        'city': 'Beckton',\n        'state': 'Greater London',\n        'country': 'United Kingdom',\n        'formattedAddress': ['9 Alpine Way',\n         'Beckton',\n         'Greater London',\n         'E6 6LA',\n         'United Kingdom']},\n       'categories': [{'id': '5744ccdfe4b0c0459246b4dc',\n         'name': 'Shopping Plaza',\n         'pluralName': 'Shopping Plazas',\n         'shortName': 'Shopping Plaza',\n         'icon': {'prefix': 'https://ss3.4sqi.net/img/categories_v2/shops/mall_',\n          'suffix': '.png'},\n         'primary': True}],\n       'photos': {'count': 0, 'groups': []}},\n      'referralId': 'e-0-4cee7f6d0acea35d33ebe9ae-9'},\n     {'reasons': {'count': 0,\n       'items': [{'summary': 'This spot is popular',\n         'type': 'general',\n         'reasonName': 'globalInteractionReason'}]},\n      'venue': {'id': '4f942748e4b04c0c9f9862d0',\n       'name': 'Dreams',\n       'location': {'address': 'Beckton Retail Park, Alpine Way, Beckton',\n        'lat': 51.5163666,\n        'lng': 0.0627099,\n        'labeledLatLngs': [{'label': 'display',\n          'lat': 51.5163666,\n          'lng': 0.0627099}],\n        'distance': 229,\n        'postalCode': 'E6 6LA',\n        'cc': 'GB',\n        'city': 'Beckton',\n        'state': 'Greater London',\n        'country': 'United Kingdom',\n        'formattedAddress': ['Beckton Retail Park, Alpine Way, Beckton',\n         'Beckton',\n         'Greater London',\n         'E6 6LA',\n         'United Kingdom']},\n       'categories': [{'id': '4bf58dd8d48988d1f8941735',\n         'name': 'Furniture / Home Store',\n         'pluralName': 'Furniture / Home Stores',\n         'shortName': 'Furniture / Home',\n         'icon': {'prefix': 'https://ss3.4sqi.net/img/categories_v2/shops/furniture_',\n          'suffix': '.png'},\n         'primary': True}],\n       'photos': {'count': 0, 'groups': []}},\n      'referralId': 'e-0-4f942748e4b04c0c9f9862d0-10'},\n     {'reasons': {'count': 0,\n       'items': [{'summary': 'This spot is popular',\n         'type': 'general',\n         'reasonName': 'globalInteractionReason'}]},\n      'venue': {'id': '4bf69e4cbfeac92898a19436',\n       'name': 'Beckton DLR Station',\n       'location': {'address': 'Woolwich Manor Way',\n        'lat': 51.51436463106562,\n        'lng': 0.061460137367248535,\n        'labeledLatLngs': [{'label': 'display',\n          'lat': 51.51436463106562,\n          'lng': 0.061460137367248535}],\n        'distance': 237,\n        'postalCode': 'E6 5NT',\n        'cc': 'GB',\n        'city': 'Beckton',\n        'state': 'Greater London',\n        'country': 'United Kingdom',\n        'formattedAddress': ['Woolwich Manor Way',\n         'Beckton',\n         'Greater London',\n         'E6 5NT',\n         'United Kingdom']},\n       'categories': [{'id': '4bf58dd8d48988d1fc931735',\n         'name': 'Light Rail Station',\n         'pluralName': 'Light Rail Stations',\n         'shortName': 'Light Rail',\n         'icon': {'prefix': 'https://ss3.4sqi.net/img/categories_v2/travel/lightrail_',\n          'suffix': '.png'},\n         'primary': True}],\n       'photos': {'count': 0, 'groups': []}},\n      'referralId': 'e-0-4bf69e4cbfeac92898a19436-11'},\n     {'reasons': {'count': 0,\n       'items': [{'summary': 'This spot is popular',\n         'type': 'general',\n         'reasonName': 'globalInteractionReason'}]},\n      'venue': {'id': '4c07fc177e3fc928ea98ef82',\n       'name': 'Winsor House',\n       'location': {'address': '1 Woolwich Manor Way',\n        'lat': 51.51481196163808,\n        'lng': 0.06086126705726321,\n        'labeledLatLngs': [{'label': 'display',\n          'lat': 51.51481196163808,\n          'lng': 0.06086126705726321}],\n        'distance': 172,\n        'postalCode': 'E6 5NT',\n        'cc': 'GB',\n        'city': 'Beckton',\n        'state': 'Greater London',\n        'country': 'United Kingdom',\n        'formattedAddress': ['1 Woolwich Manor Way',\n         'Beckton',\n         'Greater London',\n         'E6 5NT',\n         'United Kingdom']},\n       'categories': [{'id': '4bf58dd8d48988d11b941735',\n         'name': 'Pub',\n         'pluralName': 'Pubs',\n         'shortName': 'Pub',\n         'icon': {'prefix': 'https://ss3.4sqi.net/img/categories_v2/nightlife/pub_',\n          'suffix': '.png'},\n         'primary': True}],\n       'photos': {'count': 0, 'groups': []}},\n      'referralId': 'e-0-4c07fc177e3fc928ea98ef82-12'},\n     {'reasons': {'count': 0,\n       'items': [{'summary': 'This spot is popular',\n         'type': 'general',\n         'reasonName': 'globalInteractionReason'}]},\n      'venue': {'id': '4d9acf669298b1f7a51b4938',\n       'name': 'west ham community',\n       'location': {'address': 'alabatross close',\n        'lat': 51.5195359805384,\n        'lng': 0.05834360012689803,\n        'labeledLatLngs': [{'label': 'display',\n          'lat': 51.5195359805384,\n          'lng': 0.05834360012689803}],\n        'distance': 391,\n        'postalCode': 'e5',\n        'cc': 'GB',\n        'country': 'United Kingdom',\n        'formattedAddress': ['alabatross close', 'e5', 'United Kingdom']},\n       'categories': [{'id': '4cce455aebf7b749d5e191f5',\n         'name': 'Soccer Field',\n         'pluralName': 'Soccer Fields',\n         'shortName': 'Soccer Field',\n         'icon': {'prefix': 'https://ss3.4sqi.net/img/categories_v2/arts_entertainment/stadium_soccer_',\n          'suffix': '.png'},\n         'primary': True}],\n       'photos': {'count': 0, 'groups': []}},\n      'referralId': 'e-0-4d9acf669298b1f7a51b4938-13'}]}]}}"
                    },
                    "execution_count": 38,
                    "metadata": {},
                    "output_type": "execute_result"
                }
            ],
            "source": "results = requests.get(url).json()\nresults"
        },
        {
            "cell_type": "markdown",
            "metadata": {},
            "source": "Lets define the get_category_type function"
        },
        {
            "cell_type": "code",
            "execution_count": 39,
            "metadata": {},
            "outputs": [],
            "source": "# function that extracts the category of the venue\ndef get_category_type(row):\n    try:\n        categories_list = row['categories']\n    except:\n        categories_list = row['venue.categories']\n        \n    if len(categories_list) == 0:\n        return None\n    else:\n        return categories_list[0]['name']"
        },
        {
            "cell_type": "markdown",
            "metadata": {},
            "source": "Now we are ready to clean the json and structure it into a pandas dataframe"
        },
        {
            "cell_type": "code",
            "execution_count": 40,
            "metadata": {},
            "outputs": [
                {
                    "name": "stderr",
                    "output_type": "stream",
                    "text": "/opt/conda/envs/Python-3.7-main/lib/python3.7/site-packages/ipykernel/__main__.py:3: FutureWarning: pandas.io.json.json_normalize is deprecated, use pandas.json_normalize instead\n  app.launch_new_instance()\n"
                },
                {
                    "data": {
                        "text/html": "<div>\n<style scoped>\n    .dataframe tbody tr th:only-of-type {\n        vertical-align: middle;\n    }\n\n    .dataframe tbody tr th {\n        vertical-align: top;\n    }\n\n    .dataframe thead th {\n        text-align: right;\n    }\n</style>\n<table border=\"1\" class=\"dataframe\">\n  <thead>\n    <tr style=\"text-align: right;\">\n      <th></th>\n      <th>name</th>\n      <th>categories</th>\n      <th>lat</th>\n      <th>lng</th>\n    </tr>\n  </thead>\n  <tbody>\n    <tr>\n      <th>0</th>\n      <td>East london Gymnastics Club</td>\n      <td>Gym / Fitness Center</td>\n      <td>51.514107</td>\n      <td>0.060155</td>\n    </tr>\n    <tr>\n      <th>1</th>\n      <td>Home Bargains</td>\n      <td>Discount Store</td>\n      <td>51.516790</td>\n      <td>0.062967</td>\n    </tr>\n    <tr>\n      <th>2</th>\n      <td>Lidl</td>\n      <td>Supermarket</td>\n      <td>51.515982</td>\n      <td>0.054794</td>\n    </tr>\n    <tr>\n      <th>3</th>\n      <td>Lituanica</td>\n      <td>Grocery Store</td>\n      <td>51.516442</td>\n      <td>0.062927</td>\n    </tr>\n    <tr>\n      <th>4</th>\n      <td>Premier Inn London Beckton</td>\n      <td>Hotel</td>\n      <td>51.515151</td>\n      <td>0.061013</td>\n    </tr>\n  </tbody>\n</table>\n</div>",
                        "text/plain": "                          name            categories        lat       lng\n0  East london Gymnastics Club  Gym / Fitness Center  51.514107  0.060155\n1                Home Bargains        Discount Store  51.516790  0.062967\n2                         Lidl           Supermarket  51.515982  0.054794\n3                    Lituanica         Grocery Store  51.516442  0.062927\n4   Premier Inn London Beckton                 Hotel  51.515151  0.061013"
                    },
                    "execution_count": 40,
                    "metadata": {},
                    "output_type": "execute_result"
                }
            ],
            "source": "venues = results['response']['groups'][0]['items']\n    \nnearby_venues = json_normalize(venues) # flatten JSON\n\n# filter columns\nfiltered_columns = ['venue.name', 'venue.categories', 'venue.location.lat', 'venue.location.lng']\nnearby_venues =nearby_venues.loc[:, filtered_columns]\n\n# filter the category for each row\nnearby_venues['venue.categories'] = nearby_venues.apply(get_category_type, axis=1)\n\n# clean columns\nnearby_venues.columns = [col.split(\".\")[-1] for col in nearby_venues.columns]\n\nnearby_venues.head()"
        },
        {
            "cell_type": "code",
            "execution_count": 41,
            "metadata": {},
            "outputs": [
                {
                    "name": "stdout",
                    "output_type": "stream",
                    "text": "14 venues were returned by Foursquare.\n"
                }
            ],
            "source": "print('{} venues were returned by Foursquare.'.format(nearby_venues.shape[0]))"
        },
        {
            "cell_type": "markdown",
            "metadata": {},
            "source": "## 2 Explore Neighborhoods in Newham"
        },
        {
            "cell_type": "markdown",
            "metadata": {},
            "source": "### Now we create a function to repeat the same process to all the neighborhoods in Manhattan"
        },
        {
            "cell_type": "code",
            "execution_count": 42,
            "metadata": {},
            "outputs": [],
            "source": "def getNearbyVenues(names, latitudes, longitudes, radius=500):\n    \n    venues_list=[]\n    for name, lat, lng in zip(names, latitudes, longitudes):\n        print(name)\n            \n        # create the API request URL\n        url = 'https://api.foursquare.com/v2/venues/explore?&client_id={}&client_secret={}&v={}&ll={},{}&radius={}&limit={}'.format(\n            CLIENT_ID, \n            CLIENT_SECRET, \n            VERSION, \n            lat, \n            lng, \n            radius, \n            LIMIT)\n            \n        # make the GET request\n        results = requests.get(url).json()[\"response\"]['groups'][0]['items']\n        \n        # return only relevant information for each nearby venue\n        venues_list.append([(\n            name, \n            lat, \n            lng, \n            v['venue']['name'], \n            v['venue']['location']['lat'], \n            v['venue']['location']['lng'],  \n            v['venue']['categories'][0]['name']) for v in results])\n\n    nearby_venues = pd.DataFrame([item for venue_list in venues_list for item in venue_list])\n    nearby_venues.columns = ['Neighborhood', \n                  'Neighborhood Latitude', \n                  'Neighborhood Longitude', \n                  'Venue', \n                  'Venue Latitude', \n                  'Venue Longitude', \n                  'Venue Category']\n    \n    return(nearby_venues)"
        },
        {
            "cell_type": "markdown",
            "metadata": {},
            "source": "#### Now write the code to run the above function on each neighborhood and create a new dataframe called newham_venues."
        },
        {
            "cell_type": "code",
            "execution_count": 43,
            "metadata": {},
            "outputs": [
                {
                    "name": "stdout",
                    "output_type": "stream",
                    "text": "Beckton\nCanning Town\nCyprus\nEast Ham\nEast Village\nForest Gate\nManor Park\nMaryland\nNorth Woolwich\nPlashet\nSilvertown\nStratford\nUpton Park\nWallend\nWest Ham\n"
                }
            ],
            "source": "newham_venues = getNearbyVenues(names=df_coord['Neighborhood'],\n                                   latitudes=df_coord['Latitude'],\n                                   longitudes=df_coord['Longitude']\n                                  )"
        },
        {
            "cell_type": "markdown",
            "metadata": {},
            "source": "### Let's check the size of the resulting dataframe"
        },
        {
            "cell_type": "code",
            "execution_count": 44,
            "metadata": {},
            "outputs": [
                {
                    "name": "stdout",
                    "output_type": "stream",
                    "text": "(248, 7)\n"
                },
                {
                    "data": {
                        "text/html": "<div>\n<style scoped>\n    .dataframe tbody tr th:only-of-type {\n        vertical-align: middle;\n    }\n\n    .dataframe tbody tr th {\n        vertical-align: top;\n    }\n\n    .dataframe thead th {\n        text-align: right;\n    }\n</style>\n<table border=\"1\" class=\"dataframe\">\n  <thead>\n    <tr style=\"text-align: right;\">\n      <th></th>\n      <th>Neighborhood</th>\n      <th>Neighborhood Latitude</th>\n      <th>Neighborhood Longitude</th>\n      <th>Venue</th>\n      <th>Venue Latitude</th>\n      <th>Venue Longitude</th>\n      <th>Venue Category</th>\n    </tr>\n  </thead>\n  <tbody>\n    <tr>\n      <th>0</th>\n      <td>Beckton</td>\n      <td>51.51608</td>\n      <td>0.059426</td>\n      <td>East london Gymnastics Club</td>\n      <td>51.514107</td>\n      <td>0.060155</td>\n      <td>Gym / Fitness Center</td>\n    </tr>\n    <tr>\n      <th>1</th>\n      <td>Beckton</td>\n      <td>51.51608</td>\n      <td>0.059426</td>\n      <td>Home Bargains</td>\n      <td>51.516790</td>\n      <td>0.062967</td>\n      <td>Discount Store</td>\n    </tr>\n    <tr>\n      <th>2</th>\n      <td>Beckton</td>\n      <td>51.51608</td>\n      <td>0.059426</td>\n      <td>Lidl</td>\n      <td>51.515982</td>\n      <td>0.054794</td>\n      <td>Supermarket</td>\n    </tr>\n    <tr>\n      <th>3</th>\n      <td>Beckton</td>\n      <td>51.51608</td>\n      <td>0.059426</td>\n      <td>Lituanica</td>\n      <td>51.516442</td>\n      <td>0.062927</td>\n      <td>Grocery Store</td>\n    </tr>\n    <tr>\n      <th>4</th>\n      <td>Beckton</td>\n      <td>51.51608</td>\n      <td>0.059426</td>\n      <td>Premier Inn London Beckton</td>\n      <td>51.515151</td>\n      <td>0.061013</td>\n      <td>Hotel</td>\n    </tr>\n  </tbody>\n</table>\n</div>",
                        "text/plain": "  Neighborhood  Neighborhood Latitude  Neighborhood Longitude  \\\n0      Beckton               51.51608                0.059426   \n1      Beckton               51.51608                0.059426   \n2      Beckton               51.51608                0.059426   \n3      Beckton               51.51608                0.059426   \n4      Beckton               51.51608                0.059426   \n\n                         Venue  Venue Latitude  Venue Longitude  \\\n0  East london Gymnastics Club       51.514107         0.060155   \n1                Home Bargains       51.516790         0.062967   \n2                         Lidl       51.515982         0.054794   \n3                    Lituanica       51.516442         0.062927   \n4   Premier Inn London Beckton       51.515151         0.061013   \n\n         Venue Category  \n0  Gym / Fitness Center  \n1        Discount Store  \n2           Supermarket  \n3         Grocery Store  \n4                 Hotel  "
                    },
                    "execution_count": 44,
                    "metadata": {},
                    "output_type": "execute_result"
                }
            ],
            "source": "print(newham_venues.shape)\nnewham_venues.head()"
        },
        {
            "cell_type": "markdown",
            "metadata": {},
            "source": "### Let's check how many venues were returned for each neighborhood"
        },
        {
            "cell_type": "code",
            "execution_count": 45,
            "metadata": {},
            "outputs": [
                {
                    "data": {
                        "text/html": "<div>\n<style scoped>\n    .dataframe tbody tr th:only-of-type {\n        vertical-align: middle;\n    }\n\n    .dataframe tbody tr th {\n        vertical-align: top;\n    }\n\n    .dataframe thead th {\n        text-align: right;\n    }\n</style>\n<table border=\"1\" class=\"dataframe\">\n  <thead>\n    <tr style=\"text-align: right;\">\n      <th></th>\n      <th>Neighborhood Latitude</th>\n      <th>Neighborhood Longitude</th>\n      <th>Venue</th>\n      <th>Venue Latitude</th>\n      <th>Venue Longitude</th>\n      <th>Venue Category</th>\n    </tr>\n    <tr>\n      <th>Neighborhood</th>\n      <th></th>\n      <th></th>\n      <th></th>\n      <th></th>\n      <th></th>\n      <th></th>\n    </tr>\n  </thead>\n  <tbody>\n    <tr>\n      <th>Beckton</th>\n      <td>14</td>\n      <td>14</td>\n      <td>14</td>\n      <td>14</td>\n      <td>14</td>\n      <td>14</td>\n    </tr>\n    <tr>\n      <th>Canning Town</th>\n      <td>28</td>\n      <td>28</td>\n      <td>28</td>\n      <td>28</td>\n      <td>28</td>\n      <td>28</td>\n    </tr>\n    <tr>\n      <th>Cyprus</th>\n      <td>4</td>\n      <td>4</td>\n      <td>4</td>\n      <td>4</td>\n      <td>4</td>\n      <td>4</td>\n    </tr>\n    <tr>\n      <th>East Ham</th>\n      <td>12</td>\n      <td>12</td>\n      <td>12</td>\n      <td>12</td>\n      <td>12</td>\n      <td>12</td>\n    </tr>\n    <tr>\n      <th>East Village</th>\n      <td>43</td>\n      <td>43</td>\n      <td>43</td>\n      <td>43</td>\n      <td>43</td>\n      <td>43</td>\n    </tr>\n    <tr>\n      <th>Forest Gate</th>\n      <td>12</td>\n      <td>12</td>\n      <td>12</td>\n      <td>12</td>\n      <td>12</td>\n      <td>12</td>\n    </tr>\n    <tr>\n      <th>Manor Park</th>\n      <td>14</td>\n      <td>14</td>\n      <td>14</td>\n      <td>14</td>\n      <td>14</td>\n      <td>14</td>\n    </tr>\n    <tr>\n      <th>Maryland</th>\n      <td>26</td>\n      <td>26</td>\n      <td>26</td>\n      <td>26</td>\n      <td>26</td>\n      <td>26</td>\n    </tr>\n    <tr>\n      <th>North Woolwich</th>\n      <td>4</td>\n      <td>4</td>\n      <td>4</td>\n      <td>4</td>\n      <td>4</td>\n      <td>4</td>\n    </tr>\n    <tr>\n      <th>Plashet</th>\n      <td>6</td>\n      <td>6</td>\n      <td>6</td>\n      <td>6</td>\n      <td>6</td>\n      <td>6</td>\n    </tr>\n    <tr>\n      <th>Silvertown</th>\n      <td>7</td>\n      <td>7</td>\n      <td>7</td>\n      <td>7</td>\n      <td>7</td>\n      <td>7</td>\n    </tr>\n    <tr>\n      <th>Stratford</th>\n      <td>49</td>\n      <td>49</td>\n      <td>49</td>\n      <td>49</td>\n      <td>49</td>\n      <td>49</td>\n    </tr>\n    <tr>\n      <th>Upton Park</th>\n      <td>12</td>\n      <td>12</td>\n      <td>12</td>\n      <td>12</td>\n      <td>12</td>\n      <td>12</td>\n    </tr>\n    <tr>\n      <th>Wallend</th>\n      <td>7</td>\n      <td>7</td>\n      <td>7</td>\n      <td>7</td>\n      <td>7</td>\n      <td>7</td>\n    </tr>\n    <tr>\n      <th>West Ham</th>\n      <td>10</td>\n      <td>10</td>\n      <td>10</td>\n      <td>10</td>\n      <td>10</td>\n      <td>10</td>\n    </tr>\n  </tbody>\n</table>\n</div>",
                        "text/plain": "                Neighborhood Latitude  Neighborhood Longitude  Venue  \\\nNeighborhood                                                           \nBeckton                            14                      14     14   \nCanning Town                       28                      28     28   \nCyprus                              4                       4      4   \nEast Ham                           12                      12     12   \nEast Village                       43                      43     43   \nForest Gate                        12                      12     12   \nManor Park                         14                      14     14   \nMaryland                           26                      26     26   \nNorth Woolwich                      4                       4      4   \nPlashet                             6                       6      6   \nSilvertown                          7                       7      7   \nStratford                          49                      49     49   \nUpton Park                         12                      12     12   \nWallend                             7                       7      7   \nWest Ham                           10                      10     10   \n\n                Venue Latitude  Venue Longitude  Venue Category  \nNeighborhood                                                     \nBeckton                     14               14              14  \nCanning Town                28               28              28  \nCyprus                       4                4               4  \nEast Ham                    12               12              12  \nEast Village                43               43              43  \nForest Gate                 12               12              12  \nManor Park                  14               14              14  \nMaryland                    26               26              26  \nNorth Woolwich               4                4               4  \nPlashet                      6                6               6  \nSilvertown                   7                7               7  \nStratford                   49               49              49  \nUpton Park                  12               12              12  \nWallend                      7                7               7  \nWest Ham                    10               10              10  "
                    },
                    "execution_count": 45,
                    "metadata": {},
                    "output_type": "execute_result"
                }
            ],
            "source": "newham_venues.groupby('Neighborhood').count()"
        },
        {
            "cell_type": "markdown",
            "metadata": {},
            "source": "### Let's find out how many unique categories can be curated from all the returned venues"
        },
        {
            "cell_type": "code",
            "execution_count": null,
            "metadata": {},
            "outputs": [],
            "source": "print('There are {} uniques categories.'.format(len(newham_venues['Venue Category'].unique())))"
        },
        {
            "cell_type": "markdown",
            "metadata": {},
            "source": "## 3. Analyze Each Neighborhood"
        },
        {
            "cell_type": "markdown",
            "metadata": {},
            "source": "#### Here we apply one hot encoding to all the venues. So now the number of columns becomes 100"
        },
        {
            "cell_type": "code",
            "execution_count": null,
            "metadata": {},
            "outputs": [],
            "source": "# one hot encoding\nnewham_onehot = pd.get_dummies(newham_venues[['Venue Category']], prefix=\"\", prefix_sep=\"\")\n\n# add neighborhood column back to dataframe\nnewham_onehot['Neighborhood'] = newham_venues['Neighborhood'] \n\n# move neighborhood column to the first column\nfixed_columns = [newham_onehot.columns[-1]] + list(newham_onehot.columns[:-1])\nnewham_onehot = newham_onehot[fixed_columns]\n\nnewham_onehot.head()"
        },
        {
            "cell_type": "markdown",
            "metadata": {},
            "source": "#### And let's examine the new dataframe size."
        },
        {
            "cell_type": "code",
            "execution_count": null,
            "metadata": {},
            "outputs": [],
            "source": "newham_onehot.shape"
        },
        {
            "cell_type": "code",
            "execution_count": null,
            "metadata": {},
            "outputs": [],
            "source": "len((newham_onehot[newham_onehot[\"Shopping Plaza\"] > 0]))"
        },
        {
            "cell_type": "code",
            "execution_count": null,
            "metadata": {},
            "outputs": [],
            "source": "len((newham_onehot[newham_onehot[\"Shopping Mall\"] > 0]))"
        },
        {
            "cell_type": "markdown",
            "metadata": {},
            "source": "### Next, let's group rows by neighborhood and by taking the mean of the frequency of occurrence of each category"
        },
        {
            "cell_type": "code",
            "execution_count": null,
            "metadata": {},
            "outputs": [],
            "source": "grouped_newham = newham_onehot.groupby('Neighborhood').mean().reset_index()\ngrouped_newham"
        },
        {
            "cell_type": "markdown",
            "metadata": {},
            "source": "### Let's print each neighborhood along with the top 10 most common venues"
        },
        {
            "cell_type": "code",
            "execution_count": null,
            "metadata": {},
            "outputs": [],
            "source": "top_venues = 10\n\nfor hood in grouped_newham['Neighborhood']:\n    print(\"----\"+hood+\"----\")\n    temp = grouped_newham[grouped_newham['Neighborhood'] == hood].T.reset_index()\n    temp.columns = ['venue','freq']\n    temp = temp.iloc[1:]\n    temp['freq'] = temp['freq'].astype(float)\n    temp = temp.round({'freq': 2})\n    print(temp.sort_values('freq', ascending=False).reset_index(drop=True).head(top_venues))\n    print('\\n')"
        },
        {
            "cell_type": "markdown",
            "metadata": {},
            "source": "### let's write a function to sort the venues in descending order."
        },
        {
            "cell_type": "code",
            "execution_count": null,
            "metadata": {},
            "outputs": [],
            "source": "def return_most_common_venues(row, top_venues):\n    row_categories = row.iloc[1:]\n    row_categories_sorted = row_categories.sort_values(ascending=False)\n    \n    return row_categories_sorted.index.values[0:top_venues]"
        },
        {
            "cell_type": "markdown",
            "metadata": {},
            "source": "### Now let's create the new dataframe and display the top 10 venues for each neighborhood."
        },
        {
            "cell_type": "code",
            "execution_count": null,
            "metadata": {},
            "outputs": [],
            "source": "top_venues = 10\n\nindicators = ['st', 'nd', 'rd']\n\n# create columns according to number of top venues\ncolumns = ['Neighborhood']\nfor ind in np.arange(top_venues):\n    try:\n        columns.append('{}{} Most Common Venue'.format(ind+1, indicators[ind]))\n    except:\n        columns.append('{}th Most Common Venue'.format(ind+1))\n\n# create a new dataframe\nsorted_neighborhoods_venues = pd.DataFrame(columns=columns)\nsorted_neighborhoods_venues['Neighborhood'] = grouped_newham['Neighborhood']\n\nfor ind in np.arange(grouped_newham.shape[0]):\n    sorted_neighborhoods_venues.iloc[ind, 1:] = return_most_common_venues(grouped_newham.iloc[ind, :], top_venues)\n\nsorted_neighborhoods_venues.head()"
        },
        {
            "cell_type": "markdown",
            "metadata": {},
            "source": "## 4. Cluster Neighborhoods"
        },
        {
            "cell_type": "markdown",
            "metadata": {},
            "source": "#### Lets use k-means to cluster the neighborhood into 5 clusters"
        },
        {
            "cell_type": "code",
            "execution_count": null,
            "metadata": {},
            "outputs": [],
            "source": "# set number of clusters\nkclusters = 5\n\ngrouped_newham_clustering = grouped_newham.drop('Neighborhood', 1)\n\n# run k-means clustering\nkmeans = KMeans(n_clusters=kclusters, random_state=0).fit(grouped_newham_clustering)\n\n# check cluster labels generated for each row in the dataframe\nkmeans.labels_[0:10]"
        },
        {
            "cell_type": "code",
            "execution_count": null,
            "metadata": {},
            "outputs": [],
            "source": "kmeans"
        },
        {
            "cell_type": "markdown",
            "metadata": {},
            "source": "### Creating a new dataframe that includes the cluster as well as the top 10 venues for each neighborhood"
        },
        {
            "cell_type": "code",
            "execution_count": null,
            "metadata": {},
            "outputs": [],
            "source": "# add clustering labels\nsorted_neighborhoods_venues.insert(0, 'Cluster Labels', kmeans.labels_)\n\nnewham_merged = df_coord\n\n# merge manhattan_grouped with manhattan_data to add latitude/longitude for each neighborhood\nnewham_merged = newham_merged.join(sorted_neighborhoods_venues.set_index('Neighborhood'), on='Neighborhood')\n\nnewham_merged.head() # check the last columns!"
        },
        {
            "cell_type": "markdown",
            "metadata": {},
            "source": "### Finally, let's visualize the resulting clusters"
        },
        {
            "cell_type": "code",
            "execution_count": null,
            "metadata": {},
            "outputs": [],
            "source": "# create map\nmap_clusters = folium.Map(location=[51.5460532, 0.0059223], zoom_start=11)\n\n# set color scheme for the clusters\nx = np.arange(kclusters)\nys = [i + x + (i*x)**2 for i in range(kclusters)]\ncolors_array = cm.rainbow(np.linspace(0, 1, len(ys)))\nrainbow = [colors.rgb2hex(i) for i in colors_array]\n\n# add markers to the map\nmarkers_colors = []\nfor lat, lon, poi, cluster in zip(newham_merged['Latitude'], newham_merged['Longitude'], newham_merged['Neighborhood'], newham_merged['Cluster Labels']):\n    label = folium.Popup(str(poi) + ' Cluster ' + str(cluster), parse_html=True)\n    folium.CircleMarker(\n        [lat, lon],\n        radius=5,\n        popup=label,\n        color=rainbow[cluster-1],\n        fill=True,\n        fill_color=rainbow[cluster-1],\n        fill_opacity=0.7).add_to(map_clusters)\n       \nmap_clusters"
        },
        {
            "cell_type": "markdown",
            "metadata": {},
            "source": "## 5. Examine Clusters"
        },
        {
            "cell_type": "code",
            "execution_count": null,
            "metadata": {},
            "outputs": [],
            "source": "newham_merged.loc[newham_merged['Cluster Labels']== 0, newham_merged.columns[[0] + list(range(5, newham_merged.shape[1]))]]"
        },
        {
            "cell_type": "code",
            "execution_count": null,
            "metadata": {},
            "outputs": [],
            "source": "newham_merged.loc[newham_merged['Cluster Labels']== 1, newham_merged.columns[[0] + list(range(5, newham_merged.shape[1]))]]"
        },
        {
            "cell_type": "code",
            "execution_count": null,
            "metadata": {},
            "outputs": [],
            "source": "newham_merged.loc[newham_merged['Cluster Labels']== 2, newham_merged.columns[[0] + list(range(5, newham_merged.shape[1]))]]"
        },
        {
            "cell_type": "code",
            "execution_count": null,
            "metadata": {},
            "outputs": [],
            "source": "newham_merged.loc[newham_merged['Cluster Labels']== 3, newham_merged.columns[[0] + list(range(5, newham_merged.shape[1]))]]"
        },
        {
            "cell_type": "code",
            "execution_count": null,
            "metadata": {},
            "outputs": [],
            "source": "newham_merged.loc[newham_merged['Cluster Labels']== 4, newham_merged.columns[[0] + list(range(5, newham_merged.shape[1]))]]"
        },
        {
            "cell_type": "markdown",
            "metadata": {},
            "source": "### Results"
        },
        {
            "cell_type": "markdown",
            "metadata": {},
            "source": "### Let's examine the 5 clusters"
        },
        {
            "cell_type": "markdown",
            "metadata": {},
            "source": "Cluster 0 and Cluster 3 has got neighborhoods with at least one Shopping Plazza which is the same as Shopping Mall"
        },
        {
            "cell_type": "markdown",
            "metadata": {},
            "source": "Cluster 0: This cluster has got Shopping Plazza in Beckton neighborhood."
        },
        {
            "cell_type": "markdown",
            "metadata": {},
            "source": "Cluster 3: This cluster has got a Shopping Mall in Plashet neighborhood"
        },
        {
            "cell_type": "markdown",
            "metadata": {},
            "source": "But cluster 1, cluster 2 and cluster 4 results shows neighborhoods without shopping plazza or shopping mall present in those clusters."
        },
        {
            "cell_type": "markdown",
            "metadata": {},
            "source": "## Conclusion"
        },
        {
            "cell_type": "markdown",
            "metadata": {},
            "source": "I would recomend the prospective project developers to think about opening shopping malls or shopping plazzas in neighborhoods where there is non present. Another benefit of capitalizing in these neighborhoods is because their will be no competition from existing malls, if not very little."
        },
        {
            "cell_type": "code",
            "execution_count": null,
            "metadata": {},
            "outputs": [],
            "source": ""
        }
    ],
    "metadata": {
        "kernelspec": {
            "display_name": "Python 3.7",
            "language": "python",
            "name": "python3"
        },
        "language_info": {
            "codemirror_mode": {
                "name": "ipython",
                "version": 3
            },
            "file_extension": ".py",
            "mimetype": "text/x-python",
            "name": "python",
            "nbconvert_exporter": "python",
            "pygments_lexer": "ipython3",
            "version": "3.7.9"
        }
    },
    "nbformat": 4,
    "nbformat_minor": 1
}